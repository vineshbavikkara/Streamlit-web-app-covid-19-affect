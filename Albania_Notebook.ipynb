{
 "cells": [
  {
   "cell_type": "code",
   "execution_count": 1,
   "metadata": {},
   "outputs": [],
   "source": [
    "import numpy as np\n",
    "import pandas as pd\n",
    "Albania = pd.read_stata(\"C:\\\\Users\\\\HP\\\\Desktop\\\\Albania_removed_missing_values.dta\")"
   ]
  },
  {
   "cell_type": "code",
   "execution_count": 2,
   "metadata": {},
   "outputs": [
    {
     "data": {
      "text/plain": [
       "(347, 86)"
      ]
     },
     "execution_count": 2,
     "metadata": {},
     "output_type": "execute_result"
    }
   ],
   "source": [
    "Albania.shape"
   ]
  },
  {
   "cell_type": "code",
   "execution_count": 3,
   "metadata": {},
   "outputs": [
    {
     "data": {
      "text/plain": [
       "Index(['index', 'idstd', 'id', 'a1', 'countryx', 'a1a', 'mode', 'a0',\n",
       "       'COVa20d', 'COVa20m', 'COVa20y', 'COVa20m_1', 'COVb0', 'COVb1a',\n",
       "       'COVb1b', 'COVb2a', 'COVb2b', 'COVb2c', 'COVb3a', 'COVb3b', 'COVb3c',\n",
       "       'COVb4', 'COVc3', 'COVc1', 'COVc2a', 'COVc2b', 'COVc2c', 'COVc4a',\n",
       "       'COVc4b', 'COVc4c', 'COVc5', 'COVc6', 'COVd0a', 'COVd0b', 'COVd1',\n",
       "       'COVd2', 'COVd3b', 'COVd4', 'COVd5', 'COVd6', 'COVd7', 'COVd8', 'COVd9',\n",
       "       'COVe1a', 'COVe1b', 'COVe1c', 'COVe2', 'COVe3a', 'COVe3b', 'COVe3c',\n",
       "       'COVe4', 'COVe5', 'COVf1', 'COVf2a', 'COVf2b', 'COVf2c', 'COVf2d',\n",
       "       'COVf2e', 'COVf2f', 'COVf2fx', 'COVg1', 'COVg2', 'COVg3', 'COVg4',\n",
       "       'COVh1ay', 'COVh1am', 'COVh2a', 'COVh2b', 'COVh2c', 'COVh2d', 'COVh2e',\n",
       "       'COVh2f', 'COVh3', 'a21x', 'a22', 'a22online', 'a23', 'a24', 'a25',\n",
       "       'a26', 'eligibilitycode', 'statuscode', 'strata', 'wmedian_ES',\n",
       "       'wmedian_COVID', 'wweak_COVID'],\n",
       "      dtype='object')"
      ]
     },
     "execution_count": 3,
     "metadata": {},
     "output_type": "execute_result"
    }
   ],
   "source": [
    "Albania.columns"
   ]
  },
  {
   "cell_type": "code",
   "execution_count": 4,
   "metadata": {},
   "outputs": [],
   "source": [
    "Albania.drop(['index','idstd', 'id', 'a1', 'countryx', 'a1a', 'mode',\n",
    "              'COVa20d', 'COVa20m', 'COVa20y', 'COVa20m_1', \n",
    "              'COVb2b', 'COVb2c', 'COVb3a', 'COVc1', 'COVc5', 'COVc6', 'COVd0a', 'COVd0b', 'COVd1',\n",
    "              'COVd2', 'COVd4', 'COVd5', 'COVd6', 'COVd7', 'COVd8', 'COVd9',\n",
    "              'COVe3a', 'COVe3b', 'COVe3c','COVe4', 'COVe5', 'COVf2b','COVf2d',\n",
    "              'COVf2e', 'COVf2f', 'COVf2fx', 'COVg1', 'COVg2', 'COVg3', 'COVg4',\n",
    "              'COVh1ay', 'COVh1am', 'COVh2a', 'COVh2b', 'COVh2c', 'COVh2d', 'COVh2e',\n",
    "              'COVh2f', 'COVh3', 'a21x', 'a22', 'a22online', 'a23', 'a24', 'a25',\n",
    "              'a26', 'eligibilitycode', 'statuscode', 'strata', 'wmedian_ES',\n",
    "              'wmedian_COVID', 'wweak_COVID'],axis=1,inplace=True)"
   ]
  },
  {
   "cell_type": "code",
   "execution_count": 5,
   "metadata": {},
   "outputs": [
    {
     "data": {
      "text/plain": [
       "(347, 23)"
      ]
     },
     "execution_count": 5,
     "metadata": {},
     "output_type": "execute_result"
    }
   ],
   "source": [
    "Albania.shape"
   ]
  },
  {
   "cell_type": "code",
   "execution_count": 6,
   "metadata": {},
   "outputs": [
    {
     "name": "stdout",
     "output_type": "stream",
     "text": [
      "<class 'pandas.core.frame.DataFrame'>\n",
      "Int64Index: 347 entries, 0 to 346\n",
      "Data columns (total 23 columns):\n",
      " #   Column  Non-Null Count  Dtype   \n",
      "---  ------  --------------  -----   \n",
      " 0   a0      347 non-null    category\n",
      " 1   COVb0   347 non-null    category\n",
      " 2   COVb1a  300 non-null    category\n",
      " 3   COVb1b  222 non-null    category\n",
      " 4   COVb2a  344 non-null    category\n",
      " 5   COVb3b  344 non-null    category\n",
      " 6   COVb3c  344 non-null    category\n",
      " 7   COVb4   344 non-null    category\n",
      " 8   COVc3   344 non-null    category\n",
      " 9   COVc2a  344 non-null    category\n",
      " 10  COVc2b  344 non-null    category\n",
      " 11  COVc2c  344 non-null    category\n",
      " 12  COVc4a  344 non-null    category\n",
      " 13  COVc4b  344 non-null    category\n",
      " 14  COVc4c  344 non-null    category\n",
      " 15  COVd3b  344 non-null    category\n",
      " 16  COVe1a  344 non-null    category\n",
      " 17  COVe1b  344 non-null    category\n",
      " 18  COVe1c  344 non-null    category\n",
      " 19  COVe2   241 non-null    category\n",
      " 20  COVf1   344 non-null    category\n",
      " 21  COVf2a  144 non-null    category\n",
      " 22  COVf2c  144 non-null    category\n",
      "dtypes: category(23)\n",
      "memory usage: 15.6 KB\n"
     ]
    }
   ],
   "source": [
    "Albania.info()"
   ]
  },
  {
   "cell_type": "code",
   "execution_count": 7,
   "metadata": {},
   "outputs": [],
   "source": [
    "Albania.drop(['COVb1b','COVe2','COVf2a','COVf2c'],axis = 1,inplace = True)"
   ]
  },
  {
   "cell_type": "code",
   "execution_count": 8,
   "metadata": {},
   "outputs": [
    {
     "name": "stdout",
     "output_type": "stream",
     "text": [
      "<class 'pandas.core.frame.DataFrame'>\n",
      "Int64Index: 347 entries, 0 to 346\n",
      "Data columns (total 19 columns):\n",
      " #   Column  Non-Null Count  Dtype   \n",
      "---  ------  --------------  -----   \n",
      " 0   a0      347 non-null    category\n",
      " 1   COVb0   347 non-null    category\n",
      " 2   COVb1a  300 non-null    category\n",
      " 3   COVb2a  344 non-null    category\n",
      " 4   COVb3b  344 non-null    category\n",
      " 5   COVb3c  344 non-null    category\n",
      " 6   COVb4   344 non-null    category\n",
      " 7   COVc3   344 non-null    category\n",
      " 8   COVc2a  344 non-null    category\n",
      " 9   COVc2b  344 non-null    category\n",
      " 10  COVc2c  344 non-null    category\n",
      " 11  COVc4a  344 non-null    category\n",
      " 12  COVc4b  344 non-null    category\n",
      " 13  COVc4c  344 non-null    category\n",
      " 14  COVd3b  344 non-null    category\n",
      " 15  COVe1a  344 non-null    category\n",
      " 16  COVe1b  344 non-null    category\n",
      " 17  COVe1c  344 non-null    category\n",
      " 18  COVf1   344 non-null    category\n",
      "dtypes: category(19)\n",
      "memory usage: 12.9 KB\n"
     ]
    }
   ],
   "source": [
    "Albania.info()"
   ]
  },
  {
   "cell_type": "code",
   "execution_count": 9,
   "metadata": {},
   "outputs": [
    {
     "data": {
      "text/plain": [
       "a0         0\n",
       "COVb0      0\n",
       "COVb1a    47\n",
       "COVb2a     3\n",
       "COVb3b     3\n",
       "COVb3c     3\n",
       "COVb4      3\n",
       "COVc3      3\n",
       "COVc2a     3\n",
       "COVc2b     3\n",
       "COVc2c     3\n",
       "COVc4a     3\n",
       "COVc4b     3\n",
       "COVc4c     3\n",
       "COVd3b     3\n",
       "COVe1a     3\n",
       "COVe1b     3\n",
       "COVe1c     3\n",
       "COVf1      3\n",
       "dtype: int64"
      ]
     },
     "execution_count": 9,
     "metadata": {},
     "output_type": "execute_result"
    }
   ],
   "source": [
    "Albania.dropna(subset=[\"a0\"],how=\"any\",inplace = True)\n",
    "Albania.isnull().sum()"
   ]
  },
  {
   "cell_type": "code",
   "execution_count": 10,
   "metadata": {},
   "outputs": [
    {
     "data": {
      "text/plain": [
       "a0         0\n",
       "COVb0      0\n",
       "COVb1a    44\n",
       "COVb2a     0\n",
       "COVb3b     0\n",
       "COVb3c     0\n",
       "COVb4      0\n",
       "COVc3      0\n",
       "COVc2a     0\n",
       "COVc2b     0\n",
       "COVc2c     0\n",
       "COVc4a     0\n",
       "COVc4b     0\n",
       "COVc4c     0\n",
       "COVd3b     0\n",
       "COVe1a     0\n",
       "COVe1b     0\n",
       "COVe1c     0\n",
       "COVf1      0\n",
       "dtype: int64"
      ]
     },
     "execution_count": 10,
     "metadata": {},
     "output_type": "execute_result"
    }
   ],
   "source": [
    "Albania.dropna(subset=['COVb1a', 'COVb2a', 'COVb3b', 'COVb3c', 'COVb4', 'COVc3',\n",
    "       'COVc2a', 'COVc2b', 'COVc2c', 'COVc4a', 'COVc4b', 'COVc4c', 'COVd3b',\n",
    "       'COVe1a', 'COVe1b', 'COVe1c', 'COVf1'],how=\"all\",inplace = True)\n",
    "Albania.isnull().sum()"
   ]
  },
  {
   "cell_type": "code",
   "execution_count": 11,
   "metadata": {},
   "outputs": [],
   "source": [
    "Albania.to_stata(\"Albania_Final_Data.dta\")"
   ]
  },
  {
   "cell_type": "code",
   "execution_count": 12,
   "metadata": {},
   "outputs": [
    {
     "data": {
      "text/plain": [
       "(344, 19)"
      ]
     },
     "execution_count": 12,
     "metadata": {},
     "output_type": "execute_result"
    }
   ],
   "source": [
    "Albania.shape"
   ]
  },
  {
   "cell_type": "code",
   "execution_count": 13,
   "metadata": {},
   "outputs": [
    {
     "name": "stdout",
     "output_type": "stream",
     "text": [
      "<class 'pandas.core.frame.DataFrame'>\n",
      "Int64Index: 344 entries, 0 to 345\n",
      "Data columns (total 19 columns):\n",
      " #   Column  Non-Null Count  Dtype   \n",
      "---  ------  --------------  -----   \n",
      " 0   a0      344 non-null    category\n",
      " 1   COVb0   344 non-null    category\n",
      " 2   COVb1a  300 non-null    category\n",
      " 3   COVb2a  344 non-null    category\n",
      " 4   COVb3b  344 non-null    category\n",
      " 5   COVb3c  344 non-null    category\n",
      " 6   COVb4   344 non-null    category\n",
      " 7   COVc3   344 non-null    category\n",
      " 8   COVc2a  344 non-null    category\n",
      " 9   COVc2b  344 non-null    category\n",
      " 10  COVc2c  344 non-null    category\n",
      " 11  COVc4a  344 non-null    category\n",
      " 12  COVc4b  344 non-null    category\n",
      " 13  COVc4c  344 non-null    category\n",
      " 14  COVd3b  344 non-null    category\n",
      " 15  COVe1a  344 non-null    category\n",
      " 16  COVe1b  344 non-null    category\n",
      " 17  COVe1c  344 non-null    category\n",
      " 18  COVf1   344 non-null    category\n",
      "dtypes: category(19)\n",
      "memory usage: 12.8 KB\n"
     ]
    }
   ],
   "source": [
    "Albania.info()"
   ]
  },
  {
   "cell_type": "code",
   "execution_count": 14,
   "metadata": {},
   "outputs": [
    {
     "data": {
      "text/plain": [
       "Other services     141\n",
       "Manufacturing      131\n",
       "Retail services     72\n",
       "Name: a0, dtype: int64"
      ]
     },
     "execution_count": 14,
     "metadata": {},
     "output_type": "execute_result"
    }
   ],
   "source": [
    "Albania[\"a0\"].value_counts()"
   ]
  },
  {
   "cell_type": "code",
   "execution_count": 15,
   "metadata": {},
   "outputs": [
    {
     "data": {
      "text/plain": [
       "Open                  300\n",
       "Temporarily closed     44\n",
       "Permanently closed      0\n",
       "Name: COVb0, dtype: int64"
      ]
     },
     "execution_count": 15,
     "metadata": {},
     "output_type": "execute_result"
    }
   ],
   "source": [
    "Albania[\"COVb0\"].value_counts(dropna=False)"
   ]
  },
  {
   "cell_type": "code",
   "execution_count": 16,
   "metadata": {},
   "outputs": [
    {
     "data": {
      "text/html": [
       "<div>\n",
       "<style scoped>\n",
       "    .dataframe tbody tr th:only-of-type {\n",
       "        vertical-align: middle;\n",
       "    }\n",
       "\n",
       "    .dataframe tbody tr th {\n",
       "        vertical-align: top;\n",
       "    }\n",
       "\n",
       "    .dataframe thead th {\n",
       "        text-align: right;\n",
       "    }\n",
       "</style>\n",
       "<table border=\"1\" class=\"dataframe\">\n",
       "  <thead>\n",
       "    <tr style=\"text-align: right;\">\n",
       "      <th></th>\n",
       "      <th>a0</th>\n",
       "      <th>COVb0</th>\n",
       "      <th>COVb1a</th>\n",
       "      <th>COVb2a</th>\n",
       "      <th>COVb3b</th>\n",
       "      <th>COVb3c</th>\n",
       "      <th>COVb4</th>\n",
       "      <th>COVc3</th>\n",
       "      <th>COVc2a</th>\n",
       "      <th>COVc2b</th>\n",
       "      <th>COVc2c</th>\n",
       "      <th>COVc4a</th>\n",
       "      <th>COVc4b</th>\n",
       "      <th>COVc4c</th>\n",
       "      <th>COVd3b</th>\n",
       "      <th>COVe1a</th>\n",
       "      <th>COVe1b</th>\n",
       "      <th>COVe1c</th>\n",
       "      <th>COVf1</th>\n",
       "    </tr>\n",
       "  </thead>\n",
       "  <tbody>\n",
       "  </tbody>\n",
       "</table>\n",
       "</div>"
      ],
      "text/plain": [
       "Empty DataFrame\n",
       "Columns: [a0, COVb0, COVb1a, COVb2a, COVb3b, COVb3c, COVb4, COVc3, COVc2a, COVc2b, COVc2c, COVc4a, COVc4b, COVc4c, COVd3b, COVe1a, COVe1b, COVe1c, COVf1]\n",
       "Index: []"
      ]
     },
     "execution_count": 16,
     "metadata": {},
     "output_type": "execute_result"
    }
   ],
   "source": [
    "Albania[Albania[\"COVb0\"] == 'Permanently closed']"
   ]
  },
  {
   "cell_type": "code",
   "execution_count": 17,
   "metadata": {},
   "outputs": [
    {
     "data": {
      "text/plain": [
       "Yes    178\n",
       "No     122\n",
       "NaN     44\n",
       "Name: COVb1a, dtype: int64"
      ]
     },
     "execution_count": 17,
     "metadata": {},
     "output_type": "execute_result"
    }
   ],
   "source": [
    "Albania[\"COVb1a\"].value_counts(dropna=False)"
   ]
  },
  {
   "cell_type": "code",
   "execution_count": 18,
   "metadata": {},
   "outputs": [
    {
     "data": {
      "text/plain": [
       "Decrease                    286\n",
       "Remain the same              34\n",
       "Increase                     23\n",
       "Don't know (spontaneous)      1\n",
       "Name: COVb2a, dtype: int64"
      ]
     },
     "execution_count": 18,
     "metadata": {},
     "output_type": "execute_result"
    }
   ],
   "source": [
    "Albania[\"COVb2a\"].value_counts(dropna=False)"
   ]
  },
  {
   "cell_type": "code",
   "execution_count": 19,
   "metadata": {},
   "outputs": [
    {
     "data": {
      "text/plain": [
       "[Decrease, Remain the same, Increase, Don't know (spontaneous)]\n",
       "Categories (4, object): [Don't know (spontaneous) < Increase < Remain the same < Decrease]"
      ]
     },
     "execution_count": 19,
     "metadata": {},
     "output_type": "execute_result"
    }
   ],
   "source": [
    "Albania[\"COVb2a\"].unique()"
   ]
  },
  {
   "cell_type": "code",
   "execution_count": 20,
   "metadata": {},
   "outputs": [
    {
     "data": {
      "text/html": [
       "<div>\n",
       "<style scoped>\n",
       "    .dataframe tbody tr th:only-of-type {\n",
       "        vertical-align: middle;\n",
       "    }\n",
       "\n",
       "    .dataframe tbody tr th {\n",
       "        vertical-align: top;\n",
       "    }\n",
       "\n",
       "    .dataframe thead th {\n",
       "        text-align: right;\n",
       "    }\n",
       "</style>\n",
       "<table border=\"1\" class=\"dataframe\">\n",
       "  <thead>\n",
       "    <tr style=\"text-align: right;\">\n",
       "      <th></th>\n",
       "      <th>a0</th>\n",
       "      <th>COVb0</th>\n",
       "      <th>COVb1a</th>\n",
       "      <th>COVb2a</th>\n",
       "      <th>COVb3b</th>\n",
       "      <th>COVb3c</th>\n",
       "      <th>COVb4</th>\n",
       "      <th>COVc3</th>\n",
       "      <th>COVc2a</th>\n",
       "      <th>COVc2b</th>\n",
       "      <th>COVc2c</th>\n",
       "      <th>COVc4a</th>\n",
       "      <th>COVc4b</th>\n",
       "      <th>COVc4c</th>\n",
       "      <th>COVd3b</th>\n",
       "      <th>COVe1a</th>\n",
       "      <th>COVe1b</th>\n",
       "      <th>COVe1c</th>\n",
       "      <th>COVf1</th>\n",
       "    </tr>\n",
       "  </thead>\n",
       "  <tbody>\n",
       "    <tr>\n",
       "      <th>216</th>\n",
       "      <td>Manufacturing</td>\n",
       "      <td>Temporarily closed</td>\n",
       "      <td>NaN</td>\n",
       "      <td>Don't know (spontaneous)</td>\n",
       "      <td>Don't know (spontaneous)</td>\n",
       "      <td>Don't know (spontaneous)</td>\n",
       "      <td>Does not apply</td>\n",
       "      <td>No</td>\n",
       "      <td>Don't know (spontaneous)</td>\n",
       "      <td>Decrease</td>\n",
       "      <td>Decrease</td>\n",
       "      <td>No</td>\n",
       "      <td>No</td>\n",
       "      <td>No</td>\n",
       "      <td>Decrease</td>\n",
       "      <td>Decrease</td>\n",
       "      <td>Decrease</td>\n",
       "      <td>Decrease</td>\n",
       "      <td>No</td>\n",
       "    </tr>\n",
       "  </tbody>\n",
       "</table>\n",
       "</div>"
      ],
      "text/plain": [
       "                a0               COVb0 COVb1a                    COVb2a  \\\n",
       "216  Manufacturing  Temporarily closed    NaN  Don't know (spontaneous)   \n",
       "\n",
       "                       COVb3b                    COVb3c           COVb4 COVc3  \\\n",
       "216  Don't know (spontaneous)  Don't know (spontaneous)  Does not apply    No   \n",
       "\n",
       "                       COVc2a    COVc2b    COVc2c COVc4a COVc4b COVc4c  \\\n",
       "216  Don't know (spontaneous)  Decrease  Decrease     No     No     No   \n",
       "\n",
       "       COVd3b    COVe1a    COVe1b    COVe1c COVf1  \n",
       "216  Decrease  Decrease  Decrease  Decrease    No  "
      ]
     },
     "execution_count": 20,
     "metadata": {},
     "output_type": "execute_result"
    }
   ],
   "source": [
    "Albania[Albania[\"COVb2a\"]== \"Don't know (spontaneous)\"]"
   ]
  },
  {
   "cell_type": "code",
   "execution_count": 21,
   "metadata": {},
   "outputs": [],
   "source": [
    "Albania[\"COVb2a\"] = Albania[\"COVb2a\"].map({\"Don't know (spontaneous)\":np.NaN , \"Decrease\":\"Decrease\", \"Remain the same\":\"Remain the same\", \"Increase\":\"Increase\"})"
   ]
  },
  {
   "cell_type": "code",
   "execution_count": 22,
   "metadata": {},
   "outputs": [
    {
     "data": {
      "text/plain": [
       "Decrease           286\n",
       "Remain the same     34\n",
       "Increase            23\n",
       "NaN                  1\n",
       "Name: COVb2a, dtype: int64"
      ]
     },
     "execution_count": 22,
     "metadata": {},
     "output_type": "execute_result"
    }
   ],
   "source": [
    "Albania[\"COVb2a\"].value_counts(dropna=False)"
   ]
  },
  {
   "cell_type": "code",
   "execution_count": 23,
   "metadata": {},
   "outputs": [
    {
     "data": {
      "text/plain": [
       "0.0                         326\n",
       "Don't know (spontaneous)      4\n",
       "30.0                          3\n",
       "100.0                         2\n",
       "50.0                          2\n",
       "15.0                          2\n",
       "10.0                          2\n",
       "90.0                          1\n",
       "20.0                          1\n",
       "5.0                           1\n",
       "Name: COVb3b, dtype: int64"
      ]
     },
     "execution_count": 23,
     "metadata": {},
     "output_type": "execute_result"
    }
   ],
   "source": [
    "Albania[\"COVb3b\"].value_counts(dropna=False)"
   ]
  },
  {
   "cell_type": "code",
   "execution_count": 24,
   "metadata": {},
   "outputs": [
    {
     "data": {
      "text/plain": [
       "0.0                         326\n",
       "Don't know (spontaneous)      4\n",
       "30.0                          3\n",
       "100.0                         2\n",
       "50.0                          2\n",
       "15.0                          2\n",
       "10.0                          2\n",
       "90.0                          1\n",
       "20.0                          1\n",
       "5.0                           1\n",
       "Name: COVb3b, dtype: int64"
      ]
     },
     "execution_count": 24,
     "metadata": {},
     "output_type": "execute_result"
    }
   ],
   "source": [
    "Albania[\"COVb3b\"].value_counts()"
   ]
  },
  {
   "cell_type": "code",
   "execution_count": 25,
   "metadata": {},
   "outputs": [],
   "source": [
    "Albania.to_stata(\"Albu.dta\")"
   ]
  },
  {
   "cell_type": "code",
   "execution_count": 26,
   "metadata": {},
   "outputs": [],
   "source": [
    "Albania = Albania.replace(\"Don't know (spontaneous)\",np.NaN)"
   ]
  },
  {
   "cell_type": "code",
   "execution_count": 27,
   "metadata": {},
   "outputs": [
    {
     "data": {
      "text/plain": [
       "0.0      326\n",
       "NaN        4\n",
       "30.0       3\n",
       "100.0      2\n",
       "50.0       2\n",
       "15.0       2\n",
       "10.0       2\n",
       "90.0       1\n",
       "20.0       1\n",
       "5.0        1\n",
       "Name: COVb3b, dtype: int64"
      ]
     },
     "execution_count": 27,
     "metadata": {},
     "output_type": "execute_result"
    }
   ],
   "source": [
    "Albania[\"COVb3b\"].value_counts(dropna=False)"
   ]
  },
  {
   "cell_type": "code",
   "execution_count": null,
   "metadata": {},
   "outputs": [],
   "source": []
  },
  {
   "cell_type": "code",
   "execution_count": 28,
   "metadata": {},
   "outputs": [
    {
     "data": {
      "text/plain": [
       "0.0      326\n",
       "NaN        4\n",
       "30.0       3\n",
       "100.0      2\n",
       "50.0       2\n",
       "15.0       2\n",
       "10.0       2\n",
       "90.0       1\n",
       "20.0       1\n",
       "5.0        1\n",
       "Name: COVb3b, dtype: int64"
      ]
     },
     "execution_count": 28,
     "metadata": {},
     "output_type": "execute_result"
    }
   ],
   "source": [
    "Albania[\"COVb3b\"].value_counts(dropna=False)"
   ]
  },
  {
   "cell_type": "code",
   "execution_count": 29,
   "metadata": {},
   "outputs": [
    {
     "data": {
      "text/plain": [
       "0.0      258\n",
       "100.0     47\n",
       "50.0      11\n",
       "20.0       5\n",
       "NaN        4\n",
       "90.0       3\n",
       "10.0       3\n",
       "97.0       2\n",
       "30.0       2\n",
       "5.0        2\n",
       "85.0       1\n",
       "80.0       1\n",
       "70.0       1\n",
       "60.0       1\n",
       "45.0       1\n",
       "25.0       1\n",
       "15.0       1\n",
       "Name: COVb3c, dtype: int64"
      ]
     },
     "execution_count": 29,
     "metadata": {},
     "output_type": "execute_result"
    }
   ],
   "source": [
    "Albania[\"COVb3c\"].value_counts(dropna=False)"
   ]
  },
  {
   "cell_type": "code",
   "execution_count": 30,
   "metadata": {},
   "outputs": [
    {
     "data": {
      "text/plain": [
       "Does not apply     204\n",
       "Decrease            75\n",
       "Increase            45\n",
       "Remain the same     20\n",
       "Name: COVb4, dtype: int64"
      ]
     },
     "execution_count": 30,
     "metadata": {},
     "output_type": "execute_result"
    }
   ],
   "source": [
    "Albania[\"COVb4\"].value_counts(dropna=False)"
   ]
  },
  {
   "cell_type": "code",
   "execution_count": 31,
   "metadata": {},
   "outputs": [
    {
     "data": {
      "text/plain": [
       "Yes    249\n",
       "No      91\n",
       "NaN      4\n",
       "Name: COVc3, dtype: int64"
      ]
     },
     "execution_count": 31,
     "metadata": {},
     "output_type": "execute_result"
    }
   ],
   "source": [
    "Albania[\"COVc3\"].value_counts(dropna=False)"
   ]
  },
  {
   "cell_type": "code",
   "execution_count": 32,
   "metadata": {},
   "outputs": [
    {
     "data": {
      "text/plain": [
       "Decrease           168\n",
       "Remain the same    164\n",
       "Increase            10\n",
       "Name: COVc2a, dtype: int64"
      ]
     },
     "execution_count": 32,
     "metadata": {},
     "output_type": "execute_result"
    }
   ],
   "source": [
    "Albania[\"COVc2a\"].value_counts()"
   ]
  },
  {
   "cell_type": "code",
   "execution_count": 33,
   "metadata": {},
   "outputs": [
    {
     "data": {
      "text/plain": [
       "Decrease           235\n",
       "Remain the same     74\n",
       "Increase            33\n",
       "Name: COVc2b, dtype: int64"
      ]
     },
     "execution_count": 33,
     "metadata": {},
     "output_type": "execute_result"
    }
   ],
   "source": [
    "Albania[\"COVc2b\"].value_counts()"
   ]
  },
  {
   "cell_type": "code",
   "execution_count": 34,
   "metadata": {},
   "outputs": [
    {
     "data": {
      "text/plain": [
       "Decrease           218\n",
       "Remain the same     88\n",
       "Increase            30\n",
       "Name: COVc2c, dtype: int64"
      ]
     },
     "execution_count": 34,
     "metadata": {},
     "output_type": "execute_result"
    }
   ],
   "source": [
    "Albania[\"COVc2c\"].value_counts()"
   ]
  },
  {
   "cell_type": "code",
   "execution_count": 35,
   "metadata": {},
   "outputs": [
    {
     "data": {
      "text/plain": [
       "Yes    249\n",
       "No      91\n",
       "Name: COVc3, dtype: int64"
      ]
     },
     "execution_count": 35,
     "metadata": {},
     "output_type": "execute_result"
    }
   ],
   "source": [
    "Albania[\"COVc3\"].value_counts()"
   ]
  },
  {
   "cell_type": "code",
   "execution_count": 36,
   "metadata": {},
   "outputs": [
    {
     "data": {
      "text/plain": [
       "Decrease           168\n",
       "Remain the same    164\n",
       "Increase            10\n",
       "Name: COVc2a, dtype: int64"
      ]
     },
     "execution_count": 36,
     "metadata": {},
     "output_type": "execute_result"
    }
   ],
   "source": [
    "Albania[\"COVc2a\"].value_counts()"
   ]
  },
  {
   "cell_type": "code",
   "execution_count": 37,
   "metadata": {},
   "outputs": [
    {
     "data": {
      "text/plain": [
       "Decrease           235\n",
       "Remain the same     74\n",
       "Increase            33\n",
       "Name: COVc2b, dtype: int64"
      ]
     },
     "execution_count": 37,
     "metadata": {},
     "output_type": "execute_result"
    }
   ],
   "source": [
    "Albania[\"COVc2b\"].value_counts()"
   ]
  },
  {
   "cell_type": "code",
   "execution_count": 38,
   "metadata": {},
   "outputs": [
    {
     "data": {
      "text/plain": [
       "Decrease           218\n",
       "Remain the same     88\n",
       "Increase            30\n",
       "Name: COVc2c, dtype: int64"
      ]
     },
     "execution_count": 38,
     "metadata": {},
     "output_type": "execute_result"
    }
   ],
   "source": [
    "Albania[\"COVc2c\"].value_counts()"
   ]
  },
  {
   "cell_type": "code",
   "execution_count": 39,
   "metadata": {},
   "outputs": [
    {
     "data": {
      "text/plain": [
       "No     279\n",
       "Yes     55\n",
       "Name: COVc4a, dtype: int64"
      ]
     },
     "execution_count": 39,
     "metadata": {},
     "output_type": "execute_result"
    }
   ],
   "source": [
    "Albania[\"COVc4a\"].value_counts()"
   ]
  },
  {
   "cell_type": "code",
   "execution_count": 40,
   "metadata": {},
   "outputs": [
    {
     "data": {
      "text/plain": [
       "No     245\n",
       "Yes     90\n",
       "Name: COVc4b, dtype: int64"
      ]
     },
     "execution_count": 40,
     "metadata": {},
     "output_type": "execute_result"
    }
   ],
   "source": [
    "Albania[\"COVc4b\"].value_counts()"
   ]
  },
  {
   "cell_type": "code",
   "execution_count": 41,
   "metadata": {},
   "outputs": [
    {
     "data": {
      "text/plain": [
       "No     292\n",
       "Yes     44\n",
       "Name: COVc4c, dtype: int64"
      ]
     },
     "execution_count": 41,
     "metadata": {},
     "output_type": "execute_result"
    }
   ],
   "source": [
    "Albania[\"COVc4c\"].value_counts()"
   ]
  },
  {
   "cell_type": "code",
   "execution_count": 42,
   "metadata": {},
   "outputs": [
    {
     "data": {
      "text/plain": [
       "Decrease           179\n",
       "Remain the same    100\n",
       "Increase             4\n",
       "Name: COVd3b, dtype: int64"
      ]
     },
     "execution_count": 42,
     "metadata": {},
     "output_type": "execute_result"
    }
   ],
   "source": [
    "Albania[\"COVd3b\"].value_counts() "
   ]
  },
  {
   "cell_type": "code",
   "execution_count": 43,
   "metadata": {},
   "outputs": [
    {
     "data": {
      "text/plain": [
       "Decrease           241\n",
       "Remain the same     52\n",
       "Increase            47\n",
       "Name: COVe1a, dtype: int64"
      ]
     },
     "execution_count": 43,
     "metadata": {},
     "output_type": "execute_result"
    }
   ],
   "source": [
    "Albania[\"COVe1a\"].value_counts() "
   ]
  },
  {
   "cell_type": "code",
   "execution_count": 44,
   "metadata": {},
   "outputs": [
    {
     "data": {
      "text/plain": [
       "Remain the same    116\n",
       "Decrease           111\n",
       "Increase            75\n",
       "Name: COVe1b, dtype: int64"
      ]
     },
     "execution_count": 44,
     "metadata": {},
     "output_type": "execute_result"
    }
   ],
   "source": [
    "Albania[\"COVe1b\"].value_counts() "
   ]
  },
  {
   "cell_type": "code",
   "execution_count": 45,
   "metadata": {},
   "outputs": [
    {
     "data": {
      "text/plain": [
       "Remain the same    133\n",
       "Decrease           102\n",
       "Increase            70\n",
       "Name: COVe1c, dtype: int64"
      ]
     },
     "execution_count": 45,
     "metadata": {},
     "output_type": "execute_result"
    }
   ],
   "source": [
    "Albania[\"COVe1c\"].value_counts() "
   ]
  },
  {
   "cell_type": "code",
   "execution_count": 46,
   "metadata": {},
   "outputs": [
    {
     "data": {
      "text/plain": [
       "No                                                     196\n",
       "Yes                                                    133\n",
       "No, but expect to receive them in the next 3 months     11\n",
       "Name: COVf1, dtype: int64"
      ]
     },
     "execution_count": 46,
     "metadata": {},
     "output_type": "execute_result"
    }
   ],
   "source": [
    "Albania[\"COVf1\"].value_counts() "
   ]
  },
  {
   "cell_type": "code",
   "execution_count": 47,
   "metadata": {},
   "outputs": [
    {
     "data": {
      "text/plain": [
       "a0         0\n",
       "COVb0      0\n",
       "COVb1a    44\n",
       "COVb2a     1\n",
       "COVb3b     4\n",
       "COVb3c     4\n",
       "COVb4      0\n",
       "COVc3      4\n",
       "COVc2a     2\n",
       "COVc2b     2\n",
       "COVc2c     8\n",
       "COVc4a    10\n",
       "COVc4b     9\n",
       "COVc4c     8\n",
       "COVd3b    61\n",
       "COVe1a     4\n",
       "COVe1b    42\n",
       "COVe1c    39\n",
       "COVf1      4\n",
       "dtype: int64"
      ]
     },
     "execution_count": 47,
     "metadata": {},
     "output_type": "execute_result"
    }
   ],
   "source": [
    "Albania.isnull().sum()"
   ]
  },
  {
   "cell_type": "code",
   "execution_count": 48,
   "metadata": {},
   "outputs": [
    {
     "data": {
      "text/plain": [
       "Index(['a0', 'COVb0', 'COVb1a', 'COVb2a', 'COVb3b', 'COVb3c', 'COVb4', 'COVc3',\n",
       "       'COVc2a', 'COVc2b', 'COVc2c', 'COVc4a', 'COVc4b', 'COVc4c', 'COVd3b',\n",
       "       'COVe1a', 'COVe1b', 'COVe1c', 'COVf1'],\n",
       "      dtype='object')"
      ]
     },
     "execution_count": 48,
     "metadata": {},
     "output_type": "execute_result"
    }
   ],
   "source": [
    "Albania.columns"
   ]
  },
  {
   "cell_type": "code",
   "execution_count": 49,
   "metadata": {},
   "outputs": [
    {
     "data": {
      "text/html": [
       "<div>\n",
       "<style scoped>\n",
       "    .dataframe tbody tr th:only-of-type {\n",
       "        vertical-align: middle;\n",
       "    }\n",
       "\n",
       "    .dataframe tbody tr th {\n",
       "        vertical-align: top;\n",
       "    }\n",
       "\n",
       "    .dataframe thead th {\n",
       "        text-align: right;\n",
       "    }\n",
       "</style>\n",
       "<table border=\"1\" class=\"dataframe\">\n",
       "  <thead>\n",
       "    <tr style=\"text-align: right;\">\n",
       "      <th></th>\n",
       "      <th>a0</th>\n",
       "      <th>COVb0</th>\n",
       "      <th>COVb1a</th>\n",
       "      <th>COVb2a</th>\n",
       "      <th>COVb3b</th>\n",
       "      <th>COVb3c</th>\n",
       "      <th>COVb4</th>\n",
       "      <th>COVc3</th>\n",
       "      <th>COVc2a</th>\n",
       "      <th>COVc2b</th>\n",
       "      <th>COVc2c</th>\n",
       "      <th>COVc4a</th>\n",
       "      <th>COVc4b</th>\n",
       "      <th>COVc4c</th>\n",
       "      <th>COVd3b</th>\n",
       "      <th>COVe1a</th>\n",
       "      <th>COVe1b</th>\n",
       "      <th>COVe1c</th>\n",
       "      <th>COVf1</th>\n",
       "    </tr>\n",
       "  </thead>\n",
       "  <tbody>\n",
       "    <tr>\n",
       "      <th>0</th>\n",
       "      <td>Manufacturing</td>\n",
       "      <td>Open</td>\n",
       "      <td>No</td>\n",
       "      <td>Decrease</td>\n",
       "      <td>0.0</td>\n",
       "      <td>0.0</td>\n",
       "      <td>Does not apply</td>\n",
       "      <td>No</td>\n",
       "      <td>Decrease</td>\n",
       "      <td>Decrease</td>\n",
       "      <td>Decrease</td>\n",
       "      <td>No</td>\n",
       "      <td>Yes</td>\n",
       "      <td>No</td>\n",
       "      <td>Remain the same</td>\n",
       "      <td>Decrease</td>\n",
       "      <td>Remain the same</td>\n",
       "      <td>Increase</td>\n",
       "      <td>No</td>\n",
       "    </tr>\n",
       "    <tr>\n",
       "      <th>1</th>\n",
       "      <td>Retail services</td>\n",
       "      <td>Open</td>\n",
       "      <td>No</td>\n",
       "      <td>Remain the same</td>\n",
       "      <td>0.0</td>\n",
       "      <td>0.0</td>\n",
       "      <td>Does not apply</td>\n",
       "      <td>Yes</td>\n",
       "      <td>Decrease</td>\n",
       "      <td>Decrease</td>\n",
       "      <td>Decrease</td>\n",
       "      <td>Yes</td>\n",
       "      <td>No</td>\n",
       "      <td>No</td>\n",
       "      <td>Decrease</td>\n",
       "      <td>Decrease</td>\n",
       "      <td>Increase</td>\n",
       "      <td>Remain the same</td>\n",
       "      <td>No</td>\n",
       "    </tr>\n",
       "    <tr>\n",
       "      <th>2</th>\n",
       "      <td>Retail services</td>\n",
       "      <td>Open</td>\n",
       "      <td>Yes</td>\n",
       "      <td>Decrease</td>\n",
       "      <td>0.0</td>\n",
       "      <td>0.0</td>\n",
       "      <td>Does not apply</td>\n",
       "      <td>Yes</td>\n",
       "      <td>Decrease</td>\n",
       "      <td>Decrease</td>\n",
       "      <td>Remain the same</td>\n",
       "      <td>Yes</td>\n",
       "      <td>Yes</td>\n",
       "      <td>Yes</td>\n",
       "      <td>Decrease</td>\n",
       "      <td>Decrease</td>\n",
       "      <td>Remain the same</td>\n",
       "      <td>Remain the same</td>\n",
       "      <td>No</td>\n",
       "    </tr>\n",
       "    <tr>\n",
       "      <th>3</th>\n",
       "      <td>Manufacturing</td>\n",
       "      <td>Temporarily closed</td>\n",
       "      <td>NaN</td>\n",
       "      <td>Decrease</td>\n",
       "      <td>0.0</td>\n",
       "      <td>0.0</td>\n",
       "      <td>Does not apply</td>\n",
       "      <td>No</td>\n",
       "      <td>Decrease</td>\n",
       "      <td>Decrease</td>\n",
       "      <td>Decrease</td>\n",
       "      <td>No</td>\n",
       "      <td>No</td>\n",
       "      <td>No</td>\n",
       "      <td>Remain the same</td>\n",
       "      <td>Decrease</td>\n",
       "      <td>Remain the same</td>\n",
       "      <td>Remain the same</td>\n",
       "      <td>No</td>\n",
       "    </tr>\n",
       "    <tr>\n",
       "      <th>4</th>\n",
       "      <td>Manufacturing</td>\n",
       "      <td>Open</td>\n",
       "      <td>Yes</td>\n",
       "      <td>Decrease</td>\n",
       "      <td>0.0</td>\n",
       "      <td>0.0</td>\n",
       "      <td>Does not apply</td>\n",
       "      <td>Yes</td>\n",
       "      <td>Decrease</td>\n",
       "      <td>Decrease</td>\n",
       "      <td>Decrease</td>\n",
       "      <td>Yes</td>\n",
       "      <td>Yes</td>\n",
       "      <td>No</td>\n",
       "      <td>Remain the same</td>\n",
       "      <td>Decrease</td>\n",
       "      <td>Remain the same</td>\n",
       "      <td>Remain the same</td>\n",
       "      <td>No</td>\n",
       "    </tr>\n",
       "    <tr>\n",
       "      <th>...</th>\n",
       "      <td>...</td>\n",
       "      <td>...</td>\n",
       "      <td>...</td>\n",
       "      <td>...</td>\n",
       "      <td>...</td>\n",
       "      <td>...</td>\n",
       "      <td>...</td>\n",
       "      <td>...</td>\n",
       "      <td>...</td>\n",
       "      <td>...</td>\n",
       "      <td>...</td>\n",
       "      <td>...</td>\n",
       "      <td>...</td>\n",
       "      <td>...</td>\n",
       "      <td>...</td>\n",
       "      <td>...</td>\n",
       "      <td>...</td>\n",
       "      <td>...</td>\n",
       "      <td>...</td>\n",
       "    </tr>\n",
       "    <tr>\n",
       "      <th>341</th>\n",
       "      <td>Manufacturing</td>\n",
       "      <td>Open</td>\n",
       "      <td>Yes</td>\n",
       "      <td>Decrease</td>\n",
       "      <td>0.0</td>\n",
       "      <td>0.0</td>\n",
       "      <td>Decrease</td>\n",
       "      <td>NaN</td>\n",
       "      <td>Remain the same</td>\n",
       "      <td>Decrease</td>\n",
       "      <td>Decrease</td>\n",
       "      <td>No</td>\n",
       "      <td>No</td>\n",
       "      <td>No</td>\n",
       "      <td>NaN</td>\n",
       "      <td>Increase</td>\n",
       "      <td>Increase</td>\n",
       "      <td>Remain the same</td>\n",
       "      <td>Yes</td>\n",
       "    </tr>\n",
       "    <tr>\n",
       "      <th>342</th>\n",
       "      <td>Retail services</td>\n",
       "      <td>Open</td>\n",
       "      <td>Yes</td>\n",
       "      <td>Decrease</td>\n",
       "      <td>0.0</td>\n",
       "      <td>0.0</td>\n",
       "      <td>Decrease</td>\n",
       "      <td>Yes</td>\n",
       "      <td>Remain the same</td>\n",
       "      <td>Decrease</td>\n",
       "      <td>Decrease</td>\n",
       "      <td>Yes</td>\n",
       "      <td>No</td>\n",
       "      <td>Yes</td>\n",
       "      <td>Decrease</td>\n",
       "      <td>Increase</td>\n",
       "      <td>Increase</td>\n",
       "      <td>Increase</td>\n",
       "      <td>No</td>\n",
       "    </tr>\n",
       "    <tr>\n",
       "      <th>343</th>\n",
       "      <td>Retail services</td>\n",
       "      <td>Open</td>\n",
       "      <td>Yes</td>\n",
       "      <td>Decrease</td>\n",
       "      <td>0.0</td>\n",
       "      <td>100.0</td>\n",
       "      <td>Increase</td>\n",
       "      <td>No</td>\n",
       "      <td>Decrease</td>\n",
       "      <td>Remain the same</td>\n",
       "      <td>Decrease</td>\n",
       "      <td>No</td>\n",
       "      <td>No</td>\n",
       "      <td>No</td>\n",
       "      <td>Decrease</td>\n",
       "      <td>Decrease</td>\n",
       "      <td>Increase</td>\n",
       "      <td>Remain the same</td>\n",
       "      <td>Yes</td>\n",
       "    </tr>\n",
       "    <tr>\n",
       "      <th>344</th>\n",
       "      <td>Retail services</td>\n",
       "      <td>Open</td>\n",
       "      <td>No</td>\n",
       "      <td>Increase</td>\n",
       "      <td>0.0</td>\n",
       "      <td>0.0</td>\n",
       "      <td>Does not apply</td>\n",
       "      <td>Yes</td>\n",
       "      <td>Remain the same</td>\n",
       "      <td>Increase</td>\n",
       "      <td>Increase</td>\n",
       "      <td>No</td>\n",
       "      <td>No</td>\n",
       "      <td>No</td>\n",
       "      <td>Decrease</td>\n",
       "      <td>Increase</td>\n",
       "      <td>Remain the same</td>\n",
       "      <td>Remain the same</td>\n",
       "      <td>No</td>\n",
       "    </tr>\n",
       "    <tr>\n",
       "      <th>345</th>\n",
       "      <td>Manufacturing</td>\n",
       "      <td>Open</td>\n",
       "      <td>Yes</td>\n",
       "      <td>Decrease</td>\n",
       "      <td>0.0</td>\n",
       "      <td>0.0</td>\n",
       "      <td>Does not apply</td>\n",
       "      <td>No</td>\n",
       "      <td>Decrease</td>\n",
       "      <td>Decrease</td>\n",
       "      <td>Decrease</td>\n",
       "      <td>Yes</td>\n",
       "      <td>No</td>\n",
       "      <td>No</td>\n",
       "      <td>Remain the same</td>\n",
       "      <td>Decrease</td>\n",
       "      <td>Increase</td>\n",
       "      <td>Remain the same</td>\n",
       "      <td>Yes</td>\n",
       "    </tr>\n",
       "  </tbody>\n",
       "</table>\n",
       "<p>344 rows × 19 columns</p>\n",
       "</div>"
      ],
      "text/plain": [
       "                  a0               COVb0 COVb1a           COVb2a COVb3b  \\\n",
       "0      Manufacturing                Open     No         Decrease    0.0   \n",
       "1    Retail services                Open     No  Remain the same    0.0   \n",
       "2    Retail services                Open    Yes         Decrease    0.0   \n",
       "3      Manufacturing  Temporarily closed    NaN         Decrease    0.0   \n",
       "4      Manufacturing                Open    Yes         Decrease    0.0   \n",
       "..               ...                 ...    ...              ...    ...   \n",
       "341    Manufacturing                Open    Yes         Decrease    0.0   \n",
       "342  Retail services                Open    Yes         Decrease    0.0   \n",
       "343  Retail services                Open    Yes         Decrease    0.0   \n",
       "344  Retail services                Open     No         Increase    0.0   \n",
       "345    Manufacturing                Open    Yes         Decrease    0.0   \n",
       "\n",
       "    COVb3c           COVb4 COVc3           COVc2a           COVc2b  \\\n",
       "0      0.0  Does not apply    No         Decrease         Decrease   \n",
       "1      0.0  Does not apply   Yes         Decrease         Decrease   \n",
       "2      0.0  Does not apply   Yes         Decrease         Decrease   \n",
       "3      0.0  Does not apply    No         Decrease         Decrease   \n",
       "4      0.0  Does not apply   Yes         Decrease         Decrease   \n",
       "..     ...             ...   ...              ...              ...   \n",
       "341    0.0        Decrease   NaN  Remain the same         Decrease   \n",
       "342    0.0        Decrease   Yes  Remain the same         Decrease   \n",
       "343  100.0        Increase    No         Decrease  Remain the same   \n",
       "344    0.0  Does not apply   Yes  Remain the same         Increase   \n",
       "345    0.0  Does not apply    No         Decrease         Decrease   \n",
       "\n",
       "              COVc2c COVc4a COVc4b COVc4c           COVd3b    COVe1a  \\\n",
       "0           Decrease     No    Yes     No  Remain the same  Decrease   \n",
       "1           Decrease    Yes     No     No         Decrease  Decrease   \n",
       "2    Remain the same    Yes    Yes    Yes         Decrease  Decrease   \n",
       "3           Decrease     No     No     No  Remain the same  Decrease   \n",
       "4           Decrease    Yes    Yes     No  Remain the same  Decrease   \n",
       "..               ...    ...    ...    ...              ...       ...   \n",
       "341         Decrease     No     No     No              NaN  Increase   \n",
       "342         Decrease    Yes     No    Yes         Decrease  Increase   \n",
       "343         Decrease     No     No     No         Decrease  Decrease   \n",
       "344         Increase     No     No     No         Decrease  Increase   \n",
       "345         Decrease    Yes     No     No  Remain the same  Decrease   \n",
       "\n",
       "              COVe1b           COVe1c COVf1  \n",
       "0    Remain the same         Increase    No  \n",
       "1           Increase  Remain the same    No  \n",
       "2    Remain the same  Remain the same    No  \n",
       "3    Remain the same  Remain the same    No  \n",
       "4    Remain the same  Remain the same    No  \n",
       "..               ...              ...   ...  \n",
       "341         Increase  Remain the same   Yes  \n",
       "342         Increase         Increase    No  \n",
       "343         Increase  Remain the same   Yes  \n",
       "344  Remain the same  Remain the same    No  \n",
       "345         Increase  Remain the same   Yes  \n",
       "\n",
       "[344 rows x 19 columns]"
      ]
     },
     "execution_count": 49,
     "metadata": {},
     "output_type": "execute_result"
    }
   ],
   "source": [
    "data = pd.DataFrame(Albania)\n",
    "data"
   ]
  },
  {
   "cell_type": "code",
   "execution_count": 50,
   "metadata": {},
   "outputs": [
    {
     "data": {
      "text/plain": [
       "Index(['a0', 'COVb0', 'COVb2a', 'COVb3b', 'COVb3c', 'COVc3', 'COVc2a',\n",
       "       'COVc2b', 'COVc2c', 'COVc4a', 'COVc4c', 'COVe1a', 'COVf1'],\n",
       "      dtype='object')"
      ]
     },
     "execution_count": 50,
     "metadata": {},
     "output_type": "execute_result"
    }
   ],
   "source": [
    "data.drop(['COVb1a','COVb4','COVc4b','COVd3b','COVe1b', 'COVe1c'],axis = 1, inplace = True)\n",
    "data.columns"
   ]
  },
  {
   "cell_type": "markdown",
   "metadata": {},
   "source": [
    "## LAST SELECTED VARIABLES FOR MODEL BULLDING"
   ]
  },
  {
   "cell_type": "code",
   "execution_count": 51,
   "metadata": {},
   "outputs": [
    {
     "data": {
      "text/plain": [
       "a0         0\n",
       "COVb0      0\n",
       "COVb2a     1\n",
       "COVb3b     4\n",
       "COVb3c     4\n",
       "COVc3      4\n",
       "COVc2a     2\n",
       "COVc2b     2\n",
       "COVc2c     8\n",
       "COVc4a    10\n",
       "COVc4c     8\n",
       "COVe1a     4\n",
       "COVf1      4\n",
       "dtype: int64"
      ]
     },
     "execution_count": 51,
     "metadata": {},
     "output_type": "execute_result"
    }
   ],
   "source": [
    "data.isnull().sum()"
   ]
  },
  {
   "cell_type": "markdown",
   "metadata": {},
   "source": [
    "### Treating Missing Values"
   ]
  },
  {
   "cell_type": "code",
   "execution_count": 52,
   "metadata": {},
   "outputs": [
    {
     "data": {
      "text/plain": [
       "a0        0\n",
       "COVb0     0\n",
       "COVb2a    1\n",
       "COVb3b    4\n",
       "COVb3c    4\n",
       "COVc3     3\n",
       "COVc2a    2\n",
       "COVc2b    1\n",
       "COVc2c    5\n",
       "COVc4a    2\n",
       "COVc4c    0\n",
       "COVe1a    4\n",
       "COVf1     4\n",
       "dtype: int64"
      ]
     },
     "execution_count": 52,
     "metadata": {},
     "output_type": "execute_result"
    }
   ],
   "source": [
    "data.dropna(subset= ['COVc4a', 'COVc4c'],how = \"all\",inplace = True)\n",
    "data.isnull().sum()"
   ]
  },
  {
   "cell_type": "code",
   "execution_count": 53,
   "metadata": {},
   "outputs": [
    {
     "data": {
      "text/plain": [
       "(336, 13)"
      ]
     },
     "execution_count": 53,
     "metadata": {},
     "output_type": "execute_result"
    }
   ],
   "source": [
    "data.shape"
   ]
  },
  {
   "cell_type": "code",
   "execution_count": 54,
   "metadata": {},
   "outputs": [],
   "source": [
    "Albania_without_null = data.dropna(how = \"any\")\n",
    "Albania_without_null.to_stata(\"Albania_without_null.dta\")"
   ]
  },
  {
   "cell_type": "code",
   "execution_count": 55,
   "metadata": {},
   "outputs": [
    {
     "data": {
      "text/html": [
       "<div>\n",
       "<style scoped>\n",
       "    .dataframe tbody tr th:only-of-type {\n",
       "        vertical-align: middle;\n",
       "    }\n",
       "\n",
       "    .dataframe tbody tr th {\n",
       "        vertical-align: top;\n",
       "    }\n",
       "\n",
       "    .dataframe thead th {\n",
       "        text-align: right;\n",
       "    }\n",
       "</style>\n",
       "<table border=\"1\" class=\"dataframe\">\n",
       "  <thead>\n",
       "    <tr style=\"text-align: right;\">\n",
       "      <th></th>\n",
       "      <th>a0</th>\n",
       "      <th>COVb0</th>\n",
       "      <th>COVb2a</th>\n",
       "      <th>COVb3b</th>\n",
       "      <th>COVb3c</th>\n",
       "      <th>COVc3</th>\n",
       "      <th>COVc2a</th>\n",
       "      <th>COVc2b</th>\n",
       "      <th>COVc2c</th>\n",
       "      <th>COVc4a</th>\n",
       "      <th>COVc4c</th>\n",
       "      <th>COVe1a</th>\n",
       "      <th>COVf1</th>\n",
       "    </tr>\n",
       "  </thead>\n",
       "  <tbody>\n",
       "    <tr>\n",
       "      <th>0</th>\n",
       "      <td>Manufacturing</td>\n",
       "      <td>Open</td>\n",
       "      <td>Decrease</td>\n",
       "      <td>0.0</td>\n",
       "      <td>0.0</td>\n",
       "      <td>No</td>\n",
       "      <td>Decrease</td>\n",
       "      <td>Decrease</td>\n",
       "      <td>Decrease</td>\n",
       "      <td>No</td>\n",
       "      <td>No</td>\n",
       "      <td>Decrease</td>\n",
       "      <td>No</td>\n",
       "    </tr>\n",
       "    <tr>\n",
       "      <th>1</th>\n",
       "      <td>Retail services</td>\n",
       "      <td>Open</td>\n",
       "      <td>Remain the same</td>\n",
       "      <td>0.0</td>\n",
       "      <td>0.0</td>\n",
       "      <td>Yes</td>\n",
       "      <td>Decrease</td>\n",
       "      <td>Decrease</td>\n",
       "      <td>Decrease</td>\n",
       "      <td>Yes</td>\n",
       "      <td>No</td>\n",
       "      <td>Decrease</td>\n",
       "      <td>No</td>\n",
       "    </tr>\n",
       "    <tr>\n",
       "      <th>2</th>\n",
       "      <td>Retail services</td>\n",
       "      <td>Open</td>\n",
       "      <td>Decrease</td>\n",
       "      <td>0.0</td>\n",
       "      <td>0.0</td>\n",
       "      <td>Yes</td>\n",
       "      <td>Decrease</td>\n",
       "      <td>Decrease</td>\n",
       "      <td>Remain the same</td>\n",
       "      <td>Yes</td>\n",
       "      <td>Yes</td>\n",
       "      <td>Decrease</td>\n",
       "      <td>No</td>\n",
       "    </tr>\n",
       "    <tr>\n",
       "      <th>3</th>\n",
       "      <td>Manufacturing</td>\n",
       "      <td>Temporarily closed</td>\n",
       "      <td>Decrease</td>\n",
       "      <td>0.0</td>\n",
       "      <td>0.0</td>\n",
       "      <td>No</td>\n",
       "      <td>Decrease</td>\n",
       "      <td>Decrease</td>\n",
       "      <td>Decrease</td>\n",
       "      <td>No</td>\n",
       "      <td>No</td>\n",
       "      <td>Decrease</td>\n",
       "      <td>No</td>\n",
       "    </tr>\n",
       "    <tr>\n",
       "      <th>4</th>\n",
       "      <td>Manufacturing</td>\n",
       "      <td>Open</td>\n",
       "      <td>Decrease</td>\n",
       "      <td>0.0</td>\n",
       "      <td>0.0</td>\n",
       "      <td>Yes</td>\n",
       "      <td>Decrease</td>\n",
       "      <td>Decrease</td>\n",
       "      <td>Decrease</td>\n",
       "      <td>Yes</td>\n",
       "      <td>No</td>\n",
       "      <td>Decrease</td>\n",
       "      <td>No</td>\n",
       "    </tr>\n",
       "    <tr>\n",
       "      <th>...</th>\n",
       "      <td>...</td>\n",
       "      <td>...</td>\n",
       "      <td>...</td>\n",
       "      <td>...</td>\n",
       "      <td>...</td>\n",
       "      <td>...</td>\n",
       "      <td>...</td>\n",
       "      <td>...</td>\n",
       "      <td>...</td>\n",
       "      <td>...</td>\n",
       "      <td>...</td>\n",
       "      <td>...</td>\n",
       "      <td>...</td>\n",
       "    </tr>\n",
       "    <tr>\n",
       "      <th>340</th>\n",
       "      <td>Other services</td>\n",
       "      <td>Temporarily closed</td>\n",
       "      <td>Decrease</td>\n",
       "      <td>20.0</td>\n",
       "      <td>0.0</td>\n",
       "      <td>Yes</td>\n",
       "      <td>Decrease</td>\n",
       "      <td>Decrease</td>\n",
       "      <td>Decrease</td>\n",
       "      <td>No</td>\n",
       "      <td>No</td>\n",
       "      <td>Decrease</td>\n",
       "      <td>No</td>\n",
       "    </tr>\n",
       "    <tr>\n",
       "      <th>342</th>\n",
       "      <td>Retail services</td>\n",
       "      <td>Open</td>\n",
       "      <td>Decrease</td>\n",
       "      <td>0.0</td>\n",
       "      <td>0.0</td>\n",
       "      <td>Yes</td>\n",
       "      <td>Remain the same</td>\n",
       "      <td>Decrease</td>\n",
       "      <td>Decrease</td>\n",
       "      <td>Yes</td>\n",
       "      <td>Yes</td>\n",
       "      <td>Increase</td>\n",
       "      <td>No</td>\n",
       "    </tr>\n",
       "    <tr>\n",
       "      <th>343</th>\n",
       "      <td>Retail services</td>\n",
       "      <td>Open</td>\n",
       "      <td>Decrease</td>\n",
       "      <td>0.0</td>\n",
       "      <td>100.0</td>\n",
       "      <td>No</td>\n",
       "      <td>Decrease</td>\n",
       "      <td>Remain the same</td>\n",
       "      <td>Decrease</td>\n",
       "      <td>No</td>\n",
       "      <td>No</td>\n",
       "      <td>Decrease</td>\n",
       "      <td>Yes</td>\n",
       "    </tr>\n",
       "    <tr>\n",
       "      <th>344</th>\n",
       "      <td>Retail services</td>\n",
       "      <td>Open</td>\n",
       "      <td>Increase</td>\n",
       "      <td>0.0</td>\n",
       "      <td>0.0</td>\n",
       "      <td>Yes</td>\n",
       "      <td>Remain the same</td>\n",
       "      <td>Increase</td>\n",
       "      <td>Increase</td>\n",
       "      <td>No</td>\n",
       "      <td>No</td>\n",
       "      <td>Increase</td>\n",
       "      <td>No</td>\n",
       "    </tr>\n",
       "    <tr>\n",
       "      <th>345</th>\n",
       "      <td>Manufacturing</td>\n",
       "      <td>Open</td>\n",
       "      <td>Decrease</td>\n",
       "      <td>0.0</td>\n",
       "      <td>0.0</td>\n",
       "      <td>No</td>\n",
       "      <td>Decrease</td>\n",
       "      <td>Decrease</td>\n",
       "      <td>Decrease</td>\n",
       "      <td>Yes</td>\n",
       "      <td>No</td>\n",
       "      <td>Decrease</td>\n",
       "      <td>Yes</td>\n",
       "    </tr>\n",
       "  </tbody>\n",
       "</table>\n",
       "<p>316 rows × 13 columns</p>\n",
       "</div>"
      ],
      "text/plain": [
       "                  a0               COVb0           COVb2a COVb3b COVb3c COVc3  \\\n",
       "0      Manufacturing                Open         Decrease    0.0    0.0    No   \n",
       "1    Retail services                Open  Remain the same    0.0    0.0   Yes   \n",
       "2    Retail services                Open         Decrease    0.0    0.0   Yes   \n",
       "3      Manufacturing  Temporarily closed         Decrease    0.0    0.0    No   \n",
       "4      Manufacturing                Open         Decrease    0.0    0.0   Yes   \n",
       "..               ...                 ...              ...    ...    ...   ...   \n",
       "340   Other services  Temporarily closed         Decrease   20.0    0.0   Yes   \n",
       "342  Retail services                Open         Decrease    0.0    0.0   Yes   \n",
       "343  Retail services                Open         Decrease    0.0  100.0    No   \n",
       "344  Retail services                Open         Increase    0.0    0.0   Yes   \n",
       "345    Manufacturing                Open         Decrease    0.0    0.0    No   \n",
       "\n",
       "              COVc2a           COVc2b           COVc2c COVc4a COVc4c  \\\n",
       "0           Decrease         Decrease         Decrease     No     No   \n",
       "1           Decrease         Decrease         Decrease    Yes     No   \n",
       "2           Decrease         Decrease  Remain the same    Yes    Yes   \n",
       "3           Decrease         Decrease         Decrease     No     No   \n",
       "4           Decrease         Decrease         Decrease    Yes     No   \n",
       "..               ...              ...              ...    ...    ...   \n",
       "340         Decrease         Decrease         Decrease     No     No   \n",
       "342  Remain the same         Decrease         Decrease    Yes    Yes   \n",
       "343         Decrease  Remain the same         Decrease     No     No   \n",
       "344  Remain the same         Increase         Increase     No     No   \n",
       "345         Decrease         Decrease         Decrease    Yes     No   \n",
       "\n",
       "       COVe1a COVf1  \n",
       "0    Decrease    No  \n",
       "1    Decrease    No  \n",
       "2    Decrease    No  \n",
       "3    Decrease    No  \n",
       "4    Decrease    No  \n",
       "..        ...   ...  \n",
       "340  Decrease    No  \n",
       "342  Increase    No  \n",
       "343  Decrease   Yes  \n",
       "344  Increase    No  \n",
       "345  Decrease   Yes  \n",
       "\n",
       "[316 rows x 13 columns]"
      ]
     },
     "execution_count": 55,
     "metadata": {},
     "output_type": "execute_result"
    }
   ],
   "source": [
    "data = pd.DataFrame(Albania_without_null)\n",
    "data"
   ]
  },
  {
   "cell_type": "code",
   "execution_count": 56,
   "metadata": {},
   "outputs": [
    {
     "data": {
      "text/plain": [
       "a0        0\n",
       "COVb0     0\n",
       "COVb2a    0\n",
       "COVb3b    0\n",
       "COVb3c    0\n",
       "COVc3     0\n",
       "COVc2a    0\n",
       "COVc2b    0\n",
       "COVc2c    0\n",
       "COVc4a    0\n",
       "COVc4c    0\n",
       "COVe1a    0\n",
       "COVf1     0\n",
       "dtype: int64"
      ]
     },
     "execution_count": 56,
     "metadata": {},
     "output_type": "execute_result"
    }
   ],
   "source": [
    "data.isnull().sum()"
   ]
  },
  {
   "cell_type": "markdown",
   "metadata": {},
   "source": [
    "### Countplot for understanding the missing values classification"
   ]
  },
  {
   "cell_type": "code",
   "execution_count": 57,
   "metadata": {},
   "outputs": [],
   "source": [
    "import seaborn as sns\n",
    "import matplotlib.pylab as plt"
   ]
  },
  {
   "cell_type": "code",
   "execution_count": 58,
   "metadata": {},
   "outputs": [],
   "source": [
    "data.columns = ['Idustry_Type', 'Current_Situation', 'Sales_Performance', 'Indirect_Exports', 'Direct_Export', \n",
    "                'Production_Conversion', 'Hours_Worked_Per_Week',\n",
    "                'Demand_For_Product', 'Supply_Of_Raw_Materials', 'Online_Business',\n",
    "                'Remote_Work_Arrangements', 'Financial_Performance', 'Received_Any_Establishment']"
   ]
  },
  {
   "cell_type": "code",
   "execution_count": 59,
   "metadata": {},
   "outputs": [
    {
     "data": {
      "text/plain": [
       "<matplotlib.axes._subplots.AxesSubplot at 0x1bdce286a00>"
      ]
     },
     "execution_count": 59,
     "metadata": {},
     "output_type": "execute_result"
    },
    {
     "data": {
      "image/png": "[encoded data removed]",
      "text/plain": [
       "<Figure size 576x432 with 1 Axes>"
      ]
     },
     "metadata": {
      "needs_background": "light"
     },
     "output_type": "display_data"
    }
   ],
   "source": [
    "plt.figure(figsize = (8,6))\n",
    "plt.title(\"Relation between Industry type and Sales performance\")\n",
    "sns.countplot('Idustry_Type',hue = \"Sales_Performance\",data =data,palette = 'Set2')"
   ]
  },
  {
   "cell_type": "code",
   "execution_count": 60,
   "metadata": {},
   "outputs": [
    {
     "data": {
      "text/plain": [
       "<matplotlib.axes._subplots.AxesSubplot at 0x1bdce367c10>"
      ]
     },
     "execution_count": 60,
     "metadata": {},
     "output_type": "execute_result"
    },
    {
     "data": {
      "image/png": "[encoded data removed]",
      "text/plain": [
       "<Figure size 576x432 with 1 Axes>"
      ]
     },
     "metadata": {
      "needs_background": "light"
     },
     "output_type": "display_data"
    }
   ],
   "source": [
    "plt.figure(figsize = (8,6))\n",
    "plt.title(\"Indirect Exports and Sales performance\")\n",
    "sns.countplot('Indirect_Exports',hue = \"Sales_Performance\",data =data,palette = 'rocket')"
   ]
  },
  {
   "cell_type": "code",
   "execution_count": 61,
   "metadata": {},
   "outputs": [
    {
     "data": {
      "text/plain": [
       "<matplotlib.axes._subplots.AxesSubplot at 0x1bdce43dcd0>"
      ]
     },
     "execution_count": 61,
     "metadata": {},
     "output_type": "execute_result"
    },
    {
     "data": {
      "image/png": "[encoded data removed]",
      "text/plain": [
       "<Figure size 576x432 with 1 Axes>"
      ]
     },
     "metadata": {
      "needs_background": "light"
     },
     "output_type": "display_data"
    }
   ],
   "source": [
    "plt.figure(figsize = (8,6))\n",
    "plt.title(\"Current_Situation and Sales performance\")\n",
    "sns.countplot('Current_Situation',hue = \"Sales_Performance\",data =data,palette = 'hls')"
   ]
  },
  {
   "cell_type": "code",
   "execution_count": 62,
   "metadata": {},
   "outputs": [
    {
     "data": {
      "text/plain": [
       "Index(['Idustry_Type', 'Current_Situation', 'Sales_Performance',\n",
       "       'Indirect_Exports', 'Direct_Export', 'Production_Conversion',\n",
       "       'Hours_Worked_Per_Week', 'Demand_For_Product',\n",
       "       'Supply_Of_Raw_Materials', 'Online_Business',\n",
       "       'Remote_Work_Arrangements', 'Financial_Performance',\n",
       "       'Received_Any_Establishment'],\n",
       "      dtype='object')"
      ]
     },
     "execution_count": 62,
     "metadata": {},
     "output_type": "execute_result"
    }
   ],
   "source": [
    "data.columns"
   ]
  },
  {
   "cell_type": "code",
   "execution_count": 63,
   "metadata": {},
   "outputs": [
    {
     "data": {
      "text/plain": [
       "<matplotlib.axes._subplots.AxesSubplot at 0x1bdce498a90>"
      ]
     },
     "execution_count": 63,
     "metadata": {},
     "output_type": "execute_result"
    },
    {
     "data": {
      "image/png": "[encoded data removed]",
      "text/plain": [
       "<Figure size 576x432 with 1 Axes>"
      ]
     },
     "metadata": {
      "needs_background": "light"
     },
     "output_type": "display_data"
    }
   ],
   "source": [
    "plt.figure(figsize = (8,6))\n",
    "plt.title(\"Direct_Export and Sales performance\")\n",
    "sns.countplot('Direct_Export',hue = \"Sales_Performance\",data =data,palette = 'rainbow')"
   ]
  },
  {
   "cell_type": "code",
   "execution_count": 64,
   "metadata": {},
   "outputs": [
    {
     "data": {
      "text/plain": [
       "<matplotlib.axes._subplots.AxesSubplot at 0x1bdce4a4a30>"
      ]
     },
     "execution_count": 64,
     "metadata": {},
     "output_type": "execute_result"
    },
    {
     "data": {
      "image/png": "[encoded data removed]",
      "text/plain": [
       "<Figure size 576x432 with 1 Axes>"
      ]
     },
     "metadata": {
      "needs_background": "light"
     },
     "output_type": "display_data"
    }
   ],
   "source": [
    "plt.figure(figsize = (8,6))\n",
    "plt.title(\"Production_Conversion and Sales performance\")\n",
    "sns.countplot('Production_Conversion',data =data,palette = 'Set2')"
   ]
  },
  {
   "cell_type": "code",
   "execution_count": 65,
   "metadata": {},
   "outputs": [
    {
     "data": {
      "text/plain": [
       "<matplotlib.axes._subplots.AxesSubplot at 0x1bdce5d48b0>"
      ]
     },
     "execution_count": 65,
     "metadata": {},
     "output_type": "execute_result"
    },
    {
     "data": {
      "image/png": "[encoded data removed]",
      "text/plain": [
       "<Figure size 576x432 with 1 Axes>"
      ]
     },
     "metadata": {
      "needs_background": "light"
     },
     "output_type": "display_data"
    }
   ],
   "source": [
    "plt.figure(figsize = (8,6))\n",
    "plt.title(\"Production_Conversion and Sales performance\")\n",
    "sns.countplot('Production_Conversion',hue = \"Sales_Performance\",data =data,palette = 'Set2')"
   ]
  },
  {
   "cell_type": "code",
   "execution_count": 66,
   "metadata": {},
   "outputs": [
    {
     "data": {
      "text/plain": [
       "<matplotlib.axes._subplots.AxesSubplot at 0x1bdce637ac0>"
      ]
     },
     "execution_count": 66,
     "metadata": {},
     "output_type": "execute_result"
    },
    {
     "data": {
      "image/png": "[encoded data removed]",
      "text/plain": [
       "<Figure size 576x432 with 1 Axes>"
      ]
     },
     "metadata": {
      "needs_background": "light"
     },
     "output_type": "display_data"
    }
   ],
   "source": [
    "plt.figure(figsize = (8,6))\n",
    "plt.title(\"Hours_Worked_Per_Week and Sales performance\")\n",
    "sns.countplot('Hours_Worked_Per_Week',hue = \"Sales_Performance\",data =data,palette = 'hls')"
   ]
  },
  {
   "cell_type": "code",
   "execution_count": 67,
   "metadata": {},
   "outputs": [
    {
     "data": {
      "text/plain": [
       "<matplotlib.axes._subplots.AxesSubplot at 0x1bdce6ba820>"
      ]
     },
     "execution_count": 67,
     "metadata": {},
     "output_type": "execute_result"
    },
    {
     "data": {
      "image/png": "[encoded data removed]",
      "text/plain": [
       "<Figure size 576x432 with 1 Axes>"
      ]
     },
     "metadata": {
      "needs_background": "light"
     },
     "output_type": "display_data"
    }
   ],
   "source": [
    "plt.figure(figsize = (8,6))\n",
    "plt.title(\"Demand_For_Product and Sales performance\")\n",
    "sns.countplot('Demand_For_Product',data =data,palette = 'winter')"
   ]
  },
  {
   "cell_type": "code",
   "execution_count": 68,
   "metadata": {},
   "outputs": [
    {
     "data": {
      "text/plain": [
       "<matplotlib.axes._subplots.AxesSubplot at 0x1bdce3021c0>"
      ]
     },
     "execution_count": 68,
     "metadata": {},
     "output_type": "execute_result"
    },
    {
     "data": {
      "image/png": "[encoded data removed]",
      "text/plain": [
       "<Figure size 576x432 with 1 Axes>"
      ]
     },
     "metadata": {
      "needs_background": "light"
     },
     "output_type": "display_data"
    }
   ],
   "source": [
    "plt.figure(figsize = (8,6))\n",
    "plt.title(\"Demand_For_Product and Sales performance\")\n",
    "sns.countplot('Demand_For_Product',hue = \"Sales_Performance\",data =data,palette = 'winter')"
   ]
  },
  {
   "cell_type": "code",
   "execution_count": 69,
   "metadata": {},
   "outputs": [
    {
     "data": {
      "text/plain": [
       "<matplotlib.axes._subplots.AxesSubplot at 0x1bdce6b6250>"
      ]
     },
     "execution_count": 69,
     "metadata": {},
     "output_type": "execute_result"
    },
    {
     "data": {
      "image/png": "[encoded data removed]",
      "text/plain": [
       "<Figure size 576x432 with 1 Axes>"
      ]
     },
     "metadata": {
      "needs_background": "light"
     },
     "output_type": "display_data"
    }
   ],
   "source": [
    "plt.figure(figsize = (8,6))\n",
    "plt.title(\"Supply_Of_Raw_Materials and Sales performance\")\n",
    "sns.countplot('Supply_Of_Raw_Materials',hue = \"Sales_Performance\",data =data,palette = 'rocket')"
   ]
  },
  {
   "cell_type": "code",
   "execution_count": 70,
   "metadata": {},
   "outputs": [
    {
     "data": {
      "text/plain": [
       "<matplotlib.axes._subplots.AxesSubplot at 0x1bdce707f70>"
      ]
     },
     "execution_count": 70,
     "metadata": {},
     "output_type": "execute_result"
    },
    {
     "data": {
      "image/png": "[encoded data removed]",
      "text/plain": [
       "<Figure size 576x432 with 1 Axes>"
      ]
     },
     "metadata": {
      "needs_background": "light"
     },
     "output_type": "display_data"
    }
   ],
   "source": [
    "plt.figure(figsize = (8,6))\n",
    "plt.title(\"Online_Business and Sales performance\")\n",
    "sns.countplot('Online_Business',hue = \"Sales_Performance\",data =data,palette = 'hls')"
   ]
  },
  {
   "cell_type": "code",
   "execution_count": 71,
   "metadata": {},
   "outputs": [
    {
     "data": {
      "text/plain": [
       "<matplotlib.axes._subplots.AxesSubplot at 0x1bdce80cbe0>"
      ]
     },
     "execution_count": 71,
     "metadata": {},
     "output_type": "execute_result"
    },
    {
     "data": {
      "image/png": "[encoded data removed]",
      "text/plain": [
       "<Figure size 576x432 with 1 Axes>"
      ]
     },
     "metadata": {
      "needs_background": "light"
     },
     "output_type": "display_data"
    }
   ],
   "source": [
    "plt.figure(figsize = (8,6))\n",
    "plt.title(\"Remote_Work_Arrangements and Sales performance\")\n",
    "sns.countplot('Remote_Work_Arrangements',hue = \"Sales_Performance\",data =data,palette = 'rainbow')"
   ]
  },
  {
   "cell_type": "code",
   "execution_count": 72,
   "metadata": {},
   "outputs": [
    {
     "data": {
      "text/plain": [
       "<matplotlib.axes._subplots.AxesSubplot at 0x1bdcf836c10>"
      ]
     },
     "execution_count": 72,
     "metadata": {},
     "output_type": "execute_result"
    },
    {
     "data": {
      "image/png": "[encoded data removed]",
      "text/plain": [
       "<Figure size 576x432 with 1 Axes>"
      ]
     },
     "metadata": {
      "needs_background": "light"
     },
     "output_type": "display_data"
    }
   ],
   "source": [
    "plt.figure(figsize = (8,6))\n",
    "plt.title(\"Financial_Performance and Sales performance\")\n",
    "sns.countplot('Financial_Performance',hue = \"Sales_Performance\",data =data,palette = 'rainbow')"
   ]
  },
  {
   "cell_type": "code",
   "execution_count": 73,
   "metadata": {},
   "outputs": [
    {
     "data": {
      "text/plain": [
       "<matplotlib.axes._subplots.AxesSubplot at 0x1bdcf8906d0>"
      ]
     },
     "execution_count": 73,
     "metadata": {},
     "output_type": "execute_result"
    },
    {
     "data": {
      "image/png": "[encoded data removed]",
      "text/plain": [
       "<Figure size 576x432 with 1 Axes>"
      ]
     },
     "metadata": {
      "needs_background": "light"
     },
     "output_type": "display_data"
    }
   ],
   "source": [
    "plt.figure(figsize = (8,6))\n",
    "plt.title(\"Received_Any_Establishment and Sales performance\")\n",
    "sns.countplot('Received_Any_Establishment',hue = \"Sales_Performance\",data =data,palette = 'rainbow')"
   ]
  },
  {
   "cell_type": "code",
   "execution_count": 75,
   "metadata": {},
   "outputs": [
    {
     "data": {
      "text/plain": [
       "Idustry_Type                  0\n",
       "Current_Situation             0\n",
       "Sales_Performance             0\n",
       "Indirect_Exports              0\n",
       "Direct_Export                 0\n",
       "Production_Conversion         0\n",
       "Hours_Worked_Per_Week         0\n",
       "Demand_For_Product            0\n",
       "Supply_Of_Raw_Materials       0\n",
       "Online_Business               0\n",
       "Remote_Work_Arrangements      0\n",
       "Financial_Performance         0\n",
       "Received_Any_Establishment    0\n",
       "dtype: int64"
      ]
     },
     "execution_count": 75,
     "metadata": {},
     "output_type": "execute_result"
    }
   ],
   "source": [
    "data.isnull().sum()"
   ]
  },
  {
   "cell_type": "code",
   "execution_count": 78,
   "metadata": {},
   "outputs": [],
   "source": [
    "data = data.reindex(['Sales_Performance','Indirect_Exports', 'Direct_Export','Idustry_Type',\n",
    "                     'Current_Situation','Hours_Worked_Per_Week', 'Demand_For_Product',\n",
    "                     'Supply_Of_Raw_Materials','Financial_Performance', 'Online_Business',\n",
    "                     'Production_Conversion',\n",
    "                     'Received_Any_Establishment','Remote_Work_Arrangements'],axis = 1)"
   ]
  },
  {
   "cell_type": "code",
   "execution_count": 79,
   "metadata": {},
   "outputs": [
    {
     "data": {
      "text/plain": [
       "Index(['Sales_Performance', 'Indirect_Exports', 'Direct_Export',\n",
       "       'Idustry_Type', 'Current_Situation', 'Hours_Worked_Per_Week',\n",
       "       'Demand_For_Product', 'Supply_Of_Raw_Materials',\n",
       "       'Financial_Performance', 'Online_Business', 'Production_Conversion',\n",
       "       'Received_Any_Establishment', 'Remote_Work_Arrangements'],\n",
       "      dtype='object')"
      ]
     },
     "execution_count": 79,
     "metadata": {},
     "output_type": "execute_result"
    }
   ],
   "source": [
    "data.columns"
   ]
  },
  {
   "cell_type": "code",
   "execution_count": 82,
   "metadata": {},
   "outputs": [
    {
     "name": "stdout",
     "output_type": "stream",
     "text": [
      "<class 'pandas.core.frame.DataFrame'>\n",
      "Int64Index: 316 entries, 0 to 345\n",
      "Data columns (total 13 columns):\n",
      " #   Column                      Non-Null Count  Dtype   \n",
      "---  ------                      --------------  -----   \n",
      " 0   Sales_Performance           316 non-null    object  \n",
      " 1   Indirect_Exports            316 non-null    category\n",
      " 2   Direct_Export               316 non-null    category\n",
      " 3   Idustry_Type                316 non-null    category\n",
      " 4   Current_Situation           316 non-null    category\n",
      " 5   Hours_Worked_Per_Week       316 non-null    category\n",
      " 6   Demand_For_Product          316 non-null    category\n",
      " 7   Supply_Of_Raw_Materials     316 non-null    category\n",
      " 8   Financial_Performance       316 non-null    category\n",
      " 9   Online_Business             316 non-null    category\n",
      " 10  Production_Conversion       316 non-null    category\n",
      " 11  Received_Any_Establishment  316 non-null    category\n",
      " 12  Remote_Work_Arrangements    316 non-null    category\n",
      "dtypes: category(12), object(1)\n",
      "memory usage: 20.8+ KB\n"
     ]
    }
   ],
   "source": [
    "data.info()"
   ]
  },
  {
   "cell_type": "markdown",
   "metadata": {},
   "source": [
    "## Converting percentages in to intervel categories\n",
    "#### 1. Indirect_Exports ,2. Direct_Export\n",
    "1. 0 - 25 range --> very_low\n",
    "2. 26- 50 --> low\n",
    "3. 51 - 75 --> medium\n",
    "4. 76 - 100 --> high"
   ]
  },
  {
   "cell_type": "code",
   "execution_count": 86,
   "metadata": {},
   "outputs": [
    {
     "data": {
      "text/plain": [
       "[0.0, 10.0, 30.0, 50.0, 15.0, 100.0, 90.0, 5.0, 20.0]\n",
       "Categories (9, object): [0.0 < 5.0 < 10.0 < 15.0 ... 30.0 < 50.0 < 90.0 < 100.0]"
      ]
     },
     "execution_count": 86,
     "metadata": {},
     "output_type": "execute_result"
    }
   ],
   "source": [
    "data.Indirect_Exports.unique()"
   ]
  },
  {
   "cell_type": "code",
   "execution_count": 87,
   "metadata": {},
   "outputs": [
    {
     "data": {
      "text/plain": [
       "0.0      302\n",
       "30.0       3\n",
       "100.0      2\n",
       "50.0       2\n",
       "15.0       2\n",
       "10.0       2\n",
       "90.0       1\n",
       "20.0       1\n",
       "5.0        1\n",
       "Name: Indirect_Exports, dtype: int64"
      ]
     },
     "execution_count": 87,
     "metadata": {},
     "output_type": "execute_result"
    }
   ],
   "source": [
    "data.Indirect_Exports.value_counts()"
   ]
  },
  {
   "cell_type": "code",
   "execution_count": 89,
   "metadata": {},
   "outputs": [
    {
     "data": {
      "text/plain": [
       "0.0      242\n",
       "100.0     44\n",
       "50.0       9\n",
       "20.0       5\n",
       "97.0       2\n",
       "90.0       2\n",
       "30.0       2\n",
       "5.0        2\n",
       "85.0       1\n",
       "80.0       1\n",
       "70.0       1\n",
       "60.0       1\n",
       "45.0       1\n",
       "25.0       1\n",
       "15.0       1\n",
       "10.0       1\n",
       "Name: Direct_Export, dtype: int64"
      ]
     },
     "execution_count": 89,
     "metadata": {},
     "output_type": "execute_result"
    }
   ],
   "source": [
    "data.Direct_Export.value_counts()"
   ]
  },
  {
   "cell_type": "code",
   "execution_count": 90,
   "metadata": {},
   "outputs": [
    {
     "data": {
      "text/html": [
       "<div>\n",
       "<style scoped>\n",
       "    .dataframe tbody tr th:only-of-type {\n",
       "        vertical-align: middle;\n",
       "    }\n",
       "\n",
       "    .dataframe tbody tr th {\n",
       "        vertical-align: top;\n",
       "    }\n",
       "\n",
       "    .dataframe thead th {\n",
       "        text-align: right;\n",
       "    }\n",
       "</style>\n",
       "<table border=\"1\" class=\"dataframe\">\n",
       "  <thead>\n",
       "    <tr style=\"text-align: right;\">\n",
       "      <th></th>\n",
       "      <th>Sales_Performance</th>\n",
       "      <th>Indirect_Exports</th>\n",
       "      <th>Direct_Export</th>\n",
       "      <th>Idustry_Type</th>\n",
       "      <th>Current_Situation</th>\n",
       "      <th>Hours_Worked_Per_Week</th>\n",
       "      <th>Demand_For_Product</th>\n",
       "      <th>Supply_Of_Raw_Materials</th>\n",
       "      <th>Financial_Performance</th>\n",
       "      <th>Online_Business</th>\n",
       "      <th>Production_Conversion</th>\n",
       "      <th>Received_Any_Establishment</th>\n",
       "      <th>Remote_Work_Arrangements</th>\n",
       "    </tr>\n",
       "  </thead>\n",
       "  <tbody>\n",
       "    <tr>\n",
       "      <th>0</th>\n",
       "      <td>Decrease</td>\n",
       "      <td>0.0</td>\n",
       "      <td>0.0</td>\n",
       "      <td>Manufacturing</td>\n",
       "      <td>Open</td>\n",
       "      <td>Decrease</td>\n",
       "      <td>Decrease</td>\n",
       "      <td>Decrease</td>\n",
       "      <td>Decrease</td>\n",
       "      <td>No</td>\n",
       "      <td>No</td>\n",
       "      <td>No</td>\n",
       "      <td>No</td>\n",
       "    </tr>\n",
       "    <tr>\n",
       "      <th>1</th>\n",
       "      <td>Remain the same</td>\n",
       "      <td>0.0</td>\n",
       "      <td>0.0</td>\n",
       "      <td>Retail services</td>\n",
       "      <td>Open</td>\n",
       "      <td>Decrease</td>\n",
       "      <td>Decrease</td>\n",
       "      <td>Decrease</td>\n",
       "      <td>Decrease</td>\n",
       "      <td>Yes</td>\n",
       "      <td>Yes</td>\n",
       "      <td>No</td>\n",
       "      <td>No</td>\n",
       "    </tr>\n",
       "    <tr>\n",
       "      <th>2</th>\n",
       "      <td>Decrease</td>\n",
       "      <td>0.0</td>\n",
       "      <td>0.0</td>\n",
       "      <td>Retail services</td>\n",
       "      <td>Open</td>\n",
       "      <td>Decrease</td>\n",
       "      <td>Decrease</td>\n",
       "      <td>Remain the same</td>\n",
       "      <td>Decrease</td>\n",
       "      <td>Yes</td>\n",
       "      <td>Yes</td>\n",
       "      <td>No</td>\n",
       "      <td>Yes</td>\n",
       "    </tr>\n",
       "    <tr>\n",
       "      <th>3</th>\n",
       "      <td>Decrease</td>\n",
       "      <td>0.0</td>\n",
       "      <td>0.0</td>\n",
       "      <td>Manufacturing</td>\n",
       "      <td>Temporarily closed</td>\n",
       "      <td>Decrease</td>\n",
       "      <td>Decrease</td>\n",
       "      <td>Decrease</td>\n",
       "      <td>Decrease</td>\n",
       "      <td>No</td>\n",
       "      <td>No</td>\n",
       "      <td>No</td>\n",
       "      <td>No</td>\n",
       "    </tr>\n",
       "  </tbody>\n",
       "</table>\n",
       "</div>"
      ],
      "text/plain": [
       "  Sales_Performance Indirect_Exports Direct_Export     Idustry_Type  \\\n",
       "0          Decrease              0.0           0.0    Manufacturing   \n",
       "1   Remain the same              0.0           0.0  Retail services   \n",
       "2          Decrease              0.0           0.0  Retail services   \n",
       "3          Decrease              0.0           0.0    Manufacturing   \n",
       "\n",
       "    Current_Situation Hours_Worked_Per_Week Demand_For_Product  \\\n",
       "0                Open              Decrease           Decrease   \n",
       "1                Open              Decrease           Decrease   \n",
       "2                Open              Decrease           Decrease   \n",
       "3  Temporarily closed              Decrease           Decrease   \n",
       "\n",
       "  Supply_Of_Raw_Materials Financial_Performance Online_Business  \\\n",
       "0                Decrease              Decrease              No   \n",
       "1                Decrease              Decrease             Yes   \n",
       "2         Remain the same              Decrease             Yes   \n",
       "3                Decrease              Decrease              No   \n",
       "\n",
       "  Production_Conversion Received_Any_Establishment Remote_Work_Arrangements  \n",
       "0                    No                         No                       No  \n",
       "1                   Yes                         No                       No  \n",
       "2                   Yes                         No                      Yes  \n",
       "3                    No                         No                       No  "
      ]
     },
     "execution_count": 90,
     "metadata": {},
     "output_type": "execute_result"
    }
   ],
   "source": [
    "data.head(4)"
   ]
  },
  {
   "cell_type": "code",
   "execution_count": 92,
   "metadata": {},
   "outputs": [
    {
     "data": {
      "text/html": [
       "<div>\n",
       "<style scoped>\n",
       "    .dataframe tbody tr th:only-of-type {\n",
       "        vertical-align: middle;\n",
       "    }\n",
       "\n",
       "    .dataframe tbody tr th {\n",
       "        vertical-align: top;\n",
       "    }\n",
       "\n",
       "    .dataframe thead th {\n",
       "        text-align: right;\n",
       "    }\n",
       "</style>\n",
       "<table border=\"1\" class=\"dataframe\">\n",
       "  <thead>\n",
       "    <tr style=\"text-align: right;\">\n",
       "      <th></th>\n",
       "      <th>Indirect_Exports</th>\n",
       "      <th>Direct_Export</th>\n",
       "    </tr>\n",
       "  </thead>\n",
       "  <tbody>\n",
       "    <tr>\n",
       "      <th>0</th>\n",
       "      <td>0.0</td>\n",
       "      <td>0.0</td>\n",
       "    </tr>\n",
       "    <tr>\n",
       "      <th>1</th>\n",
       "      <td>0.0</td>\n",
       "      <td>0.0</td>\n",
       "    </tr>\n",
       "    <tr>\n",
       "      <th>2</th>\n",
       "      <td>0.0</td>\n",
       "      <td>0.0</td>\n",
       "    </tr>\n",
       "    <tr>\n",
       "      <th>3</th>\n",
       "      <td>0.0</td>\n",
       "      <td>0.0</td>\n",
       "    </tr>\n",
       "    <tr>\n",
       "      <th>4</th>\n",
       "      <td>0.0</td>\n",
       "      <td>0.0</td>\n",
       "    </tr>\n",
       "  </tbody>\n",
       "</table>\n",
       "</div>"
      ],
      "text/plain": [
       "  Indirect_Exports Direct_Export\n",
       "0              0.0           0.0\n",
       "1              0.0           0.0\n",
       "2              0.0           0.0\n",
       "3              0.0           0.0\n",
       "4              0.0           0.0"
      ]
     },
     "execution_count": 92,
     "metadata": {},
     "output_type": "execute_result"
    }
   ],
   "source": [
    "data_dummy_of_DI = data.iloc[:,1:3]\n",
    "data_dummy_of_DI.head(5)"
   ]
  },
  {
   "cell_type": "markdown",
   "metadata": {},
   "source": [
    "#### numerical value of direct and indirect tax both in a single data frame"
   ]
  },
  {
   "cell_type": "code",
   "execution_count": 95,
   "metadata": {},
   "outputs": [],
   "source": [
    "data_dummy_of_DI[\"Indirect_Exports\"]=data_dummy_of_DI[\"Indirect_Exports\"].astype(float)"
   ]
  },
  {
   "cell_type": "code",
   "execution_count": 96,
   "metadata": {},
   "outputs": [],
   "source": [
    "data_dummy_of_DI[\"Direct_Export\"]=data_dummy_of_DI[\"Direct_Export\"].astype(float)"
   ]
  },
  {
   "cell_type": "code",
   "execution_count": 103,
   "metadata": {},
   "outputs": [
    {
     "data": {
      "text/html": [
       "<div>\n",
       "<style scoped>\n",
       "    .dataframe tbody tr th:only-of-type {\n",
       "        vertical-align: middle;\n",
       "    }\n",
       "\n",
       "    .dataframe tbody tr th {\n",
       "        vertical-align: top;\n",
       "    }\n",
       "\n",
       "    .dataframe thead th {\n",
       "        text-align: right;\n",
       "    }\n",
       "</style>\n",
       "<table border=\"1\" class=\"dataframe\">\n",
       "  <thead>\n",
       "    <tr style=\"text-align: right;\">\n",
       "      <th></th>\n",
       "      <th>Indirect_Exports</th>\n",
       "      <th>Direct_Export</th>\n",
       "    </tr>\n",
       "  </thead>\n",
       "  <tbody>\n",
       "    <tr>\n",
       "      <th>0</th>\n",
       "      <td>0.0</td>\n",
       "      <td>0.0</td>\n",
       "    </tr>\n",
       "    <tr>\n",
       "      <th>1</th>\n",
       "      <td>0.0</td>\n",
       "      <td>0.0</td>\n",
       "    </tr>\n",
       "    <tr>\n",
       "      <th>2</th>\n",
       "      <td>0.0</td>\n",
       "      <td>0.0</td>\n",
       "    </tr>\n",
       "    <tr>\n",
       "      <th>3</th>\n",
       "      <td>0.0</td>\n",
       "      <td>0.0</td>\n",
       "    </tr>\n",
       "  </tbody>\n",
       "</table>\n",
       "</div>"
      ],
      "text/plain": [
       "   Indirect_Exports  Direct_Export\n",
       "0               0.0            0.0\n",
       "1               0.0            0.0\n",
       "2               0.0            0.0\n",
       "3               0.0            0.0"
      ]
     },
     "execution_count": 103,
     "metadata": {},
     "output_type": "execute_result"
    }
   ],
   "source": [
    "data_dummy_of_DI.head(4)"
   ]
  },
  {
   "cell_type": "code",
   "execution_count": 128,
   "metadata": {},
   "outputs": [],
   "source": [
    "data = pd.concat([data,data_dummy_of_DI],axis = 1,ignore_index= False)"
   ]
  },
  {
   "cell_type": "code",
   "execution_count": 129,
   "metadata": {},
   "outputs": [],
   "source": [
    "# deinition for dummy variable creation\n",
    "def dummy_indirect(i):\n",
    "    if i == 0.0:\n",
    "        return \"very_low\"\n",
    "    if i == 30.0:\n",
    "        return \"low\"\n",
    "    if i ==100.0:\n",
    "        return \"high\"\n",
    "    if i == 50.0:\n",
    "        return \"medium\"\n",
    "    if i == 15.0:\n",
    "        return \"very_low\"\n",
    "    if i == 10.0:\n",
    "        return \"very_low\"  \n",
    "    if i == 90.0:\n",
    "        return \"high\" \n",
    "    if i == 20.0:\n",
    "        return \"very_low\"     \n",
    "    else:\n",
    "        return \"very_low\"\n",
    "    "
   ]
  },
  {
   "cell_type": "code",
   "execution_count": 130,
   "metadata": {},
   "outputs": [],
   "source": [
    "data['Indirect_Export'] = data['Indirect_Exports'].apply(dummy_indirect)"
   ]
  },
  {
   "cell_type": "code",
   "execution_count": 131,
   "metadata": {},
   "outputs": [
    {
     "data": {
      "text/plain": [
       "0    very_low\n",
       "1    very_low\n",
       "2    very_low\n",
       "Name: Indirect_Export, dtype: object"
      ]
     },
     "execution_count": 131,
     "metadata": {},
     "output_type": "execute_result"
    }
   ],
   "source": [
    "data['Indirect_Export'].head(3)"
   ]
  },
  {
   "cell_type": "code",
   "execution_count": 132,
   "metadata": {},
   "outputs": [
    {
     "data": {
      "text/plain": [
       "very_low    308\n",
       "high          3\n",
       "low           3\n",
       "medium        2\n",
       "Name: Indirect_Export, dtype: int64"
      ]
     },
     "execution_count": 132,
     "metadata": {},
     "output_type": "execute_result"
    }
   ],
   "source": [
    "data['Indirect_Export'].value_counts()"
   ]
  },
  {
   "cell_type": "code",
   "execution_count": 133,
   "metadata": {},
   "outputs": [],
   "source": [
    "del data[\"Indirect_Exports\"]"
   ]
  },
  {
   "cell_type": "code",
   "execution_count": 135,
   "metadata": {},
   "outputs": [
    {
     "data": {
      "text/plain": [
       "Index(['Sales_Performance', 'Idustry_Type', 'Current_Situation',\n",
       "       'Hours_Worked_Per_Week', 'Demand_For_Product',\n",
       "       'Supply_Of_Raw_Materials', 'Financial_Performance', 'Online_Business',\n",
       "       'Production_Conversion', 'Received_Any_Establishment',\n",
       "       'Remote_Work_Arrangements', 'Direct_Export', 'Indirect_Export'],\n",
       "      dtype='object')"
      ]
     },
     "execution_count": 135,
     "metadata": {},
     "output_type": "execute_result"
    }
   ],
   "source": [
    "data.columns"
   ]
  },
  {
   "cell_type": "code",
   "execution_count": 137,
   "metadata": {},
   "outputs": [],
   "source": [
    "# deinition for dummy variable creation\n",
    "def dummy_direct(i):\n",
    "    if i == 0.0:\n",
    "        return \"very_low\"\n",
    "    if i == 30.0:\n",
    "        return \"low\"\n",
    "    if i ==100.0:\n",
    "        return \"high\"\n",
    "    if i == 50.0:\n",
    "        return \"medium\"\n",
    "    if i == 15.0:\n",
    "        return \"very_low\"\n",
    "    if i == 10.0:\n",
    "        return \"very_low\"  \n",
    "    if i == 90.0:\n",
    "        return \"high\" \n",
    "    if i == 20.0:\n",
    "        return \"very_low\"\n",
    "    if i == 97.0:\n",
    "        return \"high\"\n",
    "    if i == 85.0:\n",
    "        return \"high\"\n",
    "    if i == 80.0:\n",
    "        return \"high\"\n",
    "    if i == 70.0:\n",
    "        return \"medium\"\n",
    "    if i == 60.0:\n",
    "        return \"medium\"\n",
    "    if i == 45.0:\n",
    "        return \"low\"\n",
    "    if i == 25.0:\n",
    "        return \"very_low\"\n",
    "    else:\n",
    "        return \"very_low\""
   ]
  },
  {
   "cell_type": "code",
   "execution_count": 138,
   "metadata": {},
   "outputs": [
    {
     "data": {
      "text/plain": [
       "(16,)"
      ]
     },
     "execution_count": 138,
     "metadata": {},
     "output_type": "execute_result"
    }
   ],
   "source": [
    "data.Direct_Export.unique().shape"
   ]
  },
  {
   "cell_type": "code",
   "execution_count": 139,
   "metadata": {},
   "outputs": [],
   "source": [
    "data['Direct_Export'] = data['Direct_Export'].apply(dummy_direct)"
   ]
  },
  {
   "cell_type": "code",
   "execution_count": 140,
   "metadata": {},
   "outputs": [
    {
     "data": {
      "text/plain": [
       "very_low    252\n",
       "high         50\n",
       "medium       11\n",
       "low           3\n",
       "Name: Direct_Export, dtype: int64"
      ]
     },
     "execution_count": 140,
     "metadata": {},
     "output_type": "execute_result"
    }
   ],
   "source": [
    "data.Direct_Export.value_counts()"
   ]
  },
  {
   "cell_type": "code",
   "execution_count": 141,
   "metadata": {},
   "outputs": [
    {
     "data": {
      "text/plain": [
       "Index(['Sales_Performance', 'Idustry_Type', 'Current_Situation',\n",
       "       'Hours_Worked_Per_Week', 'Demand_For_Product',\n",
       "       'Supply_Of_Raw_Materials', 'Financial_Performance', 'Online_Business',\n",
       "       'Production_Conversion', 'Received_Any_Establishment',\n",
       "       'Remote_Work_Arrangements', 'Direct_Export', 'Indirect_Export'],\n",
       "      dtype='object')"
      ]
     },
     "execution_count": 141,
     "metadata": {},
     "output_type": "execute_result"
    }
   ],
   "source": [
    "data.columns"
   ]
  },
  {
   "cell_type": "code",
   "execution_count": 144,
   "metadata": {},
   "outputs": [],
   "source": [
    "data = data.reindex(['Sales_Performance', 'Idustry_Type', 'Current_Situation', 'Direct_Export', 'Indirect_Export',\n",
    "                    'Hours_Worked_Per_Week', 'Demand_For_Product',\n",
    "                    'Supply_Of_Raw_Materials', 'Financial_Performance', 'Online_Business',\n",
    "                    'Production_Conversion', 'Received_Any_Establishment','Remote_Work_Arrangements'],axis=1)"
   ]
  },
  {
   "cell_type": "code",
   "execution_count": 145,
   "metadata": {},
   "outputs": [
    {
     "data": {
      "text/plain": [
       "Index(['Sales_Performance', 'Idustry_Type', 'Current_Situation',\n",
       "       'Direct_Export', 'Indirect_Export', 'Hours_Worked_Per_Week',\n",
       "       'Demand_For_Product', 'Supply_Of_Raw_Materials',\n",
       "       'Financial_Performance', 'Online_Business', 'Production_Conversion',\n",
       "       'Received_Any_Establishment', 'Remote_Work_Arrangements'],\n",
       "      dtype='object')"
      ]
     },
     "execution_count": 145,
     "metadata": {},
     "output_type": "execute_result"
    }
   ],
   "source": [
    "data.columns"
   ]
  },
  {
   "cell_type": "code",
   "execution_count": 146,
   "metadata": {},
   "outputs": [
    {
     "data": {
      "text/html": [
       "<div>\n",
       "<style scoped>\n",
       "    .dataframe tbody tr th:only-of-type {\n",
       "        vertical-align: middle;\n",
       "    }\n",
       "\n",
       "    .dataframe tbody tr th {\n",
       "        vertical-align: top;\n",
       "    }\n",
       "\n",
       "    .dataframe thead th {\n",
       "        text-align: right;\n",
       "    }\n",
       "</style>\n",
       "<table border=\"1\" class=\"dataframe\">\n",
       "  <thead>\n",
       "    <tr style=\"text-align: right;\">\n",
       "      <th></th>\n",
       "      <th>Sales_Performance</th>\n",
       "      <th>Idustry_Type</th>\n",
       "      <th>Current_Situation</th>\n",
       "      <th>Direct_Export</th>\n",
       "      <th>Indirect_Export</th>\n",
       "      <th>Hours_Worked_Per_Week</th>\n",
       "      <th>Demand_For_Product</th>\n",
       "      <th>Supply_Of_Raw_Materials</th>\n",
       "      <th>Financial_Performance</th>\n",
       "      <th>Online_Business</th>\n",
       "      <th>Production_Conversion</th>\n",
       "      <th>Received_Any_Establishment</th>\n",
       "      <th>Remote_Work_Arrangements</th>\n",
       "    </tr>\n",
       "  </thead>\n",
       "  <tbody>\n",
       "    <tr>\n",
       "      <th>0</th>\n",
       "      <td>Decrease</td>\n",
       "      <td>Manufacturing</td>\n",
       "      <td>Open</td>\n",
       "      <td>very_low</td>\n",
       "      <td>very_low</td>\n",
       "      <td>Decrease</td>\n",
       "      <td>Decrease</td>\n",
       "      <td>Decrease</td>\n",
       "      <td>Decrease</td>\n",
       "      <td>No</td>\n",
       "      <td>No</td>\n",
       "      <td>No</td>\n",
       "      <td>No</td>\n",
       "    </tr>\n",
       "    <tr>\n",
       "      <th>1</th>\n",
       "      <td>Remain the same</td>\n",
       "      <td>Retail services</td>\n",
       "      <td>Open</td>\n",
       "      <td>very_low</td>\n",
       "      <td>very_low</td>\n",
       "      <td>Decrease</td>\n",
       "      <td>Decrease</td>\n",
       "      <td>Decrease</td>\n",
       "      <td>Decrease</td>\n",
       "      <td>Yes</td>\n",
       "      <td>Yes</td>\n",
       "      <td>No</td>\n",
       "      <td>No</td>\n",
       "    </tr>\n",
       "    <tr>\n",
       "      <th>2</th>\n",
       "      <td>Decrease</td>\n",
       "      <td>Retail services</td>\n",
       "      <td>Open</td>\n",
       "      <td>very_low</td>\n",
       "      <td>very_low</td>\n",
       "      <td>Decrease</td>\n",
       "      <td>Decrease</td>\n",
       "      <td>Remain the same</td>\n",
       "      <td>Decrease</td>\n",
       "      <td>Yes</td>\n",
       "      <td>Yes</td>\n",
       "      <td>No</td>\n",
       "      <td>Yes</td>\n",
       "    </tr>\n",
       "    <tr>\n",
       "      <th>3</th>\n",
       "      <td>Decrease</td>\n",
       "      <td>Manufacturing</td>\n",
       "      <td>Temporarily closed</td>\n",
       "      <td>very_low</td>\n",
       "      <td>very_low</td>\n",
       "      <td>Decrease</td>\n",
       "      <td>Decrease</td>\n",
       "      <td>Decrease</td>\n",
       "      <td>Decrease</td>\n",
       "      <td>No</td>\n",
       "      <td>No</td>\n",
       "      <td>No</td>\n",
       "      <td>No</td>\n",
       "    </tr>\n",
       "  </tbody>\n",
       "</table>\n",
       "</div>"
      ],
      "text/plain": [
       "  Sales_Performance     Idustry_Type   Current_Situation Direct_Export  \\\n",
       "0          Decrease    Manufacturing                Open      very_low   \n",
       "1   Remain the same  Retail services                Open      very_low   \n",
       "2          Decrease  Retail services                Open      very_low   \n",
       "3          Decrease    Manufacturing  Temporarily closed      very_low   \n",
       "\n",
       "  Indirect_Export Hours_Worked_Per_Week Demand_For_Product  \\\n",
       "0        very_low              Decrease           Decrease   \n",
       "1        very_low              Decrease           Decrease   \n",
       "2        very_low              Decrease           Decrease   \n",
       "3        very_low              Decrease           Decrease   \n",
       "\n",
       "  Supply_Of_Raw_Materials Financial_Performance Online_Business  \\\n",
       "0                Decrease              Decrease              No   \n",
       "1                Decrease              Decrease             Yes   \n",
       "2         Remain the same              Decrease             Yes   \n",
       "3                Decrease              Decrease              No   \n",
       "\n",
       "  Production_Conversion Received_Any_Establishment Remote_Work_Arrangements  \n",
       "0                    No                         No                       No  \n",
       "1                   Yes                         No                       No  \n",
       "2                   Yes                         No                      Yes  \n",
       "3                    No                         No                       No  "
      ]
     },
     "execution_count": 146,
     "metadata": {},
     "output_type": "execute_result"
    }
   ],
   "source": [
    "data.head(4)"
   ]
  },
  {
   "cell_type": "code",
   "execution_count": 147,
   "metadata": {},
   "outputs": [],
   "source": [
    "data[\"Sales_Performance\"] = data[\"Sales_Performance\"].map({'Decrease':0,'Remain the same':1,'Increase':2})"
   ]
  },
  {
   "cell_type": "code",
   "execution_count": 149,
   "metadata": {},
   "outputs": [],
   "source": [
    "data[\"Sales_Performance\"] = data[\"Sales_Performance\"].astype(int)"
   ]
  },
  {
   "cell_type": "code",
   "execution_count": 150,
   "metadata": {},
   "outputs": [
    {
     "data": {
      "text/html": [
       "<div>\n",
       "<style scoped>\n",
       "    .dataframe tbody tr th:only-of-type {\n",
       "        vertical-align: middle;\n",
       "    }\n",
       "\n",
       "    .dataframe tbody tr th {\n",
       "        vertical-align: top;\n",
       "    }\n",
       "\n",
       "    .dataframe thead th {\n",
       "        text-align: right;\n",
       "    }\n",
       "</style>\n",
       "<table border=\"1\" class=\"dataframe\">\n",
       "  <thead>\n",
       "    <tr style=\"text-align: right;\">\n",
       "      <th></th>\n",
       "      <th>Sales_Performance</th>\n",
       "      <th>Idustry_Type</th>\n",
       "      <th>Current_Situation</th>\n",
       "      <th>Direct_Export</th>\n",
       "      <th>Indirect_Export</th>\n",
       "      <th>Hours_Worked_Per_Week</th>\n",
       "      <th>Demand_For_Product</th>\n",
       "      <th>Supply_Of_Raw_Materials</th>\n",
       "      <th>Financial_Performance</th>\n",
       "      <th>Online_Business</th>\n",
       "      <th>Production_Conversion</th>\n",
       "      <th>Received_Any_Establishment</th>\n",
       "      <th>Remote_Work_Arrangements</th>\n",
       "    </tr>\n",
       "  </thead>\n",
       "  <tbody>\n",
       "    <tr>\n",
       "      <th>0</th>\n",
       "      <td>0</td>\n",
       "      <td>Manufacturing</td>\n",
       "      <td>Open</td>\n",
       "      <td>very_low</td>\n",
       "      <td>very_low</td>\n",
       "      <td>Decrease</td>\n",
       "      <td>Decrease</td>\n",
       "      <td>Decrease</td>\n",
       "      <td>Decrease</td>\n",
       "      <td>No</td>\n",
       "      <td>No</td>\n",
       "      <td>No</td>\n",
       "      <td>No</td>\n",
       "    </tr>\n",
       "    <tr>\n",
       "      <th>1</th>\n",
       "      <td>1</td>\n",
       "      <td>Retail services</td>\n",
       "      <td>Open</td>\n",
       "      <td>very_low</td>\n",
       "      <td>very_low</td>\n",
       "      <td>Decrease</td>\n",
       "      <td>Decrease</td>\n",
       "      <td>Decrease</td>\n",
       "      <td>Decrease</td>\n",
       "      <td>Yes</td>\n",
       "      <td>Yes</td>\n",
       "      <td>No</td>\n",
       "      <td>No</td>\n",
       "    </tr>\n",
       "    <tr>\n",
       "      <th>2</th>\n",
       "      <td>0</td>\n",
       "      <td>Retail services</td>\n",
       "      <td>Open</td>\n",
       "      <td>very_low</td>\n",
       "      <td>very_low</td>\n",
       "      <td>Decrease</td>\n",
       "      <td>Decrease</td>\n",
       "      <td>Remain the same</td>\n",
       "      <td>Decrease</td>\n",
       "      <td>Yes</td>\n",
       "      <td>Yes</td>\n",
       "      <td>No</td>\n",
       "      <td>Yes</td>\n",
       "    </tr>\n",
       "    <tr>\n",
       "      <th>3</th>\n",
       "      <td>0</td>\n",
       "      <td>Manufacturing</td>\n",
       "      <td>Temporarily closed</td>\n",
       "      <td>very_low</td>\n",
       "      <td>very_low</td>\n",
       "      <td>Decrease</td>\n",
       "      <td>Decrease</td>\n",
       "      <td>Decrease</td>\n",
       "      <td>Decrease</td>\n",
       "      <td>No</td>\n",
       "      <td>No</td>\n",
       "      <td>No</td>\n",
       "      <td>No</td>\n",
       "    </tr>\n",
       "  </tbody>\n",
       "</table>\n",
       "</div>"
      ],
      "text/plain": [
       "   Sales_Performance     Idustry_Type   Current_Situation Direct_Export  \\\n",
       "0                  0    Manufacturing                Open      very_low   \n",
       "1                  1  Retail services                Open      very_low   \n",
       "2                  0  Retail services                Open      very_low   \n",
       "3                  0    Manufacturing  Temporarily closed      very_low   \n",
       "\n",
       "  Indirect_Export Hours_Worked_Per_Week Demand_For_Product  \\\n",
       "0        very_low              Decrease           Decrease   \n",
       "1        very_low              Decrease           Decrease   \n",
       "2        very_low              Decrease           Decrease   \n",
       "3        very_low              Decrease           Decrease   \n",
       "\n",
       "  Supply_Of_Raw_Materials Financial_Performance Online_Business  \\\n",
       "0                Decrease              Decrease              No   \n",
       "1                Decrease              Decrease             Yes   \n",
       "2         Remain the same              Decrease             Yes   \n",
       "3                Decrease              Decrease              No   \n",
       "\n",
       "  Production_Conversion Received_Any_Establishment Remote_Work_Arrangements  \n",
       "0                    No                         No                       No  \n",
       "1                   Yes                         No                       No  \n",
       "2                   Yes                         No                      Yes  \n",
       "3                    No                         No                       No  "
      ]
     },
     "execution_count": 150,
     "metadata": {},
     "output_type": "execute_result"
    }
   ],
   "source": [
    "data.head(4)"
   ]
  },
  {
   "cell_type": "code",
   "execution_count": 165,
   "metadata": {},
   "outputs": [],
   "source": [
    "data.to_stata('Actual_data_of_Angolia.dta')"
   ]
  },
  {
   "cell_type": "code",
   "execution_count": 1,
   "metadata": {},
   "outputs": [],
   "source": [
    "import pandas as pd\n",
    "import numpy as np\n",
    "data = pd.read_stata(\"C:\\\\Users\\\\Lenovo\\\\Desktop\\\\webapp\\\\Baijuu\\\\Actual_data_of_Angolia.dta\")\n",
    "del data['index']"
   ]
  },
  {
   "cell_type": "code",
   "execution_count": 8,
   "metadata": {},
   "outputs": [
    {
     "data": {
      "text/html": [
       "<div>\n",
       "<style scoped>\n",
       "    .dataframe tbody tr th:only-of-type {\n",
       "        vertical-align: middle;\n",
       "    }\n",
       "\n",
       "    .dataframe tbody tr th {\n",
       "        vertical-align: top;\n",
       "    }\n",
       "\n",
       "    .dataframe thead th {\n",
       "        text-align: right;\n",
       "    }\n",
       "</style>\n",
       "<table border=\"1\" class=\"dataframe\">\n",
       "  <thead>\n",
       "    <tr style=\"text-align: right;\">\n",
       "      <th></th>\n",
       "      <th>Sales_Performance</th>\n",
       "      <th>Idustry_Type</th>\n",
       "      <th>Current_Situation</th>\n",
       "      <th>Direct_Export</th>\n",
       "      <th>Indirect_Export</th>\n",
       "      <th>Hours_Worked_Per_Week</th>\n",
       "      <th>Demand_For_Product</th>\n",
       "      <th>Supply_Of_Raw_Materials</th>\n",
       "      <th>Financial_Performance</th>\n",
       "      <th>Online_Business</th>\n",
       "      <th>Production_Conversion</th>\n",
       "      <th>Received_Any_Establishment</th>\n",
       "      <th>Remote_Work_Arrangements</th>\n",
       "    </tr>\n",
       "  </thead>\n",
       "  <tbody>\n",
       "    <tr>\n",
       "      <th>0</th>\n",
       "      <td>0</td>\n",
       "      <td>Manufacturing</td>\n",
       "      <td>Open</td>\n",
       "      <td>very_low</td>\n",
       "      <td>very_low</td>\n",
       "      <td>Decrease</td>\n",
       "      <td>Decrease</td>\n",
       "      <td>Decrease</td>\n",
       "      <td>Decrease</td>\n",
       "      <td>No</td>\n",
       "      <td>No</td>\n",
       "      <td>No</td>\n",
       "      <td>No</td>\n",
       "    </tr>\n",
       "    <tr>\n",
       "      <th>1</th>\n",
       "      <td>1</td>\n",
       "      <td>Retail services</td>\n",
       "      <td>Open</td>\n",
       "      <td>very_low</td>\n",
       "      <td>very_low</td>\n",
       "      <td>Decrease</td>\n",
       "      <td>Decrease</td>\n",
       "      <td>Decrease</td>\n",
       "      <td>Decrease</td>\n",
       "      <td>Yes</td>\n",
       "      <td>Yes</td>\n",
       "      <td>No</td>\n",
       "      <td>No</td>\n",
       "    </tr>\n",
       "    <tr>\n",
       "      <th>2</th>\n",
       "      <td>0</td>\n",
       "      <td>Retail services</td>\n",
       "      <td>Open</td>\n",
       "      <td>very_low</td>\n",
       "      <td>very_low</td>\n",
       "      <td>Decrease</td>\n",
       "      <td>Decrease</td>\n",
       "      <td>Remain the same</td>\n",
       "      <td>Decrease</td>\n",
       "      <td>Yes</td>\n",
       "      <td>Yes</td>\n",
       "      <td>No</td>\n",
       "      <td>Yes</td>\n",
       "    </tr>\n",
       "    <tr>\n",
       "      <th>3</th>\n",
       "      <td>0</td>\n",
       "      <td>Manufacturing</td>\n",
       "      <td>Temporarily closed</td>\n",
       "      <td>very_low</td>\n",
       "      <td>very_low</td>\n",
       "      <td>Decrease</td>\n",
       "      <td>Decrease</td>\n",
       "      <td>Decrease</td>\n",
       "      <td>Decrease</td>\n",
       "      <td>No</td>\n",
       "      <td>No</td>\n",
       "      <td>No</td>\n",
       "      <td>No</td>\n",
       "    </tr>\n",
       "    <tr>\n",
       "      <th>4</th>\n",
       "      <td>0</td>\n",
       "      <td>Manufacturing</td>\n",
       "      <td>Open</td>\n",
       "      <td>very_low</td>\n",
       "      <td>very_low</td>\n",
       "      <td>Decrease</td>\n",
       "      <td>Decrease</td>\n",
       "      <td>Decrease</td>\n",
       "      <td>Decrease</td>\n",
       "      <td>Yes</td>\n",
       "      <td>Yes</td>\n",
       "      <td>No</td>\n",
       "      <td>No</td>\n",
       "    </tr>\n",
       "  </tbody>\n",
       "</table>\n",
       "</div>"
      ],
      "text/plain": [
       "   Sales_Performance     Idustry_Type   Current_Situation Direct_Export  \\\n",
       "0                  0    Manufacturing                Open      very_low   \n",
       "1                  1  Retail services                Open      very_low   \n",
       "2                  0  Retail services                Open      very_low   \n",
       "3                  0    Manufacturing  Temporarily closed      very_low   \n",
       "4                  0    Manufacturing                Open      very_low   \n",
       "\n",
       "  Indirect_Export Hours_Worked_Per_Week Demand_For_Product  \\\n",
       "0        very_low              Decrease           Decrease   \n",
       "1        very_low              Decrease           Decrease   \n",
       "2        very_low              Decrease           Decrease   \n",
       "3        very_low              Decrease           Decrease   \n",
       "4        very_low              Decrease           Decrease   \n",
       "\n",
       "  Supply_Of_Raw_Materials Financial_Performance Online_Business  \\\n",
       "0                Decrease              Decrease              No   \n",
       "1                Decrease              Decrease             Yes   \n",
       "2         Remain the same              Decrease             Yes   \n",
       "3                Decrease              Decrease              No   \n",
       "4                Decrease              Decrease             Yes   \n",
       "\n",
       "  Production_Conversion Received_Any_Establishment Remote_Work_Arrangements  \n",
       "0                    No                         No                       No  \n",
       "1                   Yes                         No                       No  \n",
       "2                   Yes                         No                      Yes  \n",
       "3                    No                         No                       No  \n",
       "4                   Yes                         No                       No  "
      ]
     },
     "execution_count": 8,
     "metadata": {},
     "output_type": "execute_result"
    }
   ],
   "source": [
    "data.head(5)"
   ]
  },
  {
   "cell_type": "code",
   "execution_count": 9,
   "metadata": {},
   "outputs": [
    {
     "data": {
      "text/plain": [
       "0    262\n",
       "1     34\n",
       "2     20\n",
       "Name: Sales_Performance, dtype: int64"
      ]
     },
     "execution_count": 9,
     "metadata": {},
     "output_type": "execute_result"
    }
   ],
   "source": [
    "data.Sales_Performance.value_counts()"
   ]
  },
  {
   "cell_type": "code",
   "execution_count": 10,
   "metadata": {},
   "outputs": [],
   "source": [
    "# Considering the 1 and 2 as 1, because, 0 means covid Affected the company and the sales decreases. 1 means that covid not affected the company. sales is constand or increaase.\n",
    "def change(num):\n",
    "    if num == 0:\n",
    "        return 0\n",
    "    if num == 1:\n",
    "        return 1\n",
    "    else:\n",
    "        return 1\n",
    "data[\"Sales_Performance\"] = data[\"Sales_Performance\"].apply(change)"
   ]
  },
  {
   "cell_type": "code",
   "execution_count": 11,
   "metadata": {},
   "outputs": [
    {
     "data": {
      "text/plain": [
       "0    262\n",
       "1     54\n",
       "Name: Sales_Performance, dtype: int64"
      ]
     },
     "execution_count": 11,
     "metadata": {},
     "output_type": "execute_result"
    }
   ],
   "source": [
    "data.Sales_Performance.value_counts()"
   ]
  },
  {
   "cell_type": "code",
   "execution_count": 12,
   "metadata": {},
   "outputs": [
    {
     "data": {
      "text/html": [
       "<div>\n",
       "<style scoped>\n",
       "    .dataframe tbody tr th:only-of-type {\n",
       "        vertical-align: middle;\n",
       "    }\n",
       "\n",
       "    .dataframe tbody tr th {\n",
       "        vertical-align: top;\n",
       "    }\n",
       "\n",
       "    .dataframe thead th {\n",
       "        text-align: right;\n",
       "    }\n",
       "</style>\n",
       "<table border=\"1\" class=\"dataframe\">\n",
       "  <thead>\n",
       "    <tr style=\"text-align: right;\">\n",
       "      <th></th>\n",
       "      <th>Sales_Performance</th>\n",
       "      <th>Idustry_Type</th>\n",
       "      <th>Current_Situation</th>\n",
       "      <th>Direct_Export</th>\n",
       "      <th>Indirect_Export</th>\n",
       "      <th>Hours_Worked_Per_Week</th>\n",
       "      <th>Demand_For_Product</th>\n",
       "      <th>Supply_Of_Raw_Materials</th>\n",
       "      <th>Financial_Performance</th>\n",
       "      <th>Online_Business</th>\n",
       "      <th>Production_Conversion</th>\n",
       "      <th>Received_Any_Establishment</th>\n",
       "      <th>Remote_Work_Arrangements</th>\n",
       "    </tr>\n",
       "  </thead>\n",
       "  <tbody>\n",
       "    <tr>\n",
       "      <th>0</th>\n",
       "      <td>0</td>\n",
       "      <td>Manufacturing</td>\n",
       "      <td>Open</td>\n",
       "      <td>very_low</td>\n",
       "      <td>very_low</td>\n",
       "      <td>Decrease</td>\n",
       "      <td>Decrease</td>\n",
       "      <td>Decrease</td>\n",
       "      <td>Decrease</td>\n",
       "      <td>No</td>\n",
       "      <td>No</td>\n",
       "      <td>No</td>\n",
       "      <td>No</td>\n",
       "    </tr>\n",
       "    <tr>\n",
       "      <th>1</th>\n",
       "      <td>1</td>\n",
       "      <td>Retail services</td>\n",
       "      <td>Open</td>\n",
       "      <td>very_low</td>\n",
       "      <td>very_low</td>\n",
       "      <td>Decrease</td>\n",
       "      <td>Decrease</td>\n",
       "      <td>Decrease</td>\n",
       "      <td>Decrease</td>\n",
       "      <td>Yes</td>\n",
       "      <td>Yes</td>\n",
       "      <td>No</td>\n",
       "      <td>No</td>\n",
       "    </tr>\n",
       "    <tr>\n",
       "      <th>2</th>\n",
       "      <td>0</td>\n",
       "      <td>Retail services</td>\n",
       "      <td>Open</td>\n",
       "      <td>very_low</td>\n",
       "      <td>very_low</td>\n",
       "      <td>Decrease</td>\n",
       "      <td>Decrease</td>\n",
       "      <td>Remain the same</td>\n",
       "      <td>Decrease</td>\n",
       "      <td>Yes</td>\n",
       "      <td>Yes</td>\n",
       "      <td>No</td>\n",
       "      <td>Yes</td>\n",
       "    </tr>\n",
       "  </tbody>\n",
       "</table>\n",
       "</div>"
      ],
      "text/plain": [
       "   Sales_Performance     Idustry_Type Current_Situation Direct_Export  \\\n",
       "0                  0    Manufacturing              Open      very_low   \n",
       "1                  1  Retail services              Open      very_low   \n",
       "2                  0  Retail services              Open      very_low   \n",
       "\n",
       "  Indirect_Export Hours_Worked_Per_Week Demand_For_Product  \\\n",
       "0        very_low              Decrease           Decrease   \n",
       "1        very_low              Decrease           Decrease   \n",
       "2        very_low              Decrease           Decrease   \n",
       "\n",
       "  Supply_Of_Raw_Materials Financial_Performance Online_Business  \\\n",
       "0                Decrease              Decrease              No   \n",
       "1                Decrease              Decrease             Yes   \n",
       "2         Remain the same              Decrease             Yes   \n",
       "\n",
       "  Production_Conversion Received_Any_Establishment Remote_Work_Arrangements  \n",
       "0                    No                         No                       No  \n",
       "1                   Yes                         No                       No  \n",
       "2                   Yes                         No                      Yes  "
      ]
     },
     "execution_count": 12,
     "metadata": {},
     "output_type": "execute_result"
    }
   ],
   "source": [
    "data.head(3)"
   ]
  },
  {
   "cell_type": "code",
   "execution_count": 14,
   "metadata": {},
   "outputs": [
    {
     "data": {
      "text/plain": [
       "Other services     130\n",
       "Manufacturing      119\n",
       "Retail services     67\n",
       "Name: Idustry_Type, dtype: int64"
      ]
     },
     "execution_count": 14,
     "metadata": {},
     "output_type": "execute_result"
    }
   ],
   "source": [
    "# Industry type\n",
    "data['Idustry_Type'].value_counts()"
   ]
  },
  {
   "cell_type": "code",
   "execution_count": 15,
   "metadata": {},
   "outputs": [],
   "source": [
    "data['Idustry_Type'] =data['Idustry_Type'].map({'Other services':'Other','Manufacturing':'Manufacturing','Retail services':'Retail'})"
   ]
  },
  {
   "cell_type": "code",
   "execution_count": 16,
   "metadata": {},
   "outputs": [
    {
     "data": {
      "text/plain": [
       "Other            130\n",
       "Manufacturing    119\n",
       "Retail            67\n",
       "Name: Idustry_Type, dtype: int64"
      ]
     },
     "execution_count": 16,
     "metadata": {},
     "output_type": "execute_result"
    }
   ],
   "source": [
    "data['Idustry_Type'].value_counts()"
   ]
  },
  {
   "cell_type": "code",
   "execution_count": 17,
   "metadata": {},
   "outputs": [
    {
     "data": {
      "text/plain": [
       "Open                  279\n",
       "Temporarily closed     37\n",
       "Name: Current_Situation, dtype: int64"
      ]
     },
     "execution_count": 17,
     "metadata": {},
     "output_type": "execute_result"
    }
   ],
   "source": [
    "# Current Situation \n",
    "data[\"Current_Situation\"].value_counts()"
   ]
  },
  {
   "cell_type": "code",
   "execution_count": 18,
   "metadata": {},
   "outputs": [
    {
     "data": {
      "text/plain": [
       "(316, 13)"
      ]
     },
     "execution_count": 18,
     "metadata": {},
     "output_type": "execute_result"
    }
   ],
   "source": [
    "data.shape"
   ]
  },
  {
   "cell_type": "code",
   "execution_count": 19,
   "metadata": {},
   "outputs": [],
   "source": [
    "data[\"Current_Situation\"] = data[\"Current_Situation\"].map({'Open':'Open','Temporarily closed':'Temporarily_Closed'})"
   ]
  },
  {
   "cell_type": "code",
   "execution_count": 20,
   "metadata": {},
   "outputs": [
    {
     "data": {
      "text/plain": [
       "Open                  279\n",
       "Temporarily_Closed     37\n",
       "Name: Current_Situation, dtype: int64"
      ]
     },
     "execution_count": 20,
     "metadata": {},
     "output_type": "execute_result"
    }
   ],
   "source": [
    "data[\"Current_Situation\"].value_counts()"
   ]
  },
  {
   "cell_type": "code",
   "execution_count": 21,
   "metadata": {},
   "outputs": [
    {
     "data": {
      "text/plain": [
       "very_low    252\n",
       "high         50\n",
       "medium       11\n",
       "low           3\n",
       "Name: Direct_Export, dtype: int64"
      ]
     },
     "execution_count": 21,
     "metadata": {},
     "output_type": "execute_result"
    }
   ],
   "source": [
    "data['Direct_Export'].value_counts()"
   ]
  },
  {
   "cell_type": "code",
   "execution_count": 22,
   "metadata": {},
   "outputs": [],
   "source": [
    "data['Direct_Export'] = data['Direct_Export'].map({'very_low':'Very_Low','high':'High','medium':'Medium','low':'Low'})"
   ]
  },
  {
   "cell_type": "code",
   "execution_count": 23,
   "metadata": {},
   "outputs": [
    {
     "data": {
      "text/plain": [
       "Very_Low    252\n",
       "High         50\n",
       "Medium       11\n",
       "Low           3\n",
       "Name: Direct_Export, dtype: int64"
      ]
     },
     "execution_count": 23,
     "metadata": {},
     "output_type": "execute_result"
    }
   ],
   "source": [
    "data['Direct_Export'].value_counts()"
   ]
  },
  {
   "cell_type": "code",
   "execution_count": 24,
   "metadata": {},
   "outputs": [
    {
     "data": {
      "text/plain": [
       "Index(['Sales_Performance', 'Idustry_Type', 'Current_Situation',\n",
       "       'Direct_Export', 'Indirect_Export', 'Hours_Worked_Per_Week',\n",
       "       'Demand_For_Product', 'Supply_Of_Raw_Materials',\n",
       "       'Financial_Performance', 'Online_Business', 'Production_Conversion',\n",
       "       'Received_Any_Establishment', 'Remote_Work_Arrangements'],\n",
       "      dtype='object')"
      ]
     },
     "execution_count": 24,
     "metadata": {},
     "output_type": "execute_result"
    }
   ],
   "source": [
    "data.columns"
   ]
  },
  {
   "cell_type": "code",
   "execution_count": 25,
   "metadata": {},
   "outputs": [
    {
     "data": {
      "text/plain": [
       "very_low    308\n",
       "high          3\n",
       "low           3\n",
       "medium        2\n",
       "Name: Indirect_Export, dtype: int64"
      ]
     },
     "execution_count": 25,
     "metadata": {},
     "output_type": "execute_result"
    }
   ],
   "source": [
    "data['Indirect_Export'].value_counts()"
   ]
  },
  {
   "cell_type": "code",
   "execution_count": 26,
   "metadata": {},
   "outputs": [],
   "source": [
    "data['Indirect_Export'] = data['Indirect_Export'].map({'very_low':'Very_Low','high':'High','medium':'Medium','low':'Low'})"
   ]
  },
  {
   "cell_type": "code",
   "execution_count": 27,
   "metadata": {},
   "outputs": [
    {
     "data": {
      "text/plain": [
       "Very_Low    308\n",
       "Low           3\n",
       "High          3\n",
       "Medium        2\n",
       "Name: Indirect_Export, dtype: int64"
      ]
     },
     "execution_count": 27,
     "metadata": {},
     "output_type": "execute_result"
    }
   ],
   "source": [
    "data['Indirect_Export'].value_counts()"
   ]
  },
  {
   "cell_type": "code",
   "execution_count": 28,
   "metadata": {},
   "outputs": [
    {
     "data": {
      "text/plain": [
       "Decrease           159\n",
       "Remain the same    147\n",
       "Increase            10\n",
       "Name: Hours_Worked_Per_Week, dtype: int64"
      ]
     },
     "execution_count": 28,
     "metadata": {},
     "output_type": "execute_result"
    }
   ],
   "source": [
    "data['Hours_Worked_Per_Week'].value_counts()"
   ]
  },
  {
   "cell_type": "code",
   "execution_count": 29,
   "metadata": {},
   "outputs": [],
   "source": [
    "data['Hours_Worked_Per_Week'] = data['Hours_Worked_Per_Week'].map({'Decrease':'Decrease','Remain the same':'Remain_the_Same','Increase':'Increase'})"
   ]
  },
  {
   "cell_type": "code",
   "execution_count": 30,
   "metadata": {},
   "outputs": [
    {
     "data": {
      "text/plain": [
       "Decrease           159\n",
       "Remain_the_Same    147\n",
       "Increase            10\n",
       "Name: Hours_Worked_Per_Week, dtype: int64"
      ]
     },
     "execution_count": 30,
     "metadata": {},
     "output_type": "execute_result"
    }
   ],
   "source": [
    "data['Hours_Worked_Per_Week'].value_counts()"
   ]
  },
  {
   "cell_type": "code",
   "execution_count": 31,
   "metadata": {},
   "outputs": [
    {
     "data": {
      "text/plain": [
       "Index(['Sales_Performance', 'Idustry_Type', 'Current_Situation',\n",
       "       'Direct_Export', 'Indirect_Export', 'Hours_Worked_Per_Week',\n",
       "       'Demand_For_Product', 'Supply_Of_Raw_Materials',\n",
       "       'Financial_Performance', 'Online_Business', 'Production_Conversion',\n",
       "       'Received_Any_Establishment', 'Remote_Work_Arrangements'],\n",
       "      dtype='object')"
      ]
     },
     "execution_count": 31,
     "metadata": {},
     "output_type": "execute_result"
    }
   ],
   "source": [
    "data.columns"
   ]
  },
  {
   "cell_type": "code",
   "execution_count": 35,
   "metadata": {},
   "outputs": [
    {
     "data": {
      "text/plain": [
       "Decrease           218\n",
       "Remain_the_Same     70\n",
       "Increase            28\n",
       "Name: Demand_For_Product, dtype: int64"
      ]
     },
     "execution_count": 35,
     "metadata": {},
     "output_type": "execute_result"
    }
   ],
   "source": [
    "data[\"Demand_For_Product\"].value_counts()"
   ]
  },
  {
   "cell_type": "code",
   "execution_count": 34,
   "metadata": {},
   "outputs": [],
   "source": [
    "data[\"Demand_For_Product\"] = data[\"Demand_For_Product\"].map({'Decrease':'Decrease','Remain the same':'Remain_the_Same','Increase':'Increase'})"
   ]
  },
  {
   "cell_type": "code",
   "execution_count": 36,
   "metadata": {},
   "outputs": [
    {
     "data": {
      "text/plain": [
       "Decrease           207\n",
       "Remain the same     80\n",
       "Increase            29\n",
       "Name: Supply_Of_Raw_Materials, dtype: int64"
      ]
     },
     "execution_count": 36,
     "metadata": {},
     "output_type": "execute_result"
    }
   ],
   "source": [
    "data[\"Supply_Of_Raw_Materials\"].value_counts()"
   ]
  },
  {
   "cell_type": "code",
   "execution_count": 37,
   "metadata": {},
   "outputs": [],
   "source": [
    "data[\"Supply_Of_Raw_Materials\"] = data[\"Supply_Of_Raw_Materials\"].map({'Decrease':'Decrease','Remain the same':'Remain_the_Same','Increase':'Increase'})"
   ]
  },
  {
   "cell_type": "code",
   "execution_count": 38,
   "metadata": {},
   "outputs": [
    {
     "data": {
      "text/plain": [
       "Decrease           207\n",
       "Remain_the_Same     80\n",
       "Increase            29\n",
       "Name: Supply_Of_Raw_Materials, dtype: int64"
      ]
     },
     "execution_count": 38,
     "metadata": {},
     "output_type": "execute_result"
    }
   ],
   "source": [
    "data[\"Supply_Of_Raw_Materials\"].value_counts()"
   ]
  },
  {
   "cell_type": "code",
   "execution_count": 41,
   "metadata": {},
   "outputs": [
    {
     "data": {
      "text/plain": [
       "Decrease           231\n",
       "Remain_the_Same     45\n",
       "Increase            40\n",
       "Name: Financial_Performance, dtype: int64"
      ]
     },
     "execution_count": 41,
     "metadata": {},
     "output_type": "execute_result"
    }
   ],
   "source": [
    "data[\"Financial_Performance\"].value_counts()"
   ]
  },
  {
   "cell_type": "code",
   "execution_count": 40,
   "metadata": {},
   "outputs": [],
   "source": [
    "data[\"Financial_Performance\"] = data[\"Financial_Performance\"].map({'Decrease':'Decrease','Remain the same':'Remain_the_Same','Increase':'Increase'})"
   ]
  },
  {
   "cell_type": "code",
   "execution_count": 42,
   "metadata": {},
   "outputs": [
    {
     "data": {
      "text/plain": [
       "No     266\n",
       "Yes     50\n",
       "Name: Online_Business, dtype: int64"
      ]
     },
     "execution_count": 42,
     "metadata": {},
     "output_type": "execute_result"
    }
   ],
   "source": [
    "data[\"Online_Business\"].value_counts()"
   ]
  },
  {
   "cell_type": "code",
   "execution_count": 49,
   "metadata": {},
   "outputs": [],
   "source": [
    "Angolia_Cleaned = pd.DataFrame(data.iloc[:,:10])"
   ]
  },
  {
   "cell_type": "code",
   "execution_count": 50,
   "metadata": {},
   "outputs": [
    {
     "data": {
      "text/html": [
       "<div>\n",
       "<style scoped>\n",
       "    .dataframe tbody tr th:only-of-type {\n",
       "        vertical-align: middle;\n",
       "    }\n",
       "\n",
       "    .dataframe tbody tr th {\n",
       "        vertical-align: top;\n",
       "    }\n",
       "\n",
       "    .dataframe thead th {\n",
       "        text-align: right;\n",
       "    }\n",
       "</style>\n",
       "<table border=\"1\" class=\"dataframe\">\n",
       "  <thead>\n",
       "    <tr style=\"text-align: right;\">\n",
       "      <th></th>\n",
       "      <th>Sales_Performance</th>\n",
       "      <th>Idustry_Type</th>\n",
       "      <th>Current_Situation</th>\n",
       "      <th>Direct_Export</th>\n",
       "      <th>Indirect_Export</th>\n",
       "      <th>Hours_Worked_Per_Week</th>\n",
       "      <th>Demand_For_Product</th>\n",
       "      <th>Supply_Of_Raw_Materials</th>\n",
       "      <th>Financial_Performance</th>\n",
       "      <th>Online_Business</th>\n",
       "    </tr>\n",
       "  </thead>\n",
       "  <tbody>\n",
       "    <tr>\n",
       "      <th>0</th>\n",
       "      <td>0</td>\n",
       "      <td>Manufacturing</td>\n",
       "      <td>Open</td>\n",
       "      <td>Very_Low</td>\n",
       "      <td>Very_Low</td>\n",
       "      <td>Decrease</td>\n",
       "      <td>Decrease</td>\n",
       "      <td>Decrease</td>\n",
       "      <td>Decrease</td>\n",
       "      <td>No</td>\n",
       "    </tr>\n",
       "    <tr>\n",
       "      <th>1</th>\n",
       "      <td>1</td>\n",
       "      <td>Retail</td>\n",
       "      <td>Open</td>\n",
       "      <td>Very_Low</td>\n",
       "      <td>Very_Low</td>\n",
       "      <td>Decrease</td>\n",
       "      <td>Decrease</td>\n",
       "      <td>Decrease</td>\n",
       "      <td>Decrease</td>\n",
       "      <td>Yes</td>\n",
       "    </tr>\n",
       "    <tr>\n",
       "      <th>2</th>\n",
       "      <td>0</td>\n",
       "      <td>Retail</td>\n",
       "      <td>Open</td>\n",
       "      <td>Very_Low</td>\n",
       "      <td>Very_Low</td>\n",
       "      <td>Decrease</td>\n",
       "      <td>Decrease</td>\n",
       "      <td>Remain_the_Same</td>\n",
       "      <td>Decrease</td>\n",
       "      <td>Yes</td>\n",
       "    </tr>\n",
       "    <tr>\n",
       "      <th>3</th>\n",
       "      <td>0</td>\n",
       "      <td>Manufacturing</td>\n",
       "      <td>Temporarily_Closed</td>\n",
       "      <td>Very_Low</td>\n",
       "      <td>Very_Low</td>\n",
       "      <td>Decrease</td>\n",
       "      <td>Decrease</td>\n",
       "      <td>Decrease</td>\n",
       "      <td>Decrease</td>\n",
       "      <td>No</td>\n",
       "    </tr>\n",
       "  </tbody>\n",
       "</table>\n",
       "</div>"
      ],
      "text/plain": [
       "   Sales_Performance   Idustry_Type   Current_Situation Direct_Export  \\\n",
       "0                  0  Manufacturing                Open      Very_Low   \n",
       "1                  1         Retail                Open      Very_Low   \n",
       "2                  0         Retail                Open      Very_Low   \n",
       "3                  0  Manufacturing  Temporarily_Closed      Very_Low   \n",
       "\n",
       "  Indirect_Export Hours_Worked_Per_Week Demand_For_Product  \\\n",
       "0        Very_Low              Decrease           Decrease   \n",
       "1        Very_Low              Decrease           Decrease   \n",
       "2        Very_Low              Decrease           Decrease   \n",
       "3        Very_Low              Decrease           Decrease   \n",
       "\n",
       "  Supply_Of_Raw_Materials Financial_Performance Online_Business  \n",
       "0                Decrease              Decrease              No  \n",
       "1                Decrease              Decrease             Yes  \n",
       "2         Remain_the_Same              Decrease             Yes  \n",
       "3                Decrease              Decrease              No  "
      ]
     },
     "execution_count": 50,
     "metadata": {},
     "output_type": "execute_result"
    }
   ],
   "source": [
    "Angolia_Cleaned.head(4)"
   ]
  },
  {
   "cell_type": "code",
   "execution_count": 51,
   "metadata": {},
   "outputs": [
    {
     "data": {
      "text/plain": [
       "0    262\n",
       "1     54\n",
       "Name: Sales_Performance, dtype: int64"
      ]
     },
     "execution_count": 51,
     "metadata": {},
     "output_type": "execute_result"
    }
   ],
   "source": [
    "data['Sales_Performance'].value_counts()"
   ]
  },
  {
   "cell_type": "code",
   "execution_count": 52,
   "metadata": {},
   "outputs": [],
   "source": [
    "# change the Sales_Performance variable as a real format\n",
    "def change(num):\n",
    "    if num == 0:\n",
    "        return 'Affeced'\n",
    "    else:\n",
    "        return 'Not_Affected'\n",
    "\n",
    "data[\"Sales_Performance\"] = data[\"Sales_Performance\"].apply(change)"
   ]
  },
  {
   "cell_type": "code",
   "execution_count": 53,
   "metadata": {},
   "outputs": [
    {
     "data": {
      "text/plain": [
       "Affeced         262\n",
       "Not_Affected     54\n",
       "Name: Sales_Performance, dtype: int64"
      ]
     },
     "execution_count": 53,
     "metadata": {},
     "output_type": "execute_result"
    }
   ],
   "source": [
    "data['Sales_Performance'].value_counts()"
   ]
  },
  {
   "cell_type": "code",
   "execution_count": 54,
   "metadata": {},
   "outputs": [],
   "source": [
    "Angolia_Cleaned_Data = pd.DataFrame(data.iloc[:,:10])"
   ]
  },
  {
   "cell_type": "code",
   "execution_count": 56,
   "metadata": {},
   "outputs": [],
   "source": [
    "Angolia_Cleaned_Data.to_csv(\"Angolia_Cleaned_Data.csv\",encoding=\"utf-8\")"
   ]
  },
  {
   "cell_type": "code",
   "execution_count": 58,
   "metadata": {},
   "outputs": [
    {
     "data": {
      "text/html": [
       "<div>\n",
       "<style scoped>\n",
       "    .dataframe tbody tr th:only-of-type {\n",
       "        vertical-align: middle;\n",
       "    }\n",
       "\n",
       "    .dataframe tbody tr th {\n",
       "        vertical-align: top;\n",
       "    }\n",
       "\n",
       "    .dataframe thead th {\n",
       "        text-align: right;\n",
       "    }\n",
       "</style>\n",
       "<table border=\"1\" class=\"dataframe\">\n",
       "  <thead>\n",
       "    <tr style=\"text-align: right;\">\n",
       "      <th></th>\n",
       "      <th>Sales_Performance</th>\n",
       "      <th>Idustry_Type</th>\n",
       "      <th>Current_Situation</th>\n",
       "      <th>Direct_Export</th>\n",
       "      <th>Indirect_Export</th>\n",
       "      <th>Hours_Worked_Per_Week</th>\n",
       "      <th>Demand_For_Product</th>\n",
       "      <th>Supply_Of_Raw_Materials</th>\n",
       "      <th>Financial_Performance</th>\n",
       "      <th>Online_Business</th>\n",
       "    </tr>\n",
       "  </thead>\n",
       "  <tbody>\n",
       "    <tr>\n",
       "      <th>0</th>\n",
       "      <td>0</td>\n",
       "      <td>Manufacturing</td>\n",
       "      <td>Open</td>\n",
       "      <td>Very_Low</td>\n",
       "      <td>Very_Low</td>\n",
       "      <td>Decrease</td>\n",
       "      <td>Decrease</td>\n",
       "      <td>Decrease</td>\n",
       "      <td>Decrease</td>\n",
       "      <td>No</td>\n",
       "    </tr>\n",
       "    <tr>\n",
       "      <th>1</th>\n",
       "      <td>1</td>\n",
       "      <td>Retail</td>\n",
       "      <td>Open</td>\n",
       "      <td>Very_Low</td>\n",
       "      <td>Very_Low</td>\n",
       "      <td>Decrease</td>\n",
       "      <td>Decrease</td>\n",
       "      <td>Decrease</td>\n",
       "      <td>Decrease</td>\n",
       "      <td>Yes</td>\n",
       "    </tr>\n",
       "    <tr>\n",
       "      <th>2</th>\n",
       "      <td>0</td>\n",
       "      <td>Retail</td>\n",
       "      <td>Open</td>\n",
       "      <td>Very_Low</td>\n",
       "      <td>Very_Low</td>\n",
       "      <td>Decrease</td>\n",
       "      <td>Decrease</td>\n",
       "      <td>Remain_the_Same</td>\n",
       "      <td>Decrease</td>\n",
       "      <td>Yes</td>\n",
       "    </tr>\n",
       "  </tbody>\n",
       "</table>\n",
       "</div>"
      ],
      "text/plain": [
       "   Sales_Performance   Idustry_Type Current_Situation Direct_Export  \\\n",
       "0                  0  Manufacturing              Open      Very_Low   \n",
       "1                  1         Retail              Open      Very_Low   \n",
       "2                  0         Retail              Open      Very_Low   \n",
       "\n",
       "  Indirect_Export Hours_Worked_Per_Week Demand_For_Product  \\\n",
       "0        Very_Low              Decrease           Decrease   \n",
       "1        Very_Low              Decrease           Decrease   \n",
       "2        Very_Low              Decrease           Decrease   \n",
       "\n",
       "  Supply_Of_Raw_Materials Financial_Performance Online_Business  \n",
       "0                Decrease              Decrease              No  \n",
       "1                Decrease              Decrease             Yes  \n",
       "2         Remain_the_Same              Decrease             Yes  "
      ]
     },
     "execution_count": 58,
     "metadata": {},
     "output_type": "execute_result"
    }
   ],
   "source": [
    "Angolia_Cleaned.head(3)"
   ]
  },
  {
   "cell_type": "code",
   "execution_count": 59,
   "metadata": {},
   "outputs": [],
   "source": [
    "data = Angolia_Cleaned.copy()"
   ]
  },
  {
   "cell_type": "code",
   "execution_count": 61,
   "metadata": {},
   "outputs": [
    {
     "name": "stdout",
     "output_type": "stream",
     "text": [
      "<class 'pandas.core.frame.DataFrame'>\n",
      "Int64Index: 316 entries, 0 to 315\n",
      "Data columns (total 10 columns):\n",
      " #   Column                   Non-Null Count  Dtype   \n",
      "---  ------                   --------------  -----   \n",
      " 0   Sales_Performance        316 non-null    int64   \n",
      " 1   Idustry_Type             316 non-null    category\n",
      " 2   Current_Situation        316 non-null    category\n",
      " 3   Direct_Export            316 non-null    object  \n",
      " 4   Indirect_Export          316 non-null    object  \n",
      " 5   Hours_Worked_Per_Week    316 non-null    category\n",
      " 6   Demand_For_Product       316 non-null    category\n",
      " 7   Supply_Of_Raw_Materials  316 non-null    category\n",
      " 8   Financial_Performance    316 non-null    category\n",
      " 9   Online_Business          316 non-null    category\n",
      "dtypes: category(7), int64(1), object(2)\n",
      "memory usage: 22.7+ KB\n"
     ]
    }
   ],
   "source": [
    "data.info()"
   ]
  },
  {
   "cell_type": "code",
   "execution_count": 64,
   "metadata": {},
   "outputs": [],
   "source": [
    "dummy = pd.DataFrame(data.iloc[:,1:])\n",
    "y = pd.DataFrame(data.iloc[:,:1])"
   ]
  },
  {
   "cell_type": "code",
   "execution_count": 67,
   "metadata": {},
   "outputs": [],
   "source": [
    "data.to_csv('Angolia_Cleaned_Data_with_y.csv',encoding='utf-8')"
   ]
  },
  {
   "cell_type": "code",
   "execution_count": 71,
   "metadata": {},
   "outputs": [],
   "source": [
    "dummy = pd.get_dummies(dummy,drop_first=True)"
   ]
  },
  {
   "cell_type": "code",
   "execution_count": 72,
   "metadata": {},
   "outputs": [
    {
     "data": {
      "text/html": [
       "<div>\n",
       "<style scoped>\n",
       "    .dataframe tbody tr th:only-of-type {\n",
       "        vertical-align: middle;\n",
       "    }\n",
       "\n",
       "    .dataframe tbody tr th {\n",
       "        vertical-align: top;\n",
       "    }\n",
       "\n",
       "    .dataframe thead th {\n",
       "        text-align: right;\n",
       "    }\n",
       "</style>\n",
       "<table border=\"1\" class=\"dataframe\">\n",
       "  <thead>\n",
       "    <tr style=\"text-align: right;\">\n",
       "      <th></th>\n",
       "      <th>Idustry_Type_Retail</th>\n",
       "      <th>Idustry_Type_Other</th>\n",
       "      <th>Current_Situation_Open</th>\n",
       "      <th>Direct_Export_Low</th>\n",
       "      <th>Direct_Export_Medium</th>\n",
       "      <th>Direct_Export_Very_Low</th>\n",
       "      <th>Indirect_Export_Low</th>\n",
       "      <th>Indirect_Export_Medium</th>\n",
       "      <th>Indirect_Export_Very_Low</th>\n",
       "      <th>Hours_Worked_Per_Week_Remain_the_Same</th>\n",
       "      <th>Hours_Worked_Per_Week_Decrease</th>\n",
       "      <th>Demand_For_Product_Remain_the_Same</th>\n",
       "      <th>Demand_For_Product_Decrease</th>\n",
       "      <th>Supply_Of_Raw_Materials_Remain_the_Same</th>\n",
       "      <th>Supply_Of_Raw_Materials_Decrease</th>\n",
       "      <th>Financial_Performance_Remain_the_Same</th>\n",
       "      <th>Financial_Performance_Decrease</th>\n",
       "      <th>Online_Business_No</th>\n",
       "    </tr>\n",
       "  </thead>\n",
       "  <tbody>\n",
       "    <tr>\n",
       "      <th>0</th>\n",
       "      <td>0</td>\n",
       "      <td>0</td>\n",
       "      <td>1</td>\n",
       "      <td>0</td>\n",
       "      <td>0</td>\n",
       "      <td>1</td>\n",
       "      <td>0</td>\n",
       "      <td>0</td>\n",
       "      <td>1</td>\n",
       "      <td>0</td>\n",
       "      <td>1</td>\n",
       "      <td>0</td>\n",
       "      <td>1</td>\n",
       "      <td>0</td>\n",
       "      <td>1</td>\n",
       "      <td>0</td>\n",
       "      <td>1</td>\n",
       "      <td>1</td>\n",
       "    </tr>\n",
       "    <tr>\n",
       "      <th>1</th>\n",
       "      <td>1</td>\n",
       "      <td>0</td>\n",
       "      <td>1</td>\n",
       "      <td>0</td>\n",
       "      <td>0</td>\n",
       "      <td>1</td>\n",
       "      <td>0</td>\n",
       "      <td>0</td>\n",
       "      <td>1</td>\n",
       "      <td>0</td>\n",
       "      <td>1</td>\n",
       "      <td>0</td>\n",
       "      <td>1</td>\n",
       "      <td>0</td>\n",
       "      <td>1</td>\n",
       "      <td>0</td>\n",
       "      <td>1</td>\n",
       "      <td>0</td>\n",
       "    </tr>\n",
       "    <tr>\n",
       "      <th>2</th>\n",
       "      <td>1</td>\n",
       "      <td>0</td>\n",
       "      <td>1</td>\n",
       "      <td>0</td>\n",
       "      <td>0</td>\n",
       "      <td>1</td>\n",
       "      <td>0</td>\n",
       "      <td>0</td>\n",
       "      <td>1</td>\n",
       "      <td>0</td>\n",
       "      <td>1</td>\n",
       "      <td>0</td>\n",
       "      <td>1</td>\n",
       "      <td>1</td>\n",
       "      <td>0</td>\n",
       "      <td>0</td>\n",
       "      <td>1</td>\n",
       "      <td>0</td>\n",
       "    </tr>\n",
       "  </tbody>\n",
       "</table>\n",
       "</div>"
      ],
      "text/plain": [
       "   Idustry_Type_Retail  Idustry_Type_Other  Current_Situation_Open  \\\n",
       "0                    0                   0                       1   \n",
       "1                    1                   0                       1   \n",
       "2                    1                   0                       1   \n",
       "\n",
       "   Direct_Export_Low  Direct_Export_Medium  Direct_Export_Very_Low  \\\n",
       "0                  0                     0                       1   \n",
       "1                  0                     0                       1   \n",
       "2                  0                     0                       1   \n",
       "\n",
       "   Indirect_Export_Low  Indirect_Export_Medium  Indirect_Export_Very_Low  \\\n",
       "0                    0                       0                         1   \n",
       "1                    0                       0                         1   \n",
       "2                    0                       0                         1   \n",
       "\n",
       "   Hours_Worked_Per_Week_Remain_the_Same  Hours_Worked_Per_Week_Decrease  \\\n",
       "0                                      0                               1   \n",
       "1                                      0                               1   \n",
       "2                                      0                               1   \n",
       "\n",
       "   Demand_For_Product_Remain_the_Same  Demand_For_Product_Decrease  \\\n",
       "0                                   0                            1   \n",
       "1                                   0                            1   \n",
       "2                                   0                            1   \n",
       "\n",
       "   Supply_Of_Raw_Materials_Remain_the_Same  Supply_Of_Raw_Materials_Decrease  \\\n",
       "0                                        0                                 1   \n",
       "1                                        0                                 1   \n",
       "2                                        1                                 0   \n",
       "\n",
       "   Financial_Performance_Remain_the_Same  Financial_Performance_Decrease  \\\n",
       "0                                      0                               1   \n",
       "1                                      0                               1   \n",
       "2                                      0                               1   \n",
       "\n",
       "   Online_Business_No  \n",
       "0                   1  \n",
       "1                   0  \n",
       "2                   0  "
      ]
     },
     "execution_count": 72,
     "metadata": {},
     "output_type": "execute_result"
    }
   ],
   "source": [
    "dummy.head(3)"
   ]
  },
  {
   "cell_type": "code",
   "execution_count": 73,
   "metadata": {},
   "outputs": [
    {
     "data": {
      "text/plain": [
       "(316, 18)"
      ]
     },
     "execution_count": 73,
     "metadata": {},
     "output_type": "execute_result"
    }
   ],
   "source": [
    "dummy.shape"
   ]
  },
  {
   "cell_type": "code",
   "execution_count": 74,
   "metadata": {
    "scrolled": true
   },
   "outputs": [],
   "source": [
    "data = pd.concat([y,dummy],axis=1)"
   ]
  },
  {
   "cell_type": "code",
   "execution_count": 77,
   "metadata": {},
   "outputs": [
    {
     "data": {
      "text/html": [
       "<div>\n",
       "<style scoped>\n",
       "    .dataframe tbody tr th:only-of-type {\n",
       "        vertical-align: middle;\n",
       "    }\n",
       "\n",
       "    .dataframe tbody tr th {\n",
       "        vertical-align: top;\n",
       "    }\n",
       "\n",
       "    .dataframe thead th {\n",
       "        text-align: right;\n",
       "    }\n",
       "</style>\n",
       "<table border=\"1\" class=\"dataframe\">\n",
       "  <thead>\n",
       "    <tr style=\"text-align: right;\">\n",
       "      <th></th>\n",
       "      <th>Sales_Performance</th>\n",
       "      <th>Idustry_Type_Retail</th>\n",
       "      <th>Idustry_Type_Other</th>\n",
       "      <th>Current_Situation_Open</th>\n",
       "      <th>Direct_Export_Low</th>\n",
       "      <th>Direct_Export_Medium</th>\n",
       "      <th>Direct_Export_Very_Low</th>\n",
       "      <th>Indirect_Export_Low</th>\n",
       "      <th>Indirect_Export_Medium</th>\n",
       "      <th>Indirect_Export_Very_Low</th>\n",
       "      <th>Hours_Worked_Per_Week_Remain_the_Same</th>\n",
       "      <th>Hours_Worked_Per_Week_Decrease</th>\n",
       "      <th>Demand_For_Product_Remain_the_Same</th>\n",
       "      <th>Demand_For_Product_Decrease</th>\n",
       "      <th>Supply_Of_Raw_Materials_Remain_the_Same</th>\n",
       "      <th>Supply_Of_Raw_Materials_Decrease</th>\n",
       "      <th>Financial_Performance_Remain_the_Same</th>\n",
       "      <th>Financial_Performance_Decrease</th>\n",
       "      <th>Online_Business_No</th>\n",
       "    </tr>\n",
       "  </thead>\n",
       "  <tbody>\n",
       "    <tr>\n",
       "      <th>0</th>\n",
       "      <td>0</td>\n",
       "      <td>0</td>\n",
       "      <td>0</td>\n",
       "      <td>1</td>\n",
       "      <td>0</td>\n",
       "      <td>0</td>\n",
       "      <td>1</td>\n",
       "      <td>0</td>\n",
       "      <td>0</td>\n",
       "      <td>1</td>\n",
       "      <td>0</td>\n",
       "      <td>1</td>\n",
       "      <td>0</td>\n",
       "      <td>1</td>\n",
       "      <td>0</td>\n",
       "      <td>1</td>\n",
       "      <td>0</td>\n",
       "      <td>1</td>\n",
       "      <td>1</td>\n",
       "    </tr>\n",
       "    <tr>\n",
       "      <th>1</th>\n",
       "      <td>1</td>\n",
       "      <td>1</td>\n",
       "      <td>0</td>\n",
       "      <td>1</td>\n",
       "      <td>0</td>\n",
       "      <td>0</td>\n",
       "      <td>1</td>\n",
       "      <td>0</td>\n",
       "      <td>0</td>\n",
       "      <td>1</td>\n",
       "      <td>0</td>\n",
       "      <td>1</td>\n",
       "      <td>0</td>\n",
       "      <td>1</td>\n",
       "      <td>0</td>\n",
       "      <td>1</td>\n",
       "      <td>0</td>\n",
       "      <td>1</td>\n",
       "      <td>0</td>\n",
       "    </tr>\n",
       "    <tr>\n",
       "      <th>2</th>\n",
       "      <td>0</td>\n",
       "      <td>1</td>\n",
       "      <td>0</td>\n",
       "      <td>1</td>\n",
       "      <td>0</td>\n",
       "      <td>0</td>\n",
       "      <td>1</td>\n",
       "      <td>0</td>\n",
       "      <td>0</td>\n",
       "      <td>1</td>\n",
       "      <td>0</td>\n",
       "      <td>1</td>\n",
       "      <td>0</td>\n",
       "      <td>1</td>\n",
       "      <td>1</td>\n",
       "      <td>0</td>\n",
       "      <td>0</td>\n",
       "      <td>1</td>\n",
       "      <td>0</td>\n",
       "    </tr>\n",
       "    <tr>\n",
       "      <th>3</th>\n",
       "      <td>0</td>\n",
       "      <td>0</td>\n",
       "      <td>0</td>\n",
       "      <td>0</td>\n",
       "      <td>0</td>\n",
       "      <td>0</td>\n",
       "      <td>1</td>\n",
       "      <td>0</td>\n",
       "      <td>0</td>\n",
       "      <td>1</td>\n",
       "      <td>0</td>\n",
       "      <td>1</td>\n",
       "      <td>0</td>\n",
       "      <td>1</td>\n",
       "      <td>0</td>\n",
       "      <td>1</td>\n",
       "      <td>0</td>\n",
       "      <td>1</td>\n",
       "      <td>1</td>\n",
       "    </tr>\n",
       "  </tbody>\n",
       "</table>\n",
       "</div>"
      ],
      "text/plain": [
       "   Sales_Performance  Idustry_Type_Retail  Idustry_Type_Other  \\\n",
       "0                  0                    0                   0   \n",
       "1                  1                    1                   0   \n",
       "2                  0                    1                   0   \n",
       "3                  0                    0                   0   \n",
       "\n",
       "   Current_Situation_Open  Direct_Export_Low  Direct_Export_Medium  \\\n",
       "0                       1                  0                     0   \n",
       "1                       1                  0                     0   \n",
       "2                       1                  0                     0   \n",
       "3                       0                  0                     0   \n",
       "\n",
       "   Direct_Export_Very_Low  Indirect_Export_Low  Indirect_Export_Medium  \\\n",
       "0                       1                    0                       0   \n",
       "1                       1                    0                       0   \n",
       "2                       1                    0                       0   \n",
       "3                       1                    0                       0   \n",
       "\n",
       "   Indirect_Export_Very_Low  Hours_Worked_Per_Week_Remain_the_Same  \\\n",
       "0                         1                                      0   \n",
       "1                         1                                      0   \n",
       "2                         1                                      0   \n",
       "3                         1                                      0   \n",
       "\n",
       "   Hours_Worked_Per_Week_Decrease  Demand_For_Product_Remain_the_Same  \\\n",
       "0                               1                                   0   \n",
       "1                               1                                   0   \n",
       "2                               1                                   0   \n",
       "3                               1                                   0   \n",
       "\n",
       "   Demand_For_Product_Decrease  Supply_Of_Raw_Materials_Remain_the_Same  \\\n",
       "0                            1                                        0   \n",
       "1                            1                                        0   \n",
       "2                            1                                        1   \n",
       "3                            1                                        0   \n",
       "\n",
       "   Supply_Of_Raw_Materials_Decrease  Financial_Performance_Remain_the_Same  \\\n",
       "0                                 1                                      0   \n",
       "1                                 1                                      0   \n",
       "2                                 0                                      0   \n",
       "3                                 1                                      0   \n",
       "\n",
       "   Financial_Performance_Decrease  Online_Business_No  \n",
       "0                               1                   1  \n",
       "1                               1                   0  \n",
       "2                               1                   0  \n",
       "3                               1                   1  "
      ]
     },
     "execution_count": 77,
     "metadata": {},
     "output_type": "execute_result"
    }
   ],
   "source": [
    "data.head(4)"
   ]
  },
  {
   "cell_type": "code",
   "execution_count": 79,
   "metadata": {},
   "outputs": [],
   "source": [
    "data = data.astype(int)"
   ]
  },
  {
   "cell_type": "code",
   "execution_count": 81,
   "metadata": {},
   "outputs": [
    {
     "data": {
      "text/html": [
       "<div>\n",
       "<style scoped>\n",
       "    .dataframe tbody tr th:only-of-type {\n",
       "        vertical-align: middle;\n",
       "    }\n",
       "\n",
       "    .dataframe tbody tr th {\n",
       "        vertical-align: top;\n",
       "    }\n",
       "\n",
       "    .dataframe thead th {\n",
       "        text-align: right;\n",
       "    }\n",
       "</style>\n",
       "<table border=\"1\" class=\"dataframe\">\n",
       "  <thead>\n",
       "    <tr style=\"text-align: right;\">\n",
       "      <th></th>\n",
       "      <th>Sales_Performance</th>\n",
       "      <th>Idustry_Type_Retail</th>\n",
       "      <th>Idustry_Type_Other</th>\n",
       "      <th>Current_Situation_Open</th>\n",
       "      <th>Direct_Export_Low</th>\n",
       "      <th>Direct_Export_Medium</th>\n",
       "      <th>Direct_Export_Very_Low</th>\n",
       "      <th>Indirect_Export_Low</th>\n",
       "      <th>Indirect_Export_Medium</th>\n",
       "      <th>Indirect_Export_Very_Low</th>\n",
       "      <th>Hours_Worked_Per_Week_Remain_the_Same</th>\n",
       "      <th>Hours_Worked_Per_Week_Decrease</th>\n",
       "      <th>Demand_For_Product_Remain_the_Same</th>\n",
       "      <th>Demand_For_Product_Decrease</th>\n",
       "      <th>Supply_Of_Raw_Materials_Remain_the_Same</th>\n",
       "      <th>Supply_Of_Raw_Materials_Decrease</th>\n",
       "      <th>Financial_Performance_Remain_the_Same</th>\n",
       "      <th>Financial_Performance_Decrease</th>\n",
       "      <th>Online_Business_No</th>\n",
       "    </tr>\n",
       "  </thead>\n",
       "  <tbody>\n",
       "    <tr>\n",
       "      <th>0</th>\n",
       "      <td>0</td>\n",
       "      <td>0</td>\n",
       "      <td>0</td>\n",
       "      <td>1</td>\n",
       "      <td>0</td>\n",
       "      <td>0</td>\n",
       "      <td>1</td>\n",
       "      <td>0</td>\n",
       "      <td>0</td>\n",
       "      <td>1</td>\n",
       "      <td>0</td>\n",
       "      <td>1</td>\n",
       "      <td>0</td>\n",
       "      <td>1</td>\n",
       "      <td>0</td>\n",
       "      <td>1</td>\n",
       "      <td>0</td>\n",
       "      <td>1</td>\n",
       "      <td>1</td>\n",
       "    </tr>\n",
       "    <tr>\n",
       "      <th>44</th>\n",
       "      <td>0</td>\n",
       "      <td>0</td>\n",
       "      <td>0</td>\n",
       "      <td>1</td>\n",
       "      <td>0</td>\n",
       "      <td>0</td>\n",
       "      <td>1</td>\n",
       "      <td>0</td>\n",
       "      <td>0</td>\n",
       "      <td>1</td>\n",
       "      <td>1</td>\n",
       "      <td>0</td>\n",
       "      <td>1</td>\n",
       "      <td>0</td>\n",
       "      <td>1</td>\n",
       "      <td>0</td>\n",
       "      <td>0</td>\n",
       "      <td>1</td>\n",
       "      <td>1</td>\n",
       "    </tr>\n",
       "    <tr>\n",
       "      <th>153</th>\n",
       "      <td>0</td>\n",
       "      <td>0</td>\n",
       "      <td>0</td>\n",
       "      <td>1</td>\n",
       "      <td>0</td>\n",
       "      <td>0</td>\n",
       "      <td>1</td>\n",
       "      <td>0</td>\n",
       "      <td>0</td>\n",
       "      <td>1</td>\n",
       "      <td>1</td>\n",
       "      <td>0</td>\n",
       "      <td>0</td>\n",
       "      <td>1</td>\n",
       "      <td>0</td>\n",
       "      <td>1</td>\n",
       "      <td>0</td>\n",
       "      <td>1</td>\n",
       "      <td>1</td>\n",
       "    </tr>\n",
       "    <tr>\n",
       "      <th>78</th>\n",
       "      <td>0</td>\n",
       "      <td>1</td>\n",
       "      <td>0</td>\n",
       "      <td>1</td>\n",
       "      <td>0</td>\n",
       "      <td>0</td>\n",
       "      <td>1</td>\n",
       "      <td>0</td>\n",
       "      <td>0</td>\n",
       "      <td>1</td>\n",
       "      <td>0</td>\n",
       "      <td>1</td>\n",
       "      <td>0</td>\n",
       "      <td>1</td>\n",
       "      <td>0</td>\n",
       "      <td>1</td>\n",
       "      <td>0</td>\n",
       "      <td>0</td>\n",
       "      <td>1</td>\n",
       "    </tr>\n",
       "    <tr>\n",
       "      <th>101</th>\n",
       "      <td>0</td>\n",
       "      <td>0</td>\n",
       "      <td>1</td>\n",
       "      <td>1</td>\n",
       "      <td>0</td>\n",
       "      <td>0</td>\n",
       "      <td>1</td>\n",
       "      <td>0</td>\n",
       "      <td>0</td>\n",
       "      <td>1</td>\n",
       "      <td>1</td>\n",
       "      <td>0</td>\n",
       "      <td>1</td>\n",
       "      <td>0</td>\n",
       "      <td>1</td>\n",
       "      <td>0</td>\n",
       "      <td>0</td>\n",
       "      <td>1</td>\n",
       "      <td>1</td>\n",
       "    </tr>\n",
       "  </tbody>\n",
       "</table>\n",
       "</div>"
      ],
      "text/plain": [
       "     Sales_Performance  Idustry_Type_Retail  Idustry_Type_Other  \\\n",
       "0                    0                    0                   0   \n",
       "44                   0                    0                   0   \n",
       "153                  0                    0                   0   \n",
       "78                   0                    1                   0   \n",
       "101                  0                    0                   1   \n",
       "\n",
       "     Current_Situation_Open  Direct_Export_Low  Direct_Export_Medium  \\\n",
       "0                         1                  0                     0   \n",
       "44                        1                  0                     0   \n",
       "153                       1                  0                     0   \n",
       "78                        1                  0                     0   \n",
       "101                       1                  0                     0   \n",
       "\n",
       "     Direct_Export_Very_Low  Indirect_Export_Low  Indirect_Export_Medium  \\\n",
       "0                         1                    0                       0   \n",
       "44                        1                    0                       0   \n",
       "153                       1                    0                       0   \n",
       "78                        1                    0                       0   \n",
       "101                       1                    0                       0   \n",
       "\n",
       "     Indirect_Export_Very_Low  Hours_Worked_Per_Week_Remain_the_Same  \\\n",
       "0                           1                                      0   \n",
       "44                          1                                      1   \n",
       "153                         1                                      1   \n",
       "78                          1                                      0   \n",
       "101                         1                                      1   \n",
       "\n",
       "     Hours_Worked_Per_Week_Decrease  Demand_For_Product_Remain_the_Same  \\\n",
       "0                                 1                                   0   \n",
       "44                                0                                   1   \n",
       "153                               0                                   0   \n",
       "78                                1                                   0   \n",
       "101                               0                                   1   \n",
       "\n",
       "     Demand_For_Product_Decrease  Supply_Of_Raw_Materials_Remain_the_Same  \\\n",
       "0                              1                                        0   \n",
       "44                             0                                        1   \n",
       "153                            1                                        0   \n",
       "78                             1                                        0   \n",
       "101                            0                                        1   \n",
       "\n",
       "     Supply_Of_Raw_Materials_Decrease  Financial_Performance_Remain_the_Same  \\\n",
       "0                                   1                                      0   \n",
       "44                                  0                                      0   \n",
       "153                                 1                                      0   \n",
       "78                                  1                                      0   \n",
       "101                                 0                                      0   \n",
       "\n",
       "     Financial_Performance_Decrease  Online_Business_No  \n",
       "0                                 1                   1  \n",
       "44                                1                   1  \n",
       "153                               1                   1  \n",
       "78                                0                   1  \n",
       "101                               1                   1  "
      ]
     },
     "execution_count": 81,
     "metadata": {},
     "output_type": "execute_result"
    }
   ],
   "source": [
    "data.sample(5)"
   ]
  },
  {
   "cell_type": "markdown",
   "metadata": {},
   "source": [
    "## Logistic Regression in whole data for identifying the importance of dummy features"
   ]
  },
  {
   "cell_type": "code",
   "execution_count": 82,
   "metadata": {},
   "outputs": [
    {
     "name": "stderr",
     "output_type": "stream",
     "text": [
      "C:\\Users\\Lenovo\\Anaconda3\\lib\\site-packages\\statsmodels\\tools\\_testing.py:19: FutureWarning: pandas.util.testing is deprecated. Use the functions in the public API at pandas.testing instead.\n",
      "  import pandas.util.testing as tm\n"
     ]
    },
    {
     "name": "stdout",
     "output_type": "stream",
     "text": [
      "Warning: Maximum number of iterations has been exceeded.\n",
      "         Current function value: 0.213963\n",
      "         Iterations: 35\n"
     ]
    },
    {
     "name": "stderr",
     "output_type": "stream",
     "text": [
      "C:\\Users\\Lenovo\\Anaconda3\\lib\\site-packages\\statsmodels\\base\\model.py:512: ConvergenceWarning: Maximum Likelihood optimization failed to converge. Check mle_retvals\n",
      "  \"Check mle_retvals\", ConvergenceWarning)\n"
     ]
    }
   ],
   "source": [
    "import statsmodels.formula.api as sm\n",
    "logit_model=sm.logit('Sales_Performance~Idustry_Type_Retail+Idustry_Type_Other+Current_Situation_Open+Direct_Export_Low+Direct_Export_Medium+Direct_Export_Very_Low+Indirect_Export_Low+Indirect_Export_Medium+Indirect_Export_Very_Low+Hours_Worked_Per_Week_Remain_the_Same+Hours_Worked_Per_Week_Decrease+Demand_For_Product_Remain_the_Same+Demand_For_Product_Decrease+Supply_Of_Raw_Materials_Remain_the_Same+Supply_Of_Raw_Materials_Decrease+Financial_Performance_Remain_the_Same+Financial_Performance_Decrease+Online_Business_No',data = data).fit()"
   ]
  },
  {
   "cell_type": "code",
   "execution_count": 84,
   "metadata": {},
   "outputs": [
    {
     "data": {
      "text/html": [
       "<table class=\"simpletable\">\n",
       "<caption>Logit Regression Results</caption>\n",
       "<tr>\n",
       "  <th>Dep. Variable:</th>   <td>Sales_Performance</td> <th>  No. Observations:  </th>  <td>   316</td>  \n",
       "</tr>\n",
       "<tr>\n",
       "  <th>Model:</th>                 <td>Logit</td>       <th>  Df Residuals:      </th>  <td>   297</td>  \n",
       "</tr>\n",
       "<tr>\n",
       "  <th>Method:</th>                 <td>MLE</td>        <th>  Df Model:          </th>  <td>    18</td>  \n",
       "</tr>\n",
       "<tr>\n",
       "  <th>Date:</th>            <td>Sun, 16 Aug 2020</td>  <th>  Pseudo R-squ.:     </th>  <td>0.5321</td>  \n",
       "</tr>\n",
       "<tr>\n",
       "  <th>Time:</th>                <td>22:46:13</td>      <th>  Log-Likelihood:    </th> <td> -67.612</td> \n",
       "</tr>\n",
       "<tr>\n",
       "  <th>converged:</th>             <td>False</td>       <th>  LL-Null:           </th> <td> -144.50</td> \n",
       "</tr>\n",
       "<tr>\n",
       "  <th>Covariance Type:</th>     <td>nonrobust</td>     <th>  LLR p-value:       </th> <td>1.365e-23</td>\n",
       "</tr>\n",
       "</table>\n",
       "<table class=\"simpletable\">\n",
       "<tr>\n",
       "                     <td></td>                        <th>coef</th>     <th>std err</th>      <th>z</th>      <th>P>|z|</th>  <th>[0.025</th>    <th>0.975]</th>  \n",
       "</tr>\n",
       "<tr>\n",
       "  <th>Intercept</th>                               <td>    3.5417</td> <td>    2.928</td> <td>    1.210</td> <td> 0.226</td> <td>   -2.197</td> <td>    9.280</td>\n",
       "</tr>\n",
       "<tr>\n",
       "  <th>Idustry_Type_Retail</th>                     <td>   -0.2157</td> <td>    0.676</td> <td>   -0.319</td> <td> 0.750</td> <td>   -1.540</td> <td>    1.109</td>\n",
       "</tr>\n",
       "<tr>\n",
       "  <th>Idustry_Type_Other</th>                      <td>   -0.6806</td> <td>    0.614</td> <td>   -1.109</td> <td> 0.268</td> <td>   -1.884</td> <td>    0.523</td>\n",
       "</tr>\n",
       "<tr>\n",
       "  <th>Current_Situation_Open</th>                  <td>    0.5496</td> <td>    1.080</td> <td>    0.509</td> <td> 0.611</td> <td>   -1.568</td> <td>    2.667</td>\n",
       "</tr>\n",
       "<tr>\n",
       "  <th>Direct_Export_Low</th>                       <td>  -17.8352</td> <td> 3.08e+04</td> <td>   -0.001</td> <td> 1.000</td> <td>-6.04e+04</td> <td> 6.04e+04</td>\n",
       "</tr>\n",
       "<tr>\n",
       "  <th>Direct_Export_Medium</th>                    <td>   -0.6477</td> <td>    1.318</td> <td>   -0.491</td> <td> 0.623</td> <td>   -3.231</td> <td>    1.936</td>\n",
       "</tr>\n",
       "<tr>\n",
       "  <th>Direct_Export_Very_Low</th>                  <td>    0.6700</td> <td>    0.755</td> <td>    0.887</td> <td> 0.375</td> <td>   -0.810</td> <td>    2.150</td>\n",
       "</tr>\n",
       "<tr>\n",
       "  <th>Indirect_Export_Low</th>                     <td>   -0.9683</td> <td>    3.856</td> <td>   -0.251</td> <td> 0.802</td> <td>   -8.527</td> <td>    6.590</td>\n",
       "</tr>\n",
       "<tr>\n",
       "  <th>Indirect_Export_Medium</th>                  <td>  -10.8822</td> <td>   90.665</td> <td>   -0.120</td> <td> 0.904</td> <td> -188.583</td> <td>  166.819</td>\n",
       "</tr>\n",
       "<tr>\n",
       "  <th>Indirect_Export_Very_Low</th>                <td>    0.7363</td> <td>    1.609</td> <td>    0.458</td> <td> 0.647</td> <td>   -2.417</td> <td>    3.890</td>\n",
       "</tr>\n",
       "<tr>\n",
       "  <th>Hours_Worked_Per_Week_Remain_the_Same</th>   <td>   -3.0081</td> <td>    2.045</td> <td>   -1.471</td> <td> 0.141</td> <td>   -7.016</td> <td>    1.000</td>\n",
       "</tr>\n",
       "<tr>\n",
       "  <th>Hours_Worked_Per_Week_Decrease</th>          <td>   -2.3418</td> <td>    2.062</td> <td>   -1.136</td> <td> 0.256</td> <td>   -6.383</td> <td>    1.700</td>\n",
       "</tr>\n",
       "<tr>\n",
       "  <th>Demand_For_Product_Remain_the_Same</th>      <td>   -1.4109</td> <td>    0.764</td> <td>   -1.846</td> <td> 0.065</td> <td>   -2.909</td> <td>    0.087</td>\n",
       "</tr>\n",
       "<tr>\n",
       "  <th>Demand_For_Product_Decrease</th>             <td>   -3.7782</td> <td>    0.886</td> <td>   -4.263</td> <td> 0.000</td> <td>   -5.515</td> <td>   -2.041</td>\n",
       "</tr>\n",
       "<tr>\n",
       "  <th>Supply_Of_Raw_Materials_Remain_the_Same</th> <td>   -0.0338</td> <td>    0.764</td> <td>   -0.044</td> <td> 0.965</td> <td>   -1.532</td> <td>    1.464</td>\n",
       "</tr>\n",
       "<tr>\n",
       "  <th>Supply_Of_Raw_Materials_Decrease</th>        <td>   -1.2690</td> <td>    0.876</td> <td>   -1.449</td> <td> 0.147</td> <td>   -2.986</td> <td>    0.448</td>\n",
       "</tr>\n",
       "<tr>\n",
       "  <th>Financial_Performance_Remain_the_Same</th>   <td>    1.4088</td> <td>    0.736</td> <td>    1.913</td> <td> 0.056</td> <td>   -0.034</td> <td>    2.852</td>\n",
       "</tr>\n",
       "<tr>\n",
       "  <th>Financial_Performance_Decrease</th>          <td>   -1.5771</td> <td>    0.633</td> <td>   -2.493</td> <td> 0.013</td> <td>   -2.817</td> <td>   -0.337</td>\n",
       "</tr>\n",
       "<tr>\n",
       "  <th>Online_Business_No</th>                      <td>   -0.5804</td> <td>    0.618</td> <td>   -0.939</td> <td> 0.348</td> <td>   -1.792</td> <td>    0.631</td>\n",
       "</tr>\n",
       "</table>"
      ],
      "text/plain": [
       "<class 'statsmodels.iolib.summary.Summary'>\n",
       "\"\"\"\n",
       "                           Logit Regression Results                           \n",
       "==============================================================================\n",
       "Dep. Variable:      Sales_Performance   No. Observations:                  316\n",
       "Model:                          Logit   Df Residuals:                      297\n",
       "Method:                           MLE   Df Model:                           18\n",
       "Date:                Sun, 16 Aug 2020   Pseudo R-squ.:                  0.5321\n",
       "Time:                        22:46:13   Log-Likelihood:                -67.612\n",
       "converged:                      False   LL-Null:                       -144.50\n",
       "Covariance Type:            nonrobust   LLR p-value:                 1.365e-23\n",
       "===========================================================================================================\n",
       "                                              coef    std err          z      P>|z|      [0.025      0.975]\n",
       "-----------------------------------------------------------------------------------------------------------\n",
       "Intercept                                   3.5417      2.928      1.210      0.226      -2.197       9.280\n",
       "Idustry_Type_Retail                        -0.2157      0.676     -0.319      0.750      -1.540       1.109\n",
       "Idustry_Type_Other                         -0.6806      0.614     -1.109      0.268      -1.884       0.523\n",
       "Current_Situation_Open                      0.5496      1.080      0.509      0.611      -1.568       2.667\n",
       "Direct_Export_Low                         -17.8352   3.08e+04     -0.001      1.000   -6.04e+04    6.04e+04\n",
       "Direct_Export_Medium                       -0.6477      1.318     -0.491      0.623      -3.231       1.936\n",
       "Direct_Export_Very_Low                      0.6700      0.755      0.887      0.375      -0.810       2.150\n",
       "Indirect_Export_Low                        -0.9683      3.856     -0.251      0.802      -8.527       6.590\n",
       "Indirect_Export_Medium                    -10.8822     90.665     -0.120      0.904    -188.583     166.819\n",
       "Indirect_Export_Very_Low                    0.7363      1.609      0.458      0.647      -2.417       3.890\n",
       "Hours_Worked_Per_Week_Remain_the_Same      -3.0081      2.045     -1.471      0.141      -7.016       1.000\n",
       "Hours_Worked_Per_Week_Decrease             -2.3418      2.062     -1.136      0.256      -6.383       1.700\n",
       "Demand_For_Product_Remain_the_Same         -1.4109      0.764     -1.846      0.065      -2.909       0.087\n",
       "Demand_For_Product_Decrease                -3.7782      0.886     -4.263      0.000      -5.515      -2.041\n",
       "Supply_Of_Raw_Materials_Remain_the_Same    -0.0338      0.764     -0.044      0.965      -1.532       1.464\n",
       "Supply_Of_Raw_Materials_Decrease           -1.2690      0.876     -1.449      0.147      -2.986       0.448\n",
       "Financial_Performance_Remain_the_Same       1.4088      0.736      1.913      0.056      -0.034       2.852\n",
       "Financial_Performance_Decrease             -1.5771      0.633     -2.493      0.013      -2.817      -0.337\n",
       "Online_Business_No                         -0.5804      0.618     -0.939      0.348      -1.792       0.631\n",
       "===========================================================================================================\n",
       "\"\"\""
      ]
     },
     "execution_count": 84,
     "metadata": {},
     "output_type": "execute_result"
    }
   ],
   "source": [
    "logit_model.summary()"
   ]
  },
  {
   "cell_type": "markdown",
   "metadata": {},
   "source": [
    "## Train and Test split : Train for training the model , Test for validation check"
   ]
  },
  {
   "cell_type": "code",
   "execution_count": 86,
   "metadata": {},
   "outputs": [
    {
     "name": "stdout",
     "output_type": "stream",
     "text": [
      "train_shape : 252\n",
      "test_shape:  64\n"
     ]
    }
   ],
   "source": [
    "y = data.iloc[:,:1]\n",
    "X = data.iloc[:,1:]\n",
    "\n",
    "from sklearn.model_selection import train_test_split\n",
    "X_train,X_test, y_train,y_test = train_test_split(X,y,test_size = 0.2)\n",
    "\n",
    "print(\"train_shape :\" ,X_train.shape[0])\n",
    "print(\"test_shape: \" ,X_test.shape[0])"
   ]
  },
  {
   "cell_type": "markdown",
   "metadata": {},
   "source": [
    "### Checking the dependent variable in train data is balanced or not"
   ]
  },
  {
   "cell_type": "code",
   "execution_count": 88,
   "metadata": {},
   "outputs": [
    {
     "data": {
      "text/plain": [
       "<matplotlib.axes._subplots.AxesSubplot at 0x189507e6248>"
      ]
     },
     "execution_count": 88,
     "metadata": {},
     "output_type": "execute_result"
    },
    {
     "data": {
      "image/png": "[encoded data removed]",
      "text/plain": [
       "<Figure size 576x432 with 1 Axes>"
      ]
     },
     "metadata": {
      "needs_background": "light"
     },
     "output_type": "display_data"
    }
   ],
   "source": [
    "import matplotlib.pylab as plt\n",
    "import seaborn as sns\n",
    "plt.figure(figsize=(8,6))\n",
    "plt.title(\"Sales_Affected = 0, Sales_Not_Affected = 1\")\n",
    "sns.countplot(y_train[\"Sales_Performance\"])"
   ]
  },
  {
   "cell_type": "markdown",
   "metadata": {},
   "source": [
    "### Imbalanced dependent variable to balanced format through over sampling technique(SMOTE)"
   ]
  },
  {
   "cell_type": "code",
   "execution_count": 90,
   "metadata": {},
   "outputs": [],
   "source": [
    "from imblearn.over_sampling import SMOTE # For treating Imbalance of the output variable in train data.\n",
    "smote = SMOTE()\n",
    "X_train_smote,y_train_smote = smote.fit_sample(X_train,y_train)"
   ]
  },
  {
   "cell_type": "code",
   "execution_count": 91,
   "metadata": {},
   "outputs": [
    {
     "data": {
      "text/plain": [
       "<matplotlib.axes._subplots.AxesSubplot at 0x189531fd688>"
      ]
     },
     "execution_count": 91,
     "metadata": {},
     "output_type": "execute_result"
    },
    {
     "data": {
      "image/png": "[encoded data removed]",
      "text/plain": [
       "<Figure size 432x288 with 1 Axes>"
      ]
     },
     "metadata": {
      "needs_background": "light"
     },
     "output_type": "display_data"
    }
   ],
   "source": [
    "import matplotlib.pylab as plt\n",
    "plt.figure(figsize=(6,4))\n",
    "plt.title(\"Sales_Affected = 0, Sales_Not_Affected = 1\")\n",
    "sns.countplot(y_train_smote[\"Sales_Performance\"])"
   ]
  },
  {
   "cell_type": "markdown",
   "metadata": {},
   "source": [
    "### Model 1 Logistic Regression"
   ]
  },
  {
   "cell_type": "code",
   "execution_count": 92,
   "metadata": {},
   "outputs": [
    {
     "name": "stderr",
     "output_type": "stream",
     "text": [
      "C:\\Users\\Lenovo\\Anaconda3\\lib\\site-packages\\sklearn\\utils\\validation.py:73: DataConversionWarning: A column-vector y was passed when a 1d array was expected. Please change the shape of y to (n_samples, ), for example using ravel().\n",
      "  return f(**kwargs)\n"
     ]
    },
    {
     "name": "stdout",
     "output_type": "stream",
     "text": [
      "Confusion Matrix of Train data:\n",
      "[[194  16]\n",
      " [ 15 195]]\n",
      "Train Accuracy Score is : 92.61904761904762\n",
      " \n",
      " \n",
      "Confusion Matrix of Test data:\n",
      "[[51  1]\n",
      " [ 5  7]]\n",
      "Test Accuracy Score is : 90.625\n"
     ]
    }
   ],
   "source": [
    "from sklearn.linear_model import LogisticRegression\n",
    "classifier = LogisticRegression(random_state=0)\n",
    "classifier.fit(X_train_smote,y_train_smote)\n",
    "\n",
    "y_pred = classifier.predict(X_train_smote)\n",
    "from sklearn.metrics import confusion_matrix, accuracy_score\n",
    "print(\"Confusion Matrix of Train data:\")\n",
    "print(confusion_matrix(y_train_smote,y_pred))\n",
    "print(\"Train Accuracy Score is :\",accuracy_score(y_train_smote,y_pred)*100)\n",
    "print(\" \")\n",
    "print(\" \")\n",
    "y_pred = classifier.predict(X_test)\n",
    "from sklearn.metrics import confusion_matrix, accuracy_score\n",
    "print(\"Confusion Matrix of Test data:\")\n",
    "print(confusion_matrix(y_test,y_pred))\n",
    "print(\"Test Accuracy Score is :\",accuracy_score(y_test,y_pred)*100)"
   ]
  },
  {
   "cell_type": "markdown",
   "metadata": {},
   "source": [
    "## model 2: Logistic regression : except these following variables\n",
    "1. 'Production_Conversion_No',\n",
    "2. 'Received_Any_Establishment_No_but_expect_to_receive',\n",
    "3. 'Received_Any_Establishment_No', 'Remote_Work_Arrangements_No'"
   ]
  },
  {
   "cell_type": "code",
   "execution_count": 93,
   "metadata": {},
   "outputs": [
    {
     "name": "stdout",
     "output_type": "stream",
     "text": [
      "Confusion Matrix of Train data:\n",
      "[[194  16]\n",
      " [ 15 195]]\n",
      "Train Accuracy Score is : 92.61904761904762\n",
      " \n",
      " \n",
      "Confusion Matrix of Test data:\n",
      "[[51  1]\n",
      " [ 5  7]]\n",
      "Test Accuracy Score is : 90.625\n"
     ]
    },
    {
     "name": "stderr",
     "output_type": "stream",
     "text": [
      "C:\\Users\\Lenovo\\Anaconda3\\lib\\site-packages\\sklearn\\utils\\validation.py:73: DataConversionWarning: A column-vector y was passed when a 1d array was expected. Please change the shape of y to (n_samples, ), for example using ravel().\n",
      "  return f(**kwargs)\n"
     ]
    }
   ],
   "source": [
    "from sklearn.linear_model import LogisticRegression\n",
    "classifier = LogisticRegression(random_state=0)\n",
    "classifier.fit(X_train_smote,y_train_smote)\n",
    "\n",
    "y_pred = classifier.predict(X_train_smote)\n",
    "from sklearn.metrics import confusion_matrix, accuracy_score\n",
    "print(\"Confusion Matrix of Train data:\")\n",
    "print(confusion_matrix(y_train_smote,y_pred))\n",
    "print(\"Train Accuracy Score is :\",accuracy_score(y_train_smote,y_pred)*100)\n",
    "print(\" \")\n",
    "print(\" \")\n",
    "y_pred = classifier.predict(X_test)\n",
    "from sklearn.metrics import confusion_matrix, accuracy_score\n",
    "print(\"Confusion Matrix of Test data:\")\n",
    "print(confusion_matrix(y_test,y_pred))\n",
    "print(\"Test Accuracy Score is :\",accuracy_score(y_test,y_pred)*100)"
   ]
  },
  {
   "cell_type": "markdown",
   "metadata": {},
   "source": [
    "### Result of logistic regression"
   ]
  },
  {
   "cell_type": "code",
   "execution_count": 95,
   "metadata": {},
   "outputs": [
    {
     "data": {
      "text/plain": [
       "0"
      ]
     },
     "execution_count": 95,
     "metadata": {},
     "output_type": "execute_result"
    }
   ],
   "source": [
    "response = ['1','0','0','1','1','0','0','0','1','0','1','0','1','0','1','0','1','1']\n",
    "response = pd.DataFrame(response)\n",
    "response = response.T\n",
    "response = response.astype(int)\n",
    "pred = classifier.predict(response) \n",
    "pred[0]"
   ]
  },
  {
   "cell_type": "markdown",
   "metadata": {},
   "source": [
    "## model 3: K Nearest Neighbours (KNN) ,k=2"
   ]
  },
  {
   "cell_type": "code",
   "execution_count": 100,
   "metadata": {},
   "outputs": [
    {
     "name": "stdout",
     "output_type": "stream",
     "text": [
      "Confusion Matrix of Train data:\n",
      "[[203   7]\n",
      " [ 13 197]]\n",
      "Train Accuracy Score is : 95.23809523809523\n",
      " \n",
      " \n",
      "Confusion Matrix of Test data:\n",
      "[[52  0]\n",
      " [ 7  5]]\n",
      "Test Accuracy Score is : 89.0625\n"
     ]
    },
    {
     "name": "stderr",
     "output_type": "stream",
     "text": [
      "C:\\Users\\Lenovo\\Anaconda3\\lib\\site-packages\\ipykernel_launcher.py:4: DataConversionWarning: A column-vector y was passed when a 1d array was expected. Please change the shape of y to (n_samples, ), for example using ravel().\n",
      "  after removing the cwd from sys.path.\n"
     ]
    }
   ],
   "source": [
    "# K NEAREST NEIGHBOUR (KNN)\n",
    "from sklearn.neighbors import KNeighborsClassifier\n",
    "classifier = KNeighborsClassifier(n_neighbors=4)\n",
    "classifier.fit(X_train_smote,y_train_smote)\n",
    "y_pred = classifier.predict(X_train_smote)\n",
    "from sklearn.metrics import confusion_matrix, accuracy_score\n",
    "print(\"Confusion Matrix of Train data:\")\n",
    "print(confusion_matrix(y_train_smote,y_pred))\n",
    "print(\"Train Accuracy Score is :\",accuracy_score(y_train_smote,y_pred)*100)\n",
    "print(\" \")\n",
    "print(\" \")\n",
    "y_pred = classifier.predict(X_test)\n",
    "from sklearn.metrics import confusion_matrix, accuracy_score\n",
    "print(\"Confusion Matrix of Test data:\")\n",
    "print(confusion_matrix(y_test,y_pred))\n",
    "print(\"Test Accuracy Score is :\",accuracy_score(y_test,y_pred)*100)"
   ]
  },
  {
   "cell_type": "markdown",
   "metadata": {},
   "source": [
    "# Support Vector Machine Classifier model with Linear Kernel"
   ]
  },
  {
   "cell_type": "code",
   "execution_count": 101,
   "metadata": {},
   "outputs": [
    {
     "name": "stdout",
     "output_type": "stream",
     "text": [
      "Confusion Matrix of Train data:\n",
      "[[200  10]\n",
      " [ 15 195]]\n",
      "Train Accuracy Score is : 94.04761904761905\n",
      " \n",
      " \n",
      "Confusion Matrix of Test data:\n",
      "[[51  1]\n",
      " [ 6  6]]\n",
      "Test Accuracy Score is : 89.0625\n"
     ]
    },
    {
     "name": "stderr",
     "output_type": "stream",
     "text": [
      "C:\\Users\\Lenovo\\Anaconda3\\lib\\site-packages\\sklearn\\utils\\validation.py:73: DataConversionWarning: A column-vector y was passed when a 1d array was expected. Please change the shape of y to (n_samples, ), for example using ravel().\n",
      "  return f(**kwargs)\n"
     ]
    }
   ],
   "source": [
    "from sklearn.svm import SVC\n",
    "classifier = SVC(kernel = \"linear\")\n",
    "classifier.fit(X_train_smote,y_train_smote)\n",
    "y_pred = classifier.predict(X_train_smote)\n",
    "from sklearn.metrics import confusion_matrix, accuracy_score\n",
    "print(\"Confusion Matrix of Train data:\")\n",
    "print(confusion_matrix(y_train_smote,y_pred))\n",
    "print(\"Train Accuracy Score is :\",accuracy_score(y_train_smote,y_pred)*100)\n",
    "print(\" \")\n",
    "print(\" \")\n",
    "y_pred = classifier.predict(X_test)\n",
    "from sklearn.metrics import confusion_matrix, accuracy_score\n",
    "print(\"Confusion Matrix of Test data:\")\n",
    "print(confusion_matrix(y_test,y_pred))\n",
    "print(\"Test Accuracy Score is :\",accuracy_score(y_test,y_pred)*100)"
   ]
  },
  {
   "cell_type": "markdown",
   "metadata": {},
   "source": [
    "## Support Vector Machine Classifier model with Non Linear Kernel"
   ]
  },
  {
   "cell_type": "code",
   "execution_count": 102,
   "metadata": {},
   "outputs": [
    {
     "name": "stdout",
     "output_type": "stream",
     "text": [
      "Confusion Matrix of Train data:\n",
      "[[204   6]\n",
      " [  8 202]]\n",
      "Train Accuracy Score is : 96.66666666666667\n",
      " \n",
      " \n",
      "Confusion Matrix of Test data:\n",
      "[[51  1]\n",
      " [ 5  7]]\n",
      "Test Accuracy Score is : 90.625\n"
     ]
    },
    {
     "name": "stderr",
     "output_type": "stream",
     "text": [
      "C:\\Users\\Lenovo\\Anaconda3\\lib\\site-packages\\sklearn\\utils\\validation.py:73: DataConversionWarning: A column-vector y was passed when a 1d array was expected. Please change the shape of y to (n_samples, ), for example using ravel().\n",
      "  return f(**kwargs)\n"
     ]
    }
   ],
   "source": [
    "from sklearn.svm import SVC\n",
    "classifier = SVC(kernel = \"poly\")\n",
    "classifier.fit(X_train_smote,y_train_smote)\n",
    "y_pred = classifier.predict(X_train_smote)\n",
    "from sklearn.metrics import confusion_matrix, accuracy_score\n",
    "print(\"Confusion Matrix of Train data:\")\n",
    "print(confusion_matrix(y_train_smote,y_pred))\n",
    "print(\"Train Accuracy Score is :\",accuracy_score(y_train_smote,y_pred)*100)\n",
    "print(\" \")\n",
    "print(\" \")\n",
    "y_pred = classifier.predict(X_test)\n",
    "from sklearn.metrics import confusion_matrix, accuracy_score\n",
    "print(\"Confusion Matrix of Test data:\")\n",
    "print(confusion_matrix(y_test,y_pred))\n",
    "print(\"Test Accuracy Score is :\",accuracy_score(y_test,y_pred)*100)"
   ]
  },
  {
   "cell_type": "markdown",
   "metadata": {},
   "source": [
    "## Naive Bayes"
   ]
  },
  {
   "cell_type": "code",
   "execution_count": 103,
   "metadata": {},
   "outputs": [
    {
     "name": "stdout",
     "output_type": "stream",
     "text": [
      "Confusion Matrix of Train data:\n",
      "[[140  70]\n",
      " [  1 209]]\n",
      "Train Accuracy Score is : 83.0952380952381\n",
      " \n",
      " \n",
      "Confusion Matrix of Test data:\n",
      "[[31 21]\n",
      " [ 3  9]]\n",
      "Test Accuracy Score is : 62.5\n"
     ]
    },
    {
     "name": "stderr",
     "output_type": "stream",
     "text": [
      "C:\\Users\\Lenovo\\Anaconda3\\lib\\site-packages\\sklearn\\utils\\validation.py:73: DataConversionWarning: A column-vector y was passed when a 1d array was expected. Please change the shape of y to (n_samples, ), for example using ravel().\n",
      "  return f(**kwargs)\n"
     ]
    }
   ],
   "source": [
    "from sklearn.naive_bayes import GaussianNB\n",
    "classifier = GaussianNB()\n",
    "classifier.fit(X_train_smote,y_train_smote)\n",
    "y_pred = classifier.predict(X_train_smote)\n",
    "from sklearn.metrics import confusion_matrix, accuracy_score\n",
    "print(\"Confusion Matrix of Train data:\")\n",
    "print(confusion_matrix(y_train_smote,y_pred))\n",
    "print(\"Train Accuracy Score is :\",accuracy_score(y_train_smote,y_pred)*100)\n",
    "print(\" \")\n",
    "print(\" \")\n",
    "y_pred = classifier.predict(X_test)\n",
    "from sklearn.metrics import confusion_matrix, accuracy_score\n",
    "print(\"Confusion Matrix of Test data:\")\n",
    "print(confusion_matrix(y_test,y_pred))\n",
    "print(\"Test Accuracy Score is :\",accuracy_score(y_test,y_pred)*100)"
   ]
  },
  {
   "cell_type": "markdown",
   "metadata": {},
   "source": [
    "## Decision Tree classifier"
   ]
  },
  {
   "cell_type": "code",
   "execution_count": 104,
   "metadata": {},
   "outputs": [
    {
     "name": "stdout",
     "output_type": "stream",
     "text": [
      "Confusion Matrix of Train data:\n",
      "[[206   4]\n",
      " [  6 204]]\n",
      "Train Accuracy Score is : 97.61904761904762\n",
      " \n",
      " \n",
      "Confusion Matrix of Test data:\n",
      "[[48  4]\n",
      " [ 4  8]]\n",
      "Test Accuracy Score is : 87.5\n"
     ]
    }
   ],
   "source": [
    "from sklearn.tree import DecisionTreeClassifier\n",
    "classifier = DecisionTreeClassifier(criterion = 'entropy',random_state = 0)\n",
    "classifier.fit(X_train_smote,y_train_smote)\n",
    "y_pred = classifier.predict(X_train_smote)\n",
    "from sklearn.metrics import confusion_matrix, accuracy_score\n",
    "print(\"Confusion Matrix of Train data:\")\n",
    "print(confusion_matrix(y_train_smote,y_pred))\n",
    "print(\"Train Accuracy Score is :\",accuracy_score(y_train_smote,y_pred)*100)\n",
    "print(\" \")\n",
    "print(\" \")\n",
    "y_pred = classifier.predict(X_test)\n",
    "from sklearn.metrics import confusion_matrix, accuracy_score\n",
    "print(\"Confusion Matrix of Test data:\")\n",
    "print(confusion_matrix(y_test,y_pred))\n",
    "print(\"Test Accuracy Score is :\",accuracy_score(y_test,y_pred)*100)"
   ]
  },
  {
   "cell_type": "markdown",
   "metadata": {},
   "source": [
    "## Random Forest"
   ]
  },
  {
   "cell_type": "code",
   "execution_count": 105,
   "metadata": {},
   "outputs": [
    {
     "name": "stderr",
     "output_type": "stream",
     "text": [
      "C:\\Users\\Lenovo\\Anaconda3\\lib\\site-packages\\ipykernel_launcher.py:3: DataConversionWarning: A column-vector y was passed when a 1d array was expected. Please change the shape of y to (n_samples,), for example using ravel().\n",
      "  This is separate from the ipykernel package so we can avoid doing imports until\n"
     ]
    },
    {
     "name": "stdout",
     "output_type": "stream",
     "text": [
      "Confusion Matrix of Train data:\n",
      "[[206   4]\n",
      " [  6 204]]\n",
      "Train Accuracy Score is : 97.61904761904762\n",
      " \n",
      " \n",
      "Confusion Matrix of Test data:\n",
      "[[51  1]\n",
      " [ 5  7]]\n",
      "Test Accuracy Score is : 90.625\n"
     ]
    }
   ],
   "source": [
    "from sklearn.ensemble import RandomForestClassifier\n",
    "classifier = RandomForestClassifier(n_estimators = 80,criterion = 'entropy',random_state = 0)\n",
    "classifier.fit(X_train_smote,y_train_smote)\n",
    "y_pred = classifier.predict(X_train_smote)\n",
    "from sklearn.metrics import confusion_matrix, accuracy_score\n",
    "print(\"Confusion Matrix of Train data:\")\n",
    "print(confusion_matrix(y_train_smote,y_pred))\n",
    "print(\"Train Accuracy Score is :\",accuracy_score(y_train_smote,y_pred)*100)\n",
    "print(\" \")\n",
    "print(\" \")\n",
    "y_pred = classifier.predict(X_test)\n",
    "from sklearn.metrics import confusion_matrix, accuracy_score\n",
    "print(\"Confusion Matrix of Test data:\")\n",
    "print(confusion_matrix(y_test,y_pred))\n",
    "print(\"Test Accuracy Score is :\",accuracy_score(y_test,y_pred)*100)"
   ]
  },
  {
   "cell_type": "code",
   "execution_count": 106,
   "metadata": {},
   "outputs": [
    {
     "name": "stderr",
     "output_type": "stream",
     "text": [
      "C:\\Users\\Lenovo\\Anaconda3\\lib\\site-packages\\sklearn\\utils\\validation.py:73: DataConversionWarning: A column-vector y was passed when a 1d array was expected. Please change the shape of y to (n_samples, ), for example using ravel().\n",
      "  return f(**kwargs)\n"
     ]
    },
    {
     "name": "stdout",
     "output_type": "stream",
     "text": [
      "Confusion Matrix of Train data:\n",
      "[[204   6]\n",
      " [  5 205]]\n",
      "Train Accuracy Score is : 97.38095238095238\n",
      " \n",
      " \n",
      "Confusion Matrix of Test data:\n",
      "[[49  3]\n",
      " [ 5  7]]\n",
      "Test Accuracy Score is : 87.5\n"
     ]
    }
   ],
   "source": [
    "from xgboost import XGBClassifier\n",
    "classifier = XGBClassifier()\n",
    "classifier.fit(X_train_smote,y_train_smote)\n",
    "y_pred = classifier.predict(X_train_smote)\n",
    "from sklearn.metrics import confusion_matrix, accuracy_score\n",
    "print(\"Confusion Matrix of Train data:\")\n",
    "print(confusion_matrix(y_train_smote,y_pred))\n",
    "print(\"Train Accuracy Score is :\",accuracy_score(y_train_smote,y_pred)*100)\n",
    "print(\" \")\n",
    "print(\" \")\n",
    "y_pred = classifier.predict(X_test)\n",
    "from sklearn.metrics import confusion_matrix, accuracy_score\n",
    "print(\"Confusion Matrix of Test data:\")\n",
    "print(confusion_matrix(y_test,y_pred))\n",
    "print(\"Test Accuracy Score is :\",accuracy_score(y_test,y_pred)*100)"
   ]
  },
  {
   "cell_type": "markdown",
   "metadata": {},
   "source": [
    "## Random Forest with parameter tuning"
   ]
  },
  {
   "cell_type": "code",
   "execution_count": 138,
   "metadata": {},
   "outputs": [
    {
     "name": "stderr",
     "output_type": "stream",
     "text": [
      "C:\\Users\\Lenovo\\Anaconda3\\lib\\site-packages\\ipykernel_launcher.py:3: DataConversionWarning: A column-vector y was passed when a 1d array was expected. Please change the shape of y to (n_samples,), for example using ravel().\n",
      "  This is separate from the ipykernel package so we can avoid doing imports until\n"
     ]
    },
    {
     "name": "stdout",
     "output_type": "stream",
     "text": [
      "Confusion Matrix of Train data:\n",
      "[[204   6]\n",
      " [  8 202]]\n",
      "Train Accuracy Score is : 96.66666666666667\n",
      " \n",
      " \n",
      "Confusion Matrix of Test data:\n",
      "[[52  0]\n",
      " [ 4  8]]\n",
      "Test Accuracy Score is : 93.75\n"
     ]
    }
   ],
   "source": [
    "from sklearn.ensemble import RandomForestClassifier\n",
    "classifier = RandomForestClassifier(min_impurity_decrease=0.0001,n_estimators = 100,criterion = 'entropy',random_state = 0,min_samples_leaf=2,ccp_alpha=0.001)\n",
    "classifier.fit(X_train_smote,y_train_smote)\n",
    "y_pred = classifier.predict(X_train_smote)\n",
    "from sklearn.metrics import confusion_matrix, accuracy_score\n",
    "print(\"Confusion Matrix of Train data:\")\n",
    "print(confusion_matrix(y_train_smote,y_pred))\n",
    "print(\"Train Accuracy Score is :\",accuracy_score(y_train_smote,y_pred)*100)\n",
    "print(\" \")\n",
    "print(\" \")\n",
    "y_pred = classifier.predict(X_test)\n",
    "from sklearn.metrics import confusion_matrix, accuracy_score\n",
    "print(\"Confusion Matrix of Test data:\")\n",
    "print(confusion_matrix(y_test,y_pred))\n",
    "print(\"Test Accuracy Score is :\",accuracy_score(y_test,y_pred)*100)"
   ]
  },
  {
   "cell_type": "code",
   "execution_count": 139,
   "metadata": {},
   "outputs": [],
   "source": [
    "#Selecting Random Forest\n",
    "import pickle\n",
    "pickle.dump(classifier,open('model.pkl','wb'))"
   ]
  },
  {
   "cell_type": "code",
   "execution_count": 107,
   "metadata": {},
   "outputs": [],
   "source": [
    "X_train_smote.to_csv('X_train_smote.csv',encoding = 'utf-8')\n",
    "y_train_smote.to_csv('y_train_smote.csv',encoding = 'utf-8')\n",
    "X_test.to_csv('X_test.csv',encoding = 'utf-8')\n",
    "y_test.to_csv('y_test.csv',encoding = 'utf-8')\n",
    "X_train.to_csv('X_train.csv',encoding = 'utf-8')\n",
    "y_train.to_csv('y_train.csv',encoding = 'utf-8')"
   ]
  }
 ],
 "metadata": {
  "kernelspec": {
   "display_name": "Python 3",
   "language": "python",
   "name": "python3"
  },
  "language_info": {
   "codemirror_mode": {
    "name": "ipython",
    "version": 3
   },
   "file_extension": ".py",
   "mimetype": "text/x-python",
   "name": "python",
   "nbconvert_exporter": "python",
   "pygments_lexer": "ipython3",
   "version": "3.7.4"
  }
 },
 "nbformat": 4,
 "nbformat_minor": 4
}
